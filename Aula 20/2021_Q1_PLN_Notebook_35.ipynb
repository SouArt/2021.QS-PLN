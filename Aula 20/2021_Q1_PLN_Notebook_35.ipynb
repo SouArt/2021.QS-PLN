{
  "nbformat": 4,
  "nbformat_minor": 0,
  "metadata": {
    "kernelspec": {
      "display_name": "Python 3",
      "language": "python",
      "name": "python3"
    },
    "language_info": {
      "codemirror_mode": {
        "name": "ipython",
        "version": 3
      },
      "file_extension": ".py",
      "mimetype": "text/x-python",
      "name": "python",
      "nbconvert_exporter": "python",
      "pygments_lexer": "ipython3",
      "version": "3.7.4"
    },
    "colab": {
      "name": "2021-Q1 PLN Notebook 35.ipynb",
      "provenance": [],
      "collapsed_sections": [],
      "include_colab_link": true
    }
  },
  "cells": [
    {
      "cell_type": "markdown",
      "metadata": {
        "id": "view-in-github",
        "colab_type": "text"
      },
      "source": [
        "<a href=\"https://colab.research.google.com/github/adalves-ufabc/2021.QS-PLN/blob/main/2021_Q1_PLN_Notebook_35.ipynb\" target=\"_parent\"><img src=\"https://colab.research.google.com/assets/colab-badge.svg\" alt=\"Open In Colab\"/></a>"
      ]
    },
    {
      "cell_type": "markdown",
      "metadata": {
        "id": "gRbwykzANyfZ"
      },
      "source": [
        "# **Processamento de Linguagem Natural [2021.Q1]**\n",
        "Prof. Alexandre Donizeti Alves"
      ]
    },
    {
      "cell_type": "markdown",
      "metadata": {
        "id": "gsuqWK7qM_PX"
      },
      "source": [
        "### **Reconhecimento de Entidades Nomeadas** \n",
        "----\n",
        "\n",
        "No notebook anterior, usamos modelos pré-treinados para fazer o reconhecimento de entidades nomeadas. Esses modelos pré-treinados são simples de usar, mas eles podem falhar em obter bons resultados se os dados diferem de alguma maneira do tipo de dados usado para o treinamento. Para melhorar o desemepnho em tarefas fora daquele domínio usado para o treinamento, podemos refinar esses modelos treinando em novos dados. O próprio `spaCy` permite que isso seja feito, permitindo tanto treinar um modelo a partir do zero, ou refinar um modelo pré-treinando, incorporando novos elementos."
      ]
    },
    {
      "cell_type": "markdown",
      "metadata": {
        "id": "PN9bmbsrO-Hd"
      },
      "source": [
        "### **Um exemplo**\n",
        "\n",
        "No final do notebook anterior, usamos o modelo de reconhecimento de entidades nomeadas do `spaCy` para reconhecer entidades em uma notícia sobre a desistência de compra da Embraer pela Boeing. Como pôde ser observado, o modelo reconheceu a Boeing como uma empresa, mas o termo Embraer foi reconhecido como pessoa, localização e como organização. Isso se deve ao fato de Embraer não ocorrer no corpus em que o modelo foi treinado. \n",
        "\n",
        "Vamos reaplicar o modelo a um trecho daquela notícia:"
      ]
    },
    {
      "cell_type": "code",
      "metadata": {
        "id": "TkWgUiUPM_PY"
      },
      "source": [
        "import spacy\n",
        "from spacy import displacy\n",
        "\n",
        "# precisa fazer download do modelo com o comando\n",
        "# !python -m spacy download en\n",
        "import en_core_web_sm\n",
        "nlp = en_core_web_sm.load()"
      ],
      "execution_count": 1,
      "outputs": []
    },
    {
      "cell_type": "code",
      "metadata": {
        "id": "ZWIeNeb5M_PY"
      },
      "source": [
        "text = \"\"\"Walking away from the deal will help Boeing conserve cash at a time when it is facing a litany of \n",
        "          problems. The spread of the coronavirus forced the aerospace giant to temporarily close factories, \n",
        "          although it has reopened some of them. And a steep drop in travel has prompted airlines around the \n",
        "          world to cancel orders. Boeing said it had decided to end two years of talks with Embraer, \n",
        "          a Brazilian plane maker, after a Friday night deadline passed without Embraer meeting certain \n",
        "          conditions, which Boeing would not specify.\"\"\""
      ],
      "execution_count": 2,
      "outputs": []
    },
    {
      "cell_type": "code",
      "metadata": {
        "colab": {
          "base_uri": "https://localhost:8080/",
          "height": 227
        },
        "id": "adF0SW41M_PY",
        "outputId": "680ca18e-d30d-42fe-ce5d-122526346a9b"
      },
      "source": [
        "sent = nlp(text)\n",
        "displacy.render(sent, jupyter=True, style='ent')"
      ],
      "execution_count": 3,
      "outputs": [
        {
          "output_type": "display_data",
          "data": {
            "text/html": [
              "<span class=\"tex2jax_ignore\"><div class=\"entities\" style=\"line-height: 2.5; direction: ltr\">Walking away from the deal will help \n",
              "<mark class=\"entity\" style=\"background: #7aecec; padding: 0.45em 0.6em; margin: 0 0.25em; line-height: 1; border-radius: 0.35em;\">\n",
              "    Boeing\n",
              "    <span style=\"font-size: 0.8em; font-weight: bold; line-height: 1; border-radius: 0.35em; text-transform: uppercase; vertical-align: middle; margin-left: 0.5rem\">ORG</span>\n",
              "</mark>\n",
              " conserve cash at a time when it is facing a litany of </br>          problems. The spread of the coronavirus forced the aerospace giant to temporarily close factories, </br>          although it has reopened some of them. And a steep drop in travel has prompted airlines around the </br>          world to cancel orders. \n",
              "<mark class=\"entity\" style=\"background: #7aecec; padding: 0.45em 0.6em; margin: 0 0.25em; line-height: 1; border-radius: 0.35em;\">\n",
              "    Boeing\n",
              "    <span style=\"font-size: 0.8em; font-weight: bold; line-height: 1; border-radius: 0.35em; text-transform: uppercase; vertical-align: middle; margin-left: 0.5rem\">ORG</span>\n",
              "</mark>\n",
              " said it had decided to end \n",
              "<mark class=\"entity\" style=\"background: #bfe1d9; padding: 0.45em 0.6em; margin: 0 0.25em; line-height: 1; border-radius: 0.35em;\">\n",
              "    two years\n",
              "    <span style=\"font-size: 0.8em; font-weight: bold; line-height: 1; border-radius: 0.35em; text-transform: uppercase; vertical-align: middle; margin-left: 0.5rem\">DATE</span>\n",
              "</mark>\n",
              " of talks with \n",
              "<mark class=\"entity\" style=\"background: #feca74; padding: 0.45em 0.6em; margin: 0 0.25em; line-height: 1; border-radius: 0.35em;\">\n",
              "    Embraer\n",
              "    <span style=\"font-size: 0.8em; font-weight: bold; line-height: 1; border-radius: 0.35em; text-transform: uppercase; vertical-align: middle; margin-left: 0.5rem\">GPE</span>\n",
              "</mark>\n",
              ", </br>          a \n",
              "<mark class=\"entity\" style=\"background: #c887fb; padding: 0.45em 0.6em; margin: 0 0.25em; line-height: 1; border-radius: 0.35em;\">\n",
              "    Brazilian\n",
              "    <span style=\"font-size: 0.8em; font-weight: bold; line-height: 1; border-radius: 0.35em; text-transform: uppercase; vertical-align: middle; margin-left: 0.5rem\">NORP</span>\n",
              "</mark>\n",
              " plane maker, after a \n",
              "<mark class=\"entity\" style=\"background: #bfe1d9; padding: 0.45em 0.6em; margin: 0 0.25em; line-height: 1; border-radius: 0.35em;\">\n",
              "    Friday\n",
              "    <span style=\"font-size: 0.8em; font-weight: bold; line-height: 1; border-radius: 0.35em; text-transform: uppercase; vertical-align: middle; margin-left: 0.5rem\">DATE</span>\n",
              "</mark>\n",
              " night deadline passed without \n",
              "<mark class=\"entity\" style=\"background: #feca74; padding: 0.45em 0.6em; margin: 0 0.25em; line-height: 1; border-radius: 0.35em;\">\n",
              "    Embraer\n",
              "    <span style=\"font-size: 0.8em; font-weight: bold; line-height: 1; border-radius: 0.35em; text-transform: uppercase; vertical-align: middle; margin-left: 0.5rem\">GPE</span>\n",
              "</mark>\n",
              " meeting certain </br>          conditions, which \n",
              "<mark class=\"entity\" style=\"background: #7aecec; padding: 0.45em 0.6em; margin: 0 0.25em; line-height: 1; border-radius: 0.35em;\">\n",
              "    Boeing\n",
              "    <span style=\"font-size: 0.8em; font-weight: bold; line-height: 1; border-radius: 0.35em; text-transform: uppercase; vertical-align: middle; margin-left: 0.5rem\">ORG</span>\n",
              "</mark>\n",
              " would not specify.</div></span>"
            ],
            "text/plain": [
              "<IPython.core.display.HTML object>"
            ]
          },
          "metadata": {
            "tags": []
          }
        }
      ]
    },
    {
      "cell_type": "markdown",
      "metadata": {
        "id": "BRxzTJt5M_Pc"
      },
      "source": [
        "Nesse trecho, Embraer é reconhecido duas vezes como localização (GPE). Podemos corrigir isso dando ao modelo mais dados de treinamento. Obviamente, não iremos fornecer a mesma sentença acima para evitar um ajuste específico para essa sentença (*overfitting* - sobreajuste ou superajuste). Ao contrário, vamos usar sentenças que mencionam essa entidade alvo. \n",
        "\n",
        "Foram selecionadas três frases que mencionam Embraer (https://en.wikipedia.org/wiki/Embraer), e anotadas com o rótulo da entidade. A rotulação segue o esquema BILUO, que coloca no início do rótulo o termo \"B-\" (Begin - início),  \"I-\" (Inside - dentro), \"L-\" (Last - último), \"U-\" (Unit - unitário), \"O-\" (Out - fora), para tokens no início, dentro, último, unitário e fora de uma entidade, respectivamente. \n",
        "\n",
        ">\n",
        "\n",
        "![image.png](data:image/png;base64,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)\n",
        "\n",
        "\n",
        "As três sentenças selecionadas e anotadas são listadas a seguir:\n"
      ]
    },
    {
      "cell_type": "code",
      "metadata": {
        "id": "ZgPKJoSgM_Pc"
      },
      "source": [
        "training_texts = [\n",
        "   ([\"Embraer\", \"S.A.\", \"is\", \"a\",  \"Brazilian\",  \"aerospace\", \"conglomerate\", \"that\", \"produces\", \"commercial\", \n",
        "    \"military\", \"executive\", \"and\", \"agricultural\", \"aircraft\", \"and\", \"provides\", \"aeronautical\", \"services\"],\n",
        "    [\"B-ORG\", \"L-ORG\", \"O\", \"O\",  \"U-NORP\",  \"O\", \"O\", \"O\", \"O\", \"O\", \"O\",\n",
        "     \"O\", \"O\", \"O\", \"O\", \"O\", \"O\", \"O\", \"O\"]),\n",
        "   ([\"The\", \"Brazilian\", \"government\", \"contributed\", \"to\", \"Embraer\", \"'s\", \"early\", \"growth\", \"by\", \n",
        "     \"providing\", \"production\", \"contracts\"],\n",
        "    [\"O\", \"U-NORP\", \"O\", \"O\", \"O\", \"U-ORG\", \"O\", \"O\", \"O\", \"O\", \"O\", \"O\", \"O\"]),\n",
        "   ([\"While\", \"military\", \"aircraft\", \"made\", \"up\", \"the\", \"majority\", \"of\", \"Embraer\", \"'s\",\n",
        "     \"products\", \"during\", \"the\", \"1970s\", \"and\", \"early\", \"1980s\"],\n",
        "    [\"O\", \"O\", \"O\", \"O\", \"O\", \"O\", \"O\", \"O\", \"U-ORG\", \"O\",\n",
        "     \"O\", \"O\", \"O\", \"U-DATE\", \"O\", \"O\", \"U-DATE\"])]"
      ],
      "execution_count": 5,
      "outputs": []
    },
    {
      "cell_type": "markdown",
      "metadata": {
        "id": "yJMyrnGgM_Pc"
      },
      "source": [
        "Para cada uma dessas sentenças, vamos criar um objeto *`document`* do `spaCy`, e adicionar ao modelo que estamos usando. As sentenças já estão tokenizadas, então não é necessário efetuar essa tarefa. Os tokens desse documento com os rótulos corretos são unidos em um objeto do tipo `GoldParse` (em alusão ao \"padrão ouro\", usado na medicina para designar o exame usado como referência para diagnosticar uma doença). "
      ]
    },
    {
      "cell_type": "code",
      "metadata": {
        "id": "1an9nENXM_Pd"
      },
      "source": [
        "from spacy.tokens import Doc\n",
        "from spacy.gold import GoldParse\n",
        "\n",
        "training_data = []\n",
        "for tokens, annotation in training_texts:\n",
        "    doc = Doc(nlp.vocab, words=tokens)\n",
        "    gold = GoldParse(doc, entities=annotation)\n",
        "    training_data.append((doc, gold))"
      ],
      "execution_count": 6,
      "outputs": []
    },
    {
      "cell_type": "markdown",
      "metadata": {
        "id": "rYFFOiyvM_Pd"
      },
      "source": [
        "Podemos agora fazer o treinamento. Isso significa que o modelo que estamos usando irá acessar o conjunto de dados de treinamento, de preferência várias vezes. Cada etapa é chamada de uma **época**, e para melhorar a convergência, em cada época fazemos um embaralhamento dos dados de treinamento. No exemplo, o processo é repetido 10 vezes.\n"
      ]
    },
    {
      "cell_type": "code",
      "metadata": {
        "id": "fQldNyDnM_Pd"
      },
      "source": [
        "import random\n",
        "\n",
        "for _ in range(10):\n",
        "    random.shuffle(training_data)\n",
        "    for doc, gold in training_data:\n",
        "        nlp.update([doc], [gold], drop=0.3)"
      ],
      "execution_count": 7,
      "outputs": []
    },
    {
      "cell_type": "markdown",
      "metadata": {
        "id": "OnIo-lFuM_Pe"
      },
      "source": [
        "Vamos agora repetir o processo de identificação das entidades, com o modelo refinado. A saída mostra que a entidade Embraer é corretamente reconhecida como uma organização."
      ]
    },
    {
      "cell_type": "code",
      "metadata": {
        "id": "1fTUcuaZM_Pe",
        "colab": {
          "base_uri": "https://localhost:8080/",
          "height": 227
        },
        "outputId": "a2ecdcd2-cf74-4d81-ef06-33ec16385834"
      },
      "source": [
        "sent = nlp(text)\n",
        "displacy.render(sent, jupyter=True, style='ent')"
      ],
      "execution_count": 8,
      "outputs": [
        {
          "output_type": "display_data",
          "data": {
            "text/html": [
              "<span class=\"tex2jax_ignore\"><div class=\"entities\" style=\"line-height: 2.5; direction: ltr\">Walking away from the deal will help \n",
              "<mark class=\"entity\" style=\"background: #7aecec; padding: 0.45em 0.6em; margin: 0 0.25em; line-height: 1; border-radius: 0.35em;\">\n",
              "    Boeing\n",
              "    <span style=\"font-size: 0.8em; font-weight: bold; line-height: 1; border-radius: 0.35em; text-transform: uppercase; vertical-align: middle; margin-left: 0.5rem\">ORG</span>\n",
              "</mark>\n",
              " conserve cash at a time when it is facing a litany of </br>          problems. The spread of the coronavirus forced the aerospace giant to temporarily close factories, </br>          although it has reopened some of them. And a steep drop in travel has prompted airlines around the </br>          world to cancel orders. \n",
              "<mark class=\"entity\" style=\"background: #7aecec; padding: 0.45em 0.6em; margin: 0 0.25em; line-height: 1; border-radius: 0.35em;\">\n",
              "    Boeing\n",
              "    <span style=\"font-size: 0.8em; font-weight: bold; line-height: 1; border-radius: 0.35em; text-transform: uppercase; vertical-align: middle; margin-left: 0.5rem\">ORG</span>\n",
              "</mark>\n",
              " said it had decided to end \n",
              "<mark class=\"entity\" style=\"background: #bfe1d9; padding: 0.45em 0.6em; margin: 0 0.25em; line-height: 1; border-radius: 0.35em;\">\n",
              "    two years\n",
              "    <span style=\"font-size: 0.8em; font-weight: bold; line-height: 1; border-radius: 0.35em; text-transform: uppercase; vertical-align: middle; margin-left: 0.5rem\">DATE</span>\n",
              "</mark>\n",
              " of talks with \n",
              "<mark class=\"entity\" style=\"background: #7aecec; padding: 0.45em 0.6em; margin: 0 0.25em; line-height: 1; border-radius: 0.35em;\">\n",
              "    Embraer\n",
              "    <span style=\"font-size: 0.8em; font-weight: bold; line-height: 1; border-radius: 0.35em; text-transform: uppercase; vertical-align: middle; margin-left: 0.5rem\">ORG</span>\n",
              "</mark>\n",
              ", </br>          a \n",
              "<mark class=\"entity\" style=\"background: #c887fb; padding: 0.45em 0.6em; margin: 0 0.25em; line-height: 1; border-radius: 0.35em;\">\n",
              "    Brazilian\n",
              "    <span style=\"font-size: 0.8em; font-weight: bold; line-height: 1; border-radius: 0.35em; text-transform: uppercase; vertical-align: middle; margin-left: 0.5rem\">NORP</span>\n",
              "</mark>\n",
              " plane maker, after a \n",
              "<mark class=\"entity\" style=\"background: #bfe1d9; padding: 0.45em 0.6em; margin: 0 0.25em; line-height: 1; border-radius: 0.35em;\">\n",
              "    Friday\n",
              "    <span style=\"font-size: 0.8em; font-weight: bold; line-height: 1; border-radius: 0.35em; text-transform: uppercase; vertical-align: middle; margin-left: 0.5rem\">DATE</span>\n",
              "</mark>\n",
              " night deadline passed without \n",
              "<mark class=\"entity\" style=\"background: #7aecec; padding: 0.45em 0.6em; margin: 0 0.25em; line-height: 1; border-radius: 0.35em;\">\n",
              "    Embraer\n",
              "    <span style=\"font-size: 0.8em; font-weight: bold; line-height: 1; border-radius: 0.35em; text-transform: uppercase; vertical-align: middle; margin-left: 0.5rem\">ORG</span>\n",
              "</mark>\n",
              " meeting certain </br>          conditions, which \n",
              "<mark class=\"entity\" style=\"background: #7aecec; padding: 0.45em 0.6em; margin: 0 0.25em; line-height: 1; border-radius: 0.35em;\">\n",
              "    Boeing\n",
              "    <span style=\"font-size: 0.8em; font-weight: bold; line-height: 1; border-radius: 0.35em; text-transform: uppercase; vertical-align: middle; margin-left: 0.5rem\">ORG</span>\n",
              "</mark>\n",
              " would not specify.</div></span>"
            ],
            "text/plain": [
              "<IPython.core.display.HTML object>"
            ]
          },
          "metadata": {
            "tags": []
          }
        }
      ]
    },
    {
      "cell_type": "markdown",
      "metadata": {
        "id": "dJdEL4yt0TCm"
      },
      "source": [
        "### **Outro exemplo**"
      ]
    },
    {
      "cell_type": "code",
      "metadata": {
        "colab": {
          "base_uri": "https://localhost:8080/",
          "height": 510
        },
        "id": "bSI7RKYx0X_y",
        "outputId": "73bf9c4e-0c00-437c-d2af-4c612a574254"
      },
      "source": [
        "from IPython.display import HTML, display\n",
        "import tabulate\n",
        "import spacy\n",
        "\n",
        "nlp = spacy.load(\"en\")\n",
        "text = \"Theresa May is a British politician serving as Prime Minister of the United Kingdom and Leader of the Conservative Party since 2016. \"\n",
        "\n",
        "doc = nlp(text)\n",
        "entities = [(t.text, t.ent_iob_, t.ent_type_) for t in doc]\n",
        "display(HTML(tabulate.tabulate(entities, tablefmt='html')))"
      ],
      "execution_count": 8,
      "outputs": [
        {
          "output_type": "display_data",
          "data": {
            "text/html": [
              "<table>\n",
              "<tbody>\n",
              "<tr><td>Theresa     </td><td>B</td><td>PERSON</td></tr>\n",
              "<tr><td>May         </td><td>I</td><td>PERSON</td></tr>\n",
              "<tr><td>is          </td><td>O</td><td>      </td></tr>\n",
              "<tr><td>a           </td><td>O</td><td>      </td></tr>\n",
              "<tr><td>British     </td><td>B</td><td>NORP  </td></tr>\n",
              "<tr><td>politician  </td><td>O</td><td>      </td></tr>\n",
              "<tr><td>serving     </td><td>O</td><td>      </td></tr>\n",
              "<tr><td>as          </td><td>O</td><td>      </td></tr>\n",
              "<tr><td>Prime       </td><td>O</td><td>      </td></tr>\n",
              "<tr><td>Minister    </td><td>O</td><td>      </td></tr>\n",
              "<tr><td>of          </td><td>O</td><td>      </td></tr>\n",
              "<tr><td>the         </td><td>B</td><td>GPE   </td></tr>\n",
              "<tr><td>United      </td><td>I</td><td>GPE   </td></tr>\n",
              "<tr><td>Kingdom     </td><td>I</td><td>GPE   </td></tr>\n",
              "<tr><td>and         </td><td>O</td><td>      </td></tr>\n",
              "<tr><td>Leader      </td><td>B</td><td>ORG   </td></tr>\n",
              "<tr><td>of          </td><td>I</td><td>ORG   </td></tr>\n",
              "<tr><td>the         </td><td>I</td><td>ORG   </td></tr>\n",
              "<tr><td>Conservative</td><td>I</td><td>ORG   </td></tr>\n",
              "<tr><td>Party       </td><td>I</td><td>ORG   </td></tr>\n",
              "<tr><td>since       </td><td>O</td><td>      </td></tr>\n",
              "<tr><td>2016        </td><td>B</td><td>DATE  </td></tr>\n",
              "<tr><td>.           </td><td>O</td><td>      </td></tr>\n",
              "</tbody>\n",
              "</table>"
            ],
            "text/plain": [
              "<IPython.core.display.HTML object>"
            ]
          },
          "metadata": {
            "tags": []
          }
        }
      ]
    },
    {
      "cell_type": "markdown",
      "metadata": {
        "id": "QF_XolhI0msg"
      },
      "source": [
        "`spaCy` reconhece com sucesso *British* como uma nacionalidade (NORP), *United Kingdom* como uma entidade geopolítica (GPE), *Conservative Party* como uma organização (ORG) e 2016 como uma data. Além disso, reconhece \"Theresa May\" como uma pessoa. **Antes, o `spaCy` rotulava \"Theresa\" como uma organização e \"May\" como uma data.**"
      ]
    },
    {
      "cell_type": "markdown",
      "metadata": {
        "id": "PIHI-rprM_Pe"
      },
      "source": [
        "### **Refinando um modelo com um corpus pré-rotulado**\n",
        "\n",
        "No entanto, na prática, precisamos de muito mais do que três exemplos. Se tivermos um corpus maior já rotulado, podemos refinar um modelo para uma tarefa específica. Por exemplo, podemos usar uma base de dados de currículos previamente rotulada com profissão, conhecimentos e cursos, ou prontuários médicos que já foram rotulados com sintomas e doenças etc., e usar esses dados para treinar um modelo de reconhecimento de entidades para extrair informações de milhares de documentos não rotulados.\n",
        "\n",
        "Como exemplo, vamos treinar um reconhecedor de entidades nomeadas em dados em Holandês, que foram coletados para uma competição chamada [CoNLL-2002](https://www.clips.uantwerpen.be/conll2002/ner/). \n",
        "\n",
        "Esses dados podem ser baixados do GitHub. Vamos usar o comando `curl` para baixar. Caso não tenha em seu sistema, pode baixar diretamente a partir do GitHub. "
      ]
    },
    {
      "cell_type": "code",
      "metadata": {
        "id": "QZlcSnzvM_Pe",
        "colab": {
          "base_uri": "https://localhost:8080/"
        },
        "outputId": "ae2db3cf-2b62-4d87-e14a-294ceca21d00"
      },
      "source": [
        "!curl -O https://raw.githubusercontent.com/teropa/nlp/master/resources/corpora/conll2002/ned.train"
      ],
      "execution_count": 9,
      "outputs": [
        {
          "output_type": "stream",
          "text": [
            "  % Total    % Received % Xferd  Average Speed   Time    Time     Time  Current\n",
            "                                 Dload  Upload   Total   Spent    Left  Speed\n",
            "100 2321k  100 2321k    0     0  6847k      0 --:--:-- --:--:-- --:--:-- 6847k\n"
          ],
          "name": "stdout"
        }
      ]
    },
    {
      "cell_type": "code",
      "metadata": {
        "id": "LuRG9D0IM_Pf",
        "colab": {
          "base_uri": "https://localhost:8080/"
        },
        "outputId": "0bd8fb25-c2b3-419a-9fe3-7905a836e6e4"
      },
      "source": [
        "!curl -O https://raw.githubusercontent.com/teropa/nlp/master/resources/corpora/conll2002/ned.testa "
      ],
      "execution_count": 10,
      "outputs": [
        {
          "output_type": "stream",
          "text": [
            "  % Total    % Received % Xferd  Average Speed   Time    Time     Time  Current\n",
            "                                 Dload  Upload   Total   Spent    Left  Speed\n",
            "\r  0     0    0     0    0     0      0      0 --:--:-- --:--:-- --:--:--     0\r  0     0    0     0    0     0      0      0 --:--:-- --:--:-- --:--:--     0\r100  440k  100  440k    0     0  1991k      0 --:--:-- --:--:-- --:--:-- 1982k\n"
          ],
          "name": "stdout"
        }
      ]
    },
    {
      "cell_type": "code",
      "metadata": {
        "id": "VBvEEZU-M_Pf",
        "colab": {
          "base_uri": "https://localhost:8080/"
        },
        "outputId": "9bff5762-d7c8-42c1-c9c9-c651096ad684"
      },
      "source": [
        "!curl -O https://raw.githubusercontent.com/teropa/nlp/master/resources/corpora/conll2002/ned.testb"
      ],
      "execution_count": 11,
      "outputs": [
        {
          "output_type": "stream",
          "text": [
            "  % Total    % Received % Xferd  Average Speed   Time    Time     Time  Current\n",
            "                                 Dload  Upload   Total   Spent    Left  Speed\n",
            "100  795k  100  795k    0     0  2624k      0 --:--:-- --:--:-- --:--:-- 2624k\n"
          ],
          "name": "stdout"
        }
      ]
    },
    {
      "cell_type": "markdown",
      "metadata": {
        "id": "qca99DJHM_Pg"
      },
      "source": [
        "São três arquivos: um de treino, um de validação e um de teste. Nesses arquivos, cada linha no conjunto de texto contém um token, e sentenças são separadas por linhas vazias. Cada token consiste em campos separados por tabs. No nosso caso, estamos interessados no token (primeiro campo) e a sua entidade (último campo).\n",
        "\n",
        "O trecho a seguir faz a leitura desses arquivos, e extrai essas duas colunas:"
      ]
    },
    {
      "cell_type": "code",
      "metadata": {
        "id": "f-XPInaHM_Pg"
      },
      "source": [
        "from operator import itemgetter\n",
        "\n",
        "train_file = \"ned.train\"\n",
        "dev_file = \"ned.testa\"\n",
        "test_file = \"ned.testb\"\n",
        "\n",
        "def read_conll_file(f):\n",
        "    data = []\n",
        "    with open(f) as i:\n",
        "        sentences = i.read().strip().split(\"\\n\\n\")\n",
        "        \n",
        "    for sentence in sentences:\n",
        "        data.append([token.split() for token in sentence.split(\"\\n\")])\n",
        "\n",
        "    return data\n",
        "        \n",
        "train_data = read_conll_file(train_file)\n",
        "dev_data = read_conll_file(dev_file)\n",
        "test_data = read_conll_file(test_file)"
      ],
      "execution_count": 12,
      "outputs": []
    },
    {
      "cell_type": "markdown",
      "metadata": {
        "id": "l3jYt_XMM_Pg"
      },
      "source": [
        "A função a seguir avalia a qualidade de um modelo em um desses conjuntos. O que ela faz é, basicamente, montar as sentenças a  partir da base, aplicar o modelo de reconhecimento de entidades nomeadas, e comparar as entidades classificadas com o rótulo verdadeiro."
      ]
    },
    {
      "cell_type": "code",
      "metadata": {
        "id": "1fafNTjcM_Pg"
      },
      "source": [
        "from sklearn.metrics import classification_report, precision_recall_fscore_support\n",
        "\n",
        "def evaluate(model, data, verbose=0): \n",
        "\n",
        "    ner = model.get_pipe(\"ner\")\n",
        "    \n",
        "    correct, predicted = [], []\n",
        "    for sentence in data:\n",
        "        tokens = [t[0] for t in sentence]\n",
        "        ent_labels = [t[2].split(\"-\")[-1] for t in sentence]\n",
        "        \n",
        "        doc = Doc(model.vocab, words=tokens)\n",
        "        ner(doc)\n",
        "        \n",
        "        pred_labels = [t.ent_type_ or \"O\" for t in doc]\n",
        "        correct += ent_labels\n",
        "        predicted += pred_labels\n",
        "        \n",
        "    if verbose:\n",
        "        print(classification_report(correct, predicted))\n",
        "    \n",
        "    return precision_recall_fscore_support(correct, predicted, average=\"micro\")"
      ],
      "execution_count": 13,
      "outputs": []
    },
    {
      "cell_type": "markdown",
      "metadata": {
        "id": "zyr8k79FM_Pg"
      },
      "source": [
        "Podemos comparar o modelo padrão do `spaCy` para holandês."
      ]
    },
    {
      "cell_type": "code",
      "metadata": {
        "id": "KQJlVwJwM_Pg",
        "colab": {
          "base_uri": "https://localhost:8080/"
        },
        "outputId": "69a49bc6-dce6-4646-8718-aec40a846550"
      },
      "source": [
        "import spacy\n",
        "\n",
        "!python -m spacy download nl_core_news_sm"
      ],
      "execution_count": 14,
      "outputs": [
        {
          "output_type": "stream",
          "text": [
            "Requirement already satisfied: nl_core_news_sm==2.2.5 from https://github.com/explosion/spacy-models/releases/download/nl_core_news_sm-2.2.5/nl_core_news_sm-2.2.5.tar.gz#egg=nl_core_news_sm==2.2.5 in /usr/local/lib/python3.7/dist-packages (2.2.5)\n",
            "Requirement already satisfied: spacy>=2.2.2 in /usr/local/lib/python3.7/dist-packages (from nl_core_news_sm==2.2.5) (2.2.4)\n",
            "Requirement already satisfied: tqdm<5.0.0,>=4.38.0 in /usr/local/lib/python3.7/dist-packages (from spacy>=2.2.2->nl_core_news_sm==2.2.5) (4.41.1)\n",
            "Requirement already satisfied: requests<3.0.0,>=2.13.0 in /usr/local/lib/python3.7/dist-packages (from spacy>=2.2.2->nl_core_news_sm==2.2.5) (2.23.0)\n",
            "Requirement already satisfied: numpy>=1.15.0 in /usr/local/lib/python3.7/dist-packages (from spacy>=2.2.2->nl_core_news_sm==2.2.5) (1.19.5)\n",
            "Requirement already satisfied: blis<0.5.0,>=0.4.0 in /usr/local/lib/python3.7/dist-packages (from spacy>=2.2.2->nl_core_news_sm==2.2.5) (0.4.1)\n",
            "Requirement already satisfied: preshed<3.1.0,>=3.0.2 in /usr/local/lib/python3.7/dist-packages (from spacy>=2.2.2->nl_core_news_sm==2.2.5) (3.0.5)\n",
            "Requirement already satisfied: srsly<1.1.0,>=1.0.2 in /usr/local/lib/python3.7/dist-packages (from spacy>=2.2.2->nl_core_news_sm==2.2.5) (1.0.5)\n",
            "Requirement already satisfied: setuptools in /usr/local/lib/python3.7/dist-packages (from spacy>=2.2.2->nl_core_news_sm==2.2.5) (54.2.0)\n",
            "Requirement already satisfied: plac<1.2.0,>=0.9.6 in /usr/local/lib/python3.7/dist-packages (from spacy>=2.2.2->nl_core_news_sm==2.2.5) (1.1.3)\n",
            "Requirement already satisfied: murmurhash<1.1.0,>=0.28.0 in /usr/local/lib/python3.7/dist-packages (from spacy>=2.2.2->nl_core_news_sm==2.2.5) (1.0.5)\n",
            "Requirement already satisfied: wasabi<1.1.0,>=0.4.0 in /usr/local/lib/python3.7/dist-packages (from spacy>=2.2.2->nl_core_news_sm==2.2.5) (0.8.2)\n",
            "Requirement already satisfied: thinc==7.4.0 in /usr/local/lib/python3.7/dist-packages (from spacy>=2.2.2->nl_core_news_sm==2.2.5) (7.4.0)\n",
            "Requirement already satisfied: cymem<2.1.0,>=2.0.2 in /usr/local/lib/python3.7/dist-packages (from spacy>=2.2.2->nl_core_news_sm==2.2.5) (2.0.5)\n",
            "Requirement already satisfied: catalogue<1.1.0,>=0.0.7 in /usr/local/lib/python3.7/dist-packages (from spacy>=2.2.2->nl_core_news_sm==2.2.5) (1.0.0)\n",
            "Requirement already satisfied: chardet<4,>=3.0.2 in /usr/local/lib/python3.7/dist-packages (from requests<3.0.0,>=2.13.0->spacy>=2.2.2->nl_core_news_sm==2.2.5) (3.0.4)\n",
            "Requirement already satisfied: certifi>=2017.4.17 in /usr/local/lib/python3.7/dist-packages (from requests<3.0.0,>=2.13.0->spacy>=2.2.2->nl_core_news_sm==2.2.5) (2020.12.5)\n",
            "Requirement already satisfied: urllib3!=1.25.0,!=1.25.1,<1.26,>=1.21.1 in /usr/local/lib/python3.7/dist-packages (from requests<3.0.0,>=2.13.0->spacy>=2.2.2->nl_core_news_sm==2.2.5) (1.24.3)\n",
            "Requirement already satisfied: idna<3,>=2.5 in /usr/local/lib/python3.7/dist-packages (from requests<3.0.0,>=2.13.0->spacy>=2.2.2->nl_core_news_sm==2.2.5) (2.10)\n",
            "Requirement already satisfied: importlib-metadata>=0.20; python_version < \"3.8\" in /usr/local/lib/python3.7/dist-packages (from catalogue<1.1.0,>=0.0.7->spacy>=2.2.2->nl_core_news_sm==2.2.5) (3.10.0)\n",
            "Requirement already satisfied: typing-extensions>=3.6.4; python_version < \"3.8\" in /usr/local/lib/python3.7/dist-packages (from importlib-metadata>=0.20; python_version < \"3.8\"->catalogue<1.1.0,>=0.0.7->spacy>=2.2.2->nl_core_news_sm==2.2.5) (3.7.4.3)\n",
            "Requirement already satisfied: zipp>=0.5 in /usr/local/lib/python3.7/dist-packages (from importlib-metadata>=0.20; python_version < \"3.8\"->catalogue<1.1.0,>=0.0.7->spacy>=2.2.2->nl_core_news_sm==2.2.5) (3.4.1)\n",
            "\u001b[38;5;2m✔ Download and installation successful\u001b[0m\n",
            "You can now load the model via spacy.load('nl_core_news_sm')\n"
          ],
          "name": "stdout"
        }
      ]
    },
    {
      "cell_type": "code",
      "metadata": {
        "id": "8XofqwsSgFN6"
      },
      "source": [
        "import nl_core_news_sm\n",
        "\n",
        "nlp = spacy.load(\"nl_core_news_sm\")"
      ],
      "execution_count": 15,
      "outputs": []
    },
    {
      "cell_type": "code",
      "metadata": {
        "id": "ZIKUrxw2M_Pg",
        "colab": {
          "base_uri": "https://localhost:8080/"
        },
        "outputId": "6b00a457-479b-4a0c-8f1d-a6cf393fcfdb"
      },
      "source": [
        "evaluate(nlp, test_data, verbose=1);"
      ],
      "execution_count": 16,
      "outputs": [
        {
          "output_type": "stream",
          "text": [
            "/usr/local/lib/python3.7/dist-packages/sklearn/metrics/_classification.py:1272: UndefinedMetricWarning: Precision and F-score are ill-defined and being set to 0.0 in labels with no predicted samples. Use `zero_division` parameter to control this behavior.\n",
            "  _warn_prf(average, modifier, msg_start, len(result))\n",
            "/usr/local/lib/python3.7/dist-packages/sklearn/metrics/_classification.py:1272: UndefinedMetricWarning: Recall and F-score are ill-defined and being set to 0.0 in labels with no true samples. Use `zero_division` parameter to control this behavior.\n",
            "  _warn_prf(average, modifier, msg_start, len(result))\n"
          ],
          "name": "stderr"
        },
        {
          "output_type": "stream",
          "text": [
            "              precision    recall  f1-score   support\n",
            "\n",
            "    CARDINAL       0.00      0.00      0.00         0\n",
            "        DATE       0.00      0.00      0.00         0\n",
            "       EVENT       0.00      0.00      0.00         0\n",
            "         FAC       0.00      0.00      0.00         0\n",
            "         GPE       0.00      0.00      0.00         0\n",
            "    LANGUAGE       0.00      0.00      0.00         0\n",
            "         LAW       0.00      0.00      0.00         0\n",
            "         LOC       0.22      0.02      0.04       823\n",
            "        MISC       0.00      0.00      0.00      1597\n",
            "       MONEY       0.00      0.00      0.00         0\n",
            "        NORP       0.00      0.00      0.00         0\n",
            "           O       0.98      0.91      0.94     63236\n",
            "     ORDINAL       0.00      0.00      0.00         0\n",
            "         ORG       0.48      0.31      0.37      1433\n",
            "         PER       0.00      0.00      0.00      1905\n",
            "     PERCENT       0.00      0.00      0.00         0\n",
            "      PERSON       0.00      0.00      0.00         0\n",
            "     PRODUCT       0.00      0.00      0.00         0\n",
            "    QUANTITY       0.00      0.00      0.00         0\n",
            "        TIME       0.00      0.00      0.00         0\n",
            " WORK_OF_ART       0.00      0.00      0.00         0\n",
            "\n",
            "    accuracy                           0.84     68994\n",
            "   macro avg       0.08      0.06      0.06     68994\n",
            "weighted avg       0.91      0.84      0.87     68994\n",
            "\n"
          ],
          "name": "stdout"
        }
      ]
    },
    {
      "cell_type": "markdown",
      "metadata": {
        "id": "1nuloGvGM_Ph"
      },
      "source": [
        "Como pode ser observado, o modelo consegue classificar corretamente apenas algumas organizações (ORG) e lugares (LOC), além daqueles termos que não são entidades (O). A função a seguir prepara o conjunto de treinamento para essa base de dados (incluindo a representação no formato BILUO). "
      ]
    },
    {
      "cell_type": "code",
      "metadata": {
        "id": "4yWFWKxeM_Ph"
      },
      "source": [
        "from spacy.gold import iob_to_biluo\n",
        "\n",
        "training_data = []\n",
        "for sentence in train_data:\n",
        "    tokens = [t[0] for t in sentence]\n",
        "    ent_labels = iob_to_biluo([t[2] for t in sentence])\n",
        "    doc = Doc(nlp.vocab, words=tokens)\n",
        "    gold = GoldParse(doc, entities=ent_labels)\n",
        "    training_data.append((doc, gold))"
      ],
      "execution_count": 17,
      "outputs": []
    },
    {
      "cell_type": "markdown",
      "metadata": {
        "id": "YcRMEI4tM_Ph"
      },
      "source": [
        "Podemos agora comparar duas situações diferentes: primeiramente, treinar um modelo `spaCy` a partir do zero. Isso pode ser feito criando um modelo \"em branco\", e adicionando um reconhecedor de entidades nomeadas, e fazer o treinamento. \n",
        "\n",
        "No segundo caso, o  modelo é treinado aproveitando um modelo já existente, e continuamos o treinamento com novos dados (como fizemos no reconhecedor da Embraer). \n",
        "\n",
        "Fora a inicialização, o treinamento desses dois modelos é muito parecido. Para fins de reduzir o custo computacional, o modelo  só será capaz de reconhecer entidades nomeadas. O treinamento é feito em até 100 épocas, mas o processo pode ser terminado se as métricas de desempenho não melhorarem, usando o conjunto de validação para avaliar o desempenho.\n",
        "\n",
        "O método a seguir faz o treinamento:"
      ]
    },
    {
      "cell_type": "code",
      "metadata": {
        "id": "c9QRqSiXM_Ph"
      },
      "source": [
        "from tqdm import tqdm\n",
        "from spacy.util import minibatch\n",
        "from pathlib import Path\n",
        "\n",
        "def train(train_docs, dev_data, output_dir, model=None, max_epochs=100): \n",
        "    \n",
        "    if not model: \n",
        "        model = spacy.blank(\"nl\")\n",
        "        ner = model.create_pipe(\"ner\")\n",
        "        model.add_pipe(ner, last=True)\n",
        "        for label in [\"PER\", \"LOC\", \"ORG\", \"MISC\"]: \n",
        "            ner.add_label(label)\n",
        "        model.begin_training()\n",
        "    else:\n",
        "        ner = model.get_pipe(\"ner\")\n",
        "        for label in [\"PER\", \"MISC\"]: \n",
        "            ner.add_label(label)\n",
        "        \n",
        "    other_pipes = [pipe for pipe in model.pipe_names if pipe != 'ner']\n",
        "    fscore_history = []\n",
        "    patience=3\n",
        "        \n",
        "    with model.disable_pipes(*other_pipes):\n",
        "    \n",
        "        for i in range(max_epochs):\n",
        "            print(\"Epoch\", i)\n",
        "            losses = {}\n",
        "            random.shuffle(train_docs)\n",
        "            batches = minibatch(train_docs, size=32)\n",
        "            for batch in tqdm(batches):\n",
        "                docs, golds = zip(*batch)\n",
        "                model.update(\n",
        "                    docs,\n",
        "                    golds,\n",
        "                    drop=0.4,\n",
        "                    losses=losses)\n",
        "            print(\"Training Loss:\", losses)\n",
        "            \n",
        "            _, _, dev_f, _ = evaluate(model, dev_data)\n",
        "            print(\"Development F-score:\", dev_f)\n",
        "            \n",
        "            if len(fscore_history) > 0 and dev_f > max(fscore_history): \n",
        "                if output_dir is not None:\n",
        "                    output_dir = Path(output_dir)\n",
        "                    if not output_dir.exists():\n",
        "                        output_dir.mkdir()\n",
        "                    model.to_disk(output_dir)\n",
        "                    print(\"Saved model to\", output_dir)\n",
        "            \n",
        "            fscore_history.append(dev_f)\n",
        "            \n",
        "            if max(fscore_history) > max(fscore_history[-patience:]):\n",
        "                print(\"No improvement on development set. Stop training.\")\n",
        "                break"
      ],
      "execution_count": 18,
      "outputs": []
    },
    {
      "cell_type": "code",
      "metadata": {
        "id": "QxAhaYtjM_Ph",
        "colab": {
          "base_uri": "https://localhost:8080/"
        },
        "outputId": "bad2da3d-b989-45e7-cb8f-62848cce1c08"
      },
      "source": [
        "output_dir_scratch = \"./spacy_ner_scratch\"\n",
        "train(training_data, dev_data, model=None, output_dir=output_dir_scratch)"
      ],
      "execution_count": 19,
      "outputs": [
        {
          "output_type": "stream",
          "text": [
            "2it [00:00, 11.56it/s]"
          ],
          "name": "stderr"
        },
        {
          "output_type": "stream",
          "text": [
            "Epoch 0\n"
          ],
          "name": "stdout"
        },
        {
          "output_type": "stream",
          "text": [
            "494it [00:39, 12.63it/s]\n"
          ],
          "name": "stderr"
        },
        {
          "output_type": "stream",
          "text": [
            "Training Loss: {'ner': 16465.02497434501}\n"
          ],
          "name": "stdout"
        },
        {
          "output_type": "stream",
          "text": [
            "2it [00:00, 13.22it/s]"
          ],
          "name": "stderr"
        },
        {
          "output_type": "stream",
          "text": [
            "Development F-score: 0.9488361007388576\n",
            "Epoch 1\n"
          ],
          "name": "stdout"
        },
        {
          "output_type": "stream",
          "text": [
            "494it [00:39, 12.66it/s]\n"
          ],
          "name": "stderr"
        },
        {
          "output_type": "stream",
          "text": [
            "Training Loss: {'ner': 10228.20644837401}\n"
          ],
          "name": "stdout"
        },
        {
          "output_type": "stream",
          "text": [
            "\r0it [00:00, ?it/s]"
          ],
          "name": "stderr"
        },
        {
          "output_type": "stream",
          "text": [
            "Development F-score: 0.9576547231270358\n",
            "Saved model to spacy_ner_scratch\n",
            "Epoch 2\n"
          ],
          "name": "stdout"
        },
        {
          "output_type": "stream",
          "text": [
            "494it [00:38, 12.83it/s]\n"
          ],
          "name": "stderr"
        },
        {
          "output_type": "stream",
          "text": [
            "Training Loss: {'ner': 8347.379129985344}\n"
          ],
          "name": "stdout"
        },
        {
          "output_type": "stream",
          "text": [
            "\r0it [00:00, ?it/s]"
          ],
          "name": "stderr"
        },
        {
          "output_type": "stream",
          "text": [
            "Development F-score: 0.9608855697677497\n",
            "Saved model to spacy_ner_scratch\n",
            "Epoch 3\n"
          ],
          "name": "stdout"
        },
        {
          "output_type": "stream",
          "text": [
            "494it [00:38, 12.78it/s]\n"
          ],
          "name": "stderr"
        },
        {
          "output_type": "stream",
          "text": [
            "Training Loss: {'ner': 7080.161054210442}\n"
          ],
          "name": "stdout"
        },
        {
          "output_type": "stream",
          "text": [
            "\r0it [00:00, ?it/s]"
          ],
          "name": "stderr"
        },
        {
          "output_type": "stream",
          "text": [
            "Development F-score: 0.9655464632822224\n",
            "Saved model to spacy_ner_scratch\n",
            "Epoch 4\n"
          ],
          "name": "stdout"
        },
        {
          "output_type": "stream",
          "text": [
            "494it [00:38, 12.84it/s]\n"
          ],
          "name": "stderr"
        },
        {
          "output_type": "stream",
          "text": [
            "Training Loss: {'ner': 6163.892902246062}\n"
          ],
          "name": "stdout"
        },
        {
          "output_type": "stream",
          "text": [
            "\r0it [00:00, ?it/s]"
          ],
          "name": "stderr"
        },
        {
          "output_type": "stream",
          "text": [
            "Development F-score: 0.9667911337093827\n",
            "Saved model to spacy_ner_scratch\n",
            "Epoch 5\n"
          ],
          "name": "stdout"
        },
        {
          "output_type": "stream",
          "text": [
            "494it [00:38, 12.78it/s]\n"
          ],
          "name": "stderr"
        },
        {
          "output_type": "stream",
          "text": [
            "Training Loss: {'ner': 5393.870682467941}\n"
          ],
          "name": "stdout"
        },
        {
          "output_type": "stream",
          "text": [
            "\r0it [00:00, ?it/s]"
          ],
          "name": "stderr"
        },
        {
          "output_type": "stream",
          "text": [
            "Development F-score: 0.9681682158841133\n",
            "Saved model to spacy_ner_scratch\n",
            "Epoch 6\n"
          ],
          "name": "stdout"
        },
        {
          "output_type": "stream",
          "text": [
            "494it [00:38, 12.87it/s]\n"
          ],
          "name": "stderr"
        },
        {
          "output_type": "stream",
          "text": [
            "Training Loss: {'ner': 4877.2933145809175}\n"
          ],
          "name": "stdout"
        },
        {
          "output_type": "stream",
          "text": [
            "\r0it [00:00, ?it/s]"
          ],
          "name": "stderr"
        },
        {
          "output_type": "stream",
          "text": [
            "Development F-score: 0.9684595217287678\n",
            "Saved model to spacy_ner_scratch\n",
            "Epoch 7\n"
          ],
          "name": "stdout"
        },
        {
          "output_type": "stream",
          "text": [
            "494it [00:38, 12.89it/s]\n"
          ],
          "name": "stderr"
        },
        {
          "output_type": "stream",
          "text": [
            "Training Loss: {'ner': 4476.203443216009}\n"
          ],
          "name": "stdout"
        },
        {
          "output_type": "stream",
          "text": [
            "\r0it [00:00, ?it/s]"
          ],
          "name": "stderr"
        },
        {
          "output_type": "stream",
          "text": [
            "Development F-score: 0.9686448981753661\n",
            "Saved model to spacy_ner_scratch\n",
            "Epoch 8\n"
          ],
          "name": "stdout"
        },
        {
          "output_type": "stream",
          "text": [
            "494it [00:38, 12.95it/s]\n"
          ],
          "name": "stderr"
        },
        {
          "output_type": "stream",
          "text": [
            "Training Loss: {'ner': 4087.9897031437754}\n"
          ],
          "name": "stdout"
        },
        {
          "output_type": "stream",
          "text": [
            "\r0it [00:00, ?it/s]"
          ],
          "name": "stderr"
        },
        {
          "output_type": "stream",
          "text": [
            "Development F-score: 0.9698366039034984\n",
            "Saved model to spacy_ner_scratch\n",
            "Epoch 9\n"
          ],
          "name": "stdout"
        },
        {
          "output_type": "stream",
          "text": [
            "494it [00:37, 13.06it/s]\n"
          ],
          "name": "stderr"
        },
        {
          "output_type": "stream",
          "text": [
            "Training Loss: {'ner': 3797.7664271783833}\n"
          ],
          "name": "stdout"
        },
        {
          "output_type": "stream",
          "text": [
            "2it [00:00, 13.67it/s]"
          ],
          "name": "stderr"
        },
        {
          "output_type": "stream",
          "text": [
            "Development F-score: 0.9693864039617595\n",
            "Epoch 10\n"
          ],
          "name": "stdout"
        },
        {
          "output_type": "stream",
          "text": [
            "494it [00:38, 12.82it/s]\n"
          ],
          "name": "stderr"
        },
        {
          "output_type": "stream",
          "text": [
            "Training Loss: {'ner': 3605.9691549444324}\n"
          ],
          "name": "stdout"
        },
        {
          "output_type": "stream",
          "text": [
            "2it [00:00, 13.31it/s]"
          ],
          "name": "stderr"
        },
        {
          "output_type": "stream",
          "text": [
            "Development F-score: 0.9681682158841133\n",
            "Epoch 11\n"
          ],
          "name": "stdout"
        },
        {
          "output_type": "stream",
          "text": [
            "494it [00:38, 12.67it/s]\n"
          ],
          "name": "stderr"
        },
        {
          "output_type": "stream",
          "text": [
            "Training Loss: {'ner': 3278.3616363535957}\n",
            "Development F-score: 0.9689891687190487\n",
            "No improvement on development set. Stop training.\n"
          ],
          "name": "stdout"
        }
      ]
    },
    {
      "cell_type": "markdown",
      "metadata": {
        "id": "le5Lles3M_Ph"
      },
      "source": [
        "Vamos agora continuar o treinamento do modelo base."
      ]
    },
    {
      "cell_type": "code",
      "metadata": {
        "id": "E29Rua_8M_Ph",
        "colab": {
          "base_uri": "https://localhost:8080/"
        },
        "outputId": "6de86938-c590-4dd6-8901-4ba3d39bc1d4"
      },
      "source": [
        "output_dir_cntd = \"./spacy_ner_cntd\"\n",
        "train(training_data, dev_data, model=nlp, output_dir=output_dir_cntd)"
      ],
      "execution_count": 20,
      "outputs": [
        {
          "output_type": "stream",
          "text": [
            "2it [00:00, 12.38it/s]"
          ],
          "name": "stderr"
        },
        {
          "output_type": "stream",
          "text": [
            "Epoch 0\n"
          ],
          "name": "stdout"
        },
        {
          "output_type": "stream",
          "text": [
            "494it [00:41, 12.05it/s]\n"
          ],
          "name": "stderr"
        },
        {
          "output_type": "stream",
          "text": [
            "Training Loss: {'ner': 115381.56111907959}\n"
          ],
          "name": "stdout"
        },
        {
          "output_type": "stream",
          "text": [
            "2it [00:00, 13.23it/s]"
          ],
          "name": "stderr"
        },
        {
          "output_type": "stream",
          "text": [
            "Development F-score: 0.9492333359815683\n",
            "Epoch 1\n"
          ],
          "name": "stdout"
        },
        {
          "output_type": "stream",
          "text": [
            "494it [00:40, 12.09it/s]\n"
          ],
          "name": "stderr"
        },
        {
          "output_type": "stream",
          "text": [
            "Training Loss: {'ner': 109836.78122901917}\n"
          ],
          "name": "stdout"
        },
        {
          "output_type": "stream",
          "text": [
            "\r0it [00:00, ?it/s]"
          ],
          "name": "stderr"
        },
        {
          "output_type": "stream",
          "text": [
            "Development F-score: 0.957231005534811\n",
            "Saved model to spacy_ner_cntd\n",
            "Epoch 2\n"
          ],
          "name": "stdout"
        },
        {
          "output_type": "stream",
          "text": [
            "494it [00:39, 12.38it/s]\n"
          ],
          "name": "stderr"
        },
        {
          "output_type": "stream",
          "text": [
            "Training Loss: {'ner': 108374.48465919495}\n"
          ],
          "name": "stdout"
        },
        {
          "output_type": "stream",
          "text": [
            "\r0it [00:00, ?it/s]"
          ],
          "name": "stderr"
        },
        {
          "output_type": "stream",
          "text": [
            "Development F-score: 0.9577341701755779\n",
            "Saved model to spacy_ner_cntd\n",
            "Epoch 3\n"
          ],
          "name": "stdout"
        },
        {
          "output_type": "stream",
          "text": [
            "494it [00:39, 12.60it/s]\n"
          ],
          "name": "stderr"
        },
        {
          "output_type": "stream",
          "text": [
            "Training Loss: {'ner': 108188.47304534912}\n"
          ],
          "name": "stdout"
        },
        {
          "output_type": "stream",
          "text": [
            "\r0it [00:00, ?it/s]"
          ],
          "name": "stderr"
        },
        {
          "output_type": "stream",
          "text": [
            "Development F-score: 0.9605412992240672\n",
            "Saved model to spacy_ner_cntd\n",
            "Epoch 4\n"
          ],
          "name": "stdout"
        },
        {
          "output_type": "stream",
          "text": [
            "494it [00:39, 12.64it/s]\n"
          ],
          "name": "stderr"
        },
        {
          "output_type": "stream",
          "text": [
            "Training Loss: {'ner': 108033.39396095276}\n"
          ],
          "name": "stdout"
        },
        {
          "output_type": "stream",
          "text": [
            "\r0it [00:00, ?it/s]"
          ],
          "name": "stderr"
        },
        {
          "output_type": "stream",
          "text": [
            "Development F-score: 0.9612563226609465\n",
            "Saved model to spacy_ner_cntd\n",
            "Epoch 5\n"
          ],
          "name": "stdout"
        },
        {
          "output_type": "stream",
          "text": [
            "494it [00:38, 12.80it/s]\n"
          ],
          "name": "stderr"
        },
        {
          "output_type": "stream",
          "text": [
            "Training Loss: {'ner': 107699.0710849762}\n"
          ],
          "name": "stdout"
        },
        {
          "output_type": "stream",
          "text": [
            "\r0it [00:00, ?it/s]"
          ],
          "name": "stderr"
        },
        {
          "output_type": "stream",
          "text": [
            "Development F-score: 0.9633484282725563\n",
            "Saved model to spacy_ner_cntd\n",
            "Epoch 6\n"
          ],
          "name": "stdout"
        },
        {
          "output_type": "stream",
          "text": [
            "494it [00:38, 12.80it/s]\n"
          ],
          "name": "stderr"
        },
        {
          "output_type": "stream",
          "text": [
            "Training Loss: {'ner': 107212.66063404083}\n"
          ],
          "name": "stdout"
        },
        {
          "output_type": "stream",
          "text": [
            "2it [00:00, 13.05it/s]"
          ],
          "name": "stderr"
        },
        {
          "output_type": "stream",
          "text": [
            "Development F-score: 0.963163051825958\n",
            "Epoch 7\n"
          ],
          "name": "stdout"
        },
        {
          "output_type": "stream",
          "text": [
            "494it [00:39, 12.61it/s]\n"
          ],
          "name": "stderr"
        },
        {
          "output_type": "stream",
          "text": [
            "Training Loss: {'ner': 106881.76384735107}\n"
          ],
          "name": "stdout"
        },
        {
          "output_type": "stream",
          "text": [
            "\r0it [00:00, ?it/s]"
          ],
          "name": "stderr"
        },
        {
          "output_type": "stream",
          "text": [
            "Development F-score: 0.9641164164084638\n",
            "Saved model to spacy_ner_cntd\n",
            "Epoch 8\n"
          ],
          "name": "stdout"
        },
        {
          "output_type": "stream",
          "text": [
            "494it [00:39, 12.44it/s]\n"
          ],
          "name": "stderr"
        },
        {
          "output_type": "stream",
          "text": [
            "Training Loss: {'ner': 106697.10493659973}\n"
          ],
          "name": "stdout"
        },
        {
          "output_type": "stream",
          "text": [
            "\r0it [00:00, ?it/s]"
          ],
          "name": "stderr"
        },
        {
          "output_type": "stream",
          "text": [
            "Development F-score: 0.9651492280395116\n",
            "Saved model to spacy_ner_cntd\n",
            "Epoch 9\n"
          ],
          "name": "stdout"
        },
        {
          "output_type": "stream",
          "text": [
            "494it [00:41, 12.03it/s]\n"
          ],
          "name": "stderr"
        },
        {
          "output_type": "stream",
          "text": [
            "Training Loss: {'ner': 106264.41773986816}\n"
          ],
          "name": "stdout"
        },
        {
          "output_type": "stream",
          "text": [
            "2it [00:00, 12.99it/s]"
          ],
          "name": "stderr"
        },
        {
          "output_type": "stream",
          "text": [
            "Development F-score: 0.963745663515267\n",
            "Epoch 10\n"
          ],
          "name": "stdout"
        },
        {
          "output_type": "stream",
          "text": [
            "494it [00:41, 11.99it/s]\n"
          ],
          "name": "stderr"
        },
        {
          "output_type": "stream",
          "text": [
            "Training Loss: {'ner': 106409.9300403595}\n"
          ],
          "name": "stdout"
        },
        {
          "output_type": "stream",
          "text": [
            "2it [00:00, 11.99it/s]"
          ],
          "name": "stderr"
        },
        {
          "output_type": "stream",
          "text": [
            "Development F-score: 0.9638780752628374\n",
            "Epoch 11\n"
          ],
          "name": "stdout"
        },
        {
          "output_type": "stream",
          "text": [
            "494it [00:42, 11.73it/s]\n"
          ],
          "name": "stderr"
        },
        {
          "output_type": "stream",
          "text": [
            "Training Loss: {'ner': 106791.24457740784}\n",
            "Development F-score: 0.9635338047191547\n",
            "No improvement on development set. Stop training.\n"
          ],
          "name": "stdout"
        }
      ]
    },
    {
      "cell_type": "markdown",
      "metadata": {
        "id": "FnDVb35KM_Pi"
      },
      "source": [
        "Podemos agora comparar os três modelos no conjunto de teste."
      ]
    },
    {
      "cell_type": "code",
      "metadata": {
        "id": "l3j34S0AM_Pi",
        "colab": {
          "base_uri": "https://localhost:8080/"
        },
        "outputId": "ce04f5ac-55ec-4b92-b153-e0c3f9b539ca"
      },
      "source": [
        "nlp_base = spacy.load(\"nl_core_news_sm\")\n",
        "nlp_scratch = spacy.load(output_dir_scratch)\n",
        "nlp_cntd = spacy.load(output_dir_cntd)\n",
        "\n",
        "print(\"\\n********** Base Model **********\")\n",
        "evaluate(nlp_base, test_data, verbose=1)\n",
        "print(\"\\n********** New Model **********\")\n",
        "evaluate(nlp_scratch, test_data, verbose=1)\n",
        "print(\"\\n********** Continued Model **********\")\n",
        "evaluate(nlp_cntd, test_data, verbose=1)"
      ],
      "execution_count": 21,
      "outputs": [
        {
          "output_type": "stream",
          "text": [
            "\n",
            "********** Base Model **********\n"
          ],
          "name": "stdout"
        },
        {
          "output_type": "stream",
          "text": [
            "/usr/local/lib/python3.7/dist-packages/sklearn/metrics/_classification.py:1272: UndefinedMetricWarning: Precision and F-score are ill-defined and being set to 0.0 in labels with no predicted samples. Use `zero_division` parameter to control this behavior.\n",
            "  _warn_prf(average, modifier, msg_start, len(result))\n",
            "/usr/local/lib/python3.7/dist-packages/sklearn/metrics/_classification.py:1272: UndefinedMetricWarning: Recall and F-score are ill-defined and being set to 0.0 in labels with no true samples. Use `zero_division` parameter to control this behavior.\n",
            "  _warn_prf(average, modifier, msg_start, len(result))\n"
          ],
          "name": "stderr"
        },
        {
          "output_type": "stream",
          "text": [
            "              precision    recall  f1-score   support\n",
            "\n",
            "    CARDINAL       0.00      0.00      0.00         0\n",
            "        DATE       0.00      0.00      0.00         0\n",
            "       EVENT       0.00      0.00      0.00         0\n",
            "         FAC       0.00      0.00      0.00         0\n",
            "         GPE       0.00      0.00      0.00         0\n",
            "    LANGUAGE       0.00      0.00      0.00         0\n",
            "         LAW       0.00      0.00      0.00         0\n",
            "         LOC       0.22      0.02      0.04       823\n",
            "        MISC       0.00      0.00      0.00      1597\n",
            "       MONEY       0.00      0.00      0.00         0\n",
            "        NORP       0.00      0.00      0.00         0\n",
            "           O       0.98      0.91      0.94     63236\n",
            "     ORDINAL       0.00      0.00      0.00         0\n",
            "         ORG       0.48      0.31      0.37      1433\n",
            "         PER       0.00      0.00      0.00      1905\n",
            "     PERCENT       0.00      0.00      0.00         0\n",
            "      PERSON       0.00      0.00      0.00         0\n",
            "     PRODUCT       0.00      0.00      0.00         0\n",
            "    QUANTITY       0.00      0.00      0.00         0\n",
            "        TIME       0.00      0.00      0.00         0\n",
            " WORK_OF_ART       0.00      0.00      0.00         0\n",
            "\n",
            "    accuracy                           0.84     68994\n",
            "   macro avg       0.08      0.06      0.06     68994\n",
            "weighted avg       0.91      0.84      0.87     68994\n",
            "\n",
            "\n",
            "********** New Model **********\n",
            "              precision    recall  f1-score   support\n",
            "\n",
            "         LOC       0.64      0.77      0.70       823\n",
            "        MISC       0.76      0.62      0.68      1597\n",
            "           O       1.00      1.00      1.00     63236\n",
            "         ORG       0.72      0.67      0.70      1433\n",
            "         PER       0.79      0.85      0.82      1905\n",
            "\n",
            "    accuracy                           0.97     68994\n",
            "   macro avg       0.78      0.78      0.78     68994\n",
            "weighted avg       0.97      0.97      0.97     68994\n",
            "\n",
            "\n",
            "********** Continued Model **********\n",
            "              precision    recall  f1-score   support\n",
            "\n",
            "         LOC       0.84      0.71      0.77       823\n",
            "        MISC       0.67      0.62      0.64      1597\n",
            "           O       0.99      1.00      1.00     63236\n",
            "         ORG       0.71      0.60      0.65      1433\n",
            "         PER       0.77      0.85      0.81      1905\n",
            "\n",
            "    accuracy                           0.97     68994\n",
            "   macro avg       0.80      0.76      0.77     68994\n",
            "weighted avg       0.97      0.97      0.97     68994\n",
            "\n"
          ],
          "name": "stdout"
        },
        {
          "output_type": "execute_result",
          "data": {
            "text/plain": [
              "(0.9732585442212366, 0.9732585442212366, 0.9732585442212366, None)"
            ]
          },
          "metadata": {
            "tags": []
          },
          "execution_count": 21
        }
      ]
    },
    {
      "cell_type": "markdown",
      "metadata": {
        "id": "V2hm_9hRzHBf"
      },
      "source": [
        "**Importante**: algumas partes dos dados de treinamento são aleatórias, como por exemplo, a ordem em que alimentamos os dados para o modelo."
      ]
    },
    {
      "cell_type": "markdown",
      "metadata": {
        "id": "UY012xX9ztms"
      },
      "source": [
        "### **Algumas considerações**\n",
        "\n",
        "Infelizmente, o treinamento contínuo de um modelo pré-treinado tem seus desafios. E o mais importante, você precisa se certificar de que seu modelo não se ajuste demais aos novos dados de treinamento e perca a capacidade de rotular o tipo de dados em que foi originalmente treinado. Ainda assim, quando você acerta, o ajuste fino de um modelo existente é uma maneira poderosa de treinar um modelo de alta qualidade com uma quantidade limitada de dados."
      ]
    },
    {
      "cell_type": "markdown",
      "metadata": {
        "id": "qCejwDtNOAGv"
      },
      "source": [
        "**Referência**:\n",
        "\n",
        "Este notebook foi criado pelo prof. **Ronaldo Prati** [UFABC], tendo sido apenas reestruturado por mim. O prof. Ronaldo se baseou no seguinte [exemplo](https://github.com/nlptown/nlp-notebooks/blob/master/Updating%20spaCy's%20Named%20Entity%20Recognition%20System.ipynb).\n"
      ]
    }
  ]
}