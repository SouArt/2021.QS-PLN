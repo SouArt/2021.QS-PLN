{
  "nbformat": 4,
  "nbformat_minor": 0,
  "metadata": {
    "colab": {
      "name": "2021-Q1 PLN Notebook 31.ipynb",
      "provenance": [],
      "collapsed_sections": [],
      "authorship_tag": "ABX9TyPGTA9/zLoFLKTz4jtHUxRq",
      "include_colab_link": true
    },
    "kernelspec": {
      "name": "python3",
      "display_name": "Python 3"
    }
  },
  "cells": [
    {
      "cell_type": "markdown",
      "metadata": {
        "id": "view-in-github",
        "colab_type": "text"
      },
      "source": [
        "<a href=\"https://colab.research.google.com/github/adalves-ufabc/2021.QS-PLN/blob/main/2021_Q1_PLN_Notebook_31.ipynb\" target=\"_parent\"><img src=\"https://colab.research.google.com/assets/colab-badge.svg\" alt=\"Open In Colab\"/></a>"
      ]
    },
    {
      "cell_type": "markdown",
      "metadata": {
        "id": "IvbVHh_WZ34Z"
      },
      "source": [
        "# **Processamento de Linguagem Natural [2021.Q1]**\n",
        "Prof. Alexandre Donizeti Alves"
      ]
    },
    {
      "cell_type": "markdown",
      "metadata": {
        "id": "OFJxpLDFZ6cg"
      },
      "source": [
        "### **Sumarização Automática de Textos**"
      ]
    },
    {
      "cell_type": "code",
      "metadata": {
        "colab": {
          "base_uri": "https://localhost:8080/"
        },
        "id": "zl2fbQ9_Z14H",
        "outputId": "b4052eb6-bdb3-422d-8731-33d2d416f15c"
      },
      "source": [
        "import bs4 as bs\n",
        "import urllib.request\n",
        "import re\n",
        "\n",
        "import nltk\n",
        "nltk.download('punkt')\n",
        "nltk.download('stopwords')"
      ],
      "execution_count": 1,
      "outputs": [
        {
          "output_type": "stream",
          "text": [
            "[nltk_data] Downloading package punkt to /root/nltk_data...\n",
            "[nltk_data]   Unzipping tokenizers/punkt.zip.\n",
            "[nltk_data] Downloading package stopwords to /root/nltk_data...\n",
            "[nltk_data]   Unzipping corpora/stopwords.zip.\n"
          ],
          "name": "stdout"
        },
        {
          "output_type": "execute_result",
          "data": {
            "text/plain": [
              "True"
            ]
          },
          "metadata": {
            "tags": []
          },
          "execution_count": 1
        }
      ]
    },
    {
      "cell_type": "code",
      "metadata": {
        "id": "eTVOPzeCbXMl"
      },
      "source": [
        "scraped_data = urllib.request.urlopen('https://en.wikipedia.org/wiki/Severe_acute_respiratory_syndrome_coronavirus_2')\n",
        "article = scraped_data.read()\n",
        "\n",
        "parsed_article = bs.BeautifulSoup(article,'lxml')\n",
        "\n",
        "paragraphs = parsed_article.find_all('p')"
      ],
      "execution_count": 2,
      "outputs": []
    },
    {
      "cell_type": "code",
      "metadata": {
        "colab": {
          "base_uri": "https://localhost:8080/"
        },
        "id": "Bz-j6tgDbqBG",
        "outputId": "c8c1bcc4-4ad7-4f13-fb1c-dd5c99bac5f4"
      },
      "source": [
        "len(paragraphs)"
      ],
      "execution_count": 3,
      "outputs": [
        {
          "output_type": "execute_result",
          "data": {
            "text/plain": [
              "44"
            ]
          },
          "metadata": {
            "tags": []
          },
          "execution_count": 3
        }
      ]
    },
    {
      "cell_type": "code",
      "metadata": {
        "id": "Vxr4bGYAbgpF"
      },
      "source": [
        "article_text = \"\"\n",
        "\n",
        "for p in paragraphs:\n",
        "    article_text += p.text\n",
        "\n",
        "# removing square brackets and extra spaces\n",
        "article_text = re.sub(r'\\[[0-9]*\\]', ' ', article_text)\n",
        "article_text = re.sub(r'\\s+', ' ', article_text)\n",
        "\n",
        "# removing special characters and digits\n",
        "formatted_article_text = re.sub('[^a-zA-Z]', ' ', article_text )\n",
        "formatted_article_text = re.sub(r'\\s+', ' ', formatted_article_text)"
      ],
      "execution_count": 4,
      "outputs": []
    },
    {
      "cell_type": "code",
      "metadata": {
        "colab": {
          "base_uri": "https://localhost:8080/",
          "height": 129
        },
        "id": "u912fWa1cQtG",
        "outputId": "32ddc500-3918-4359-ba93-a240701bd494"
      },
      "source": [
        "formatted_article_text"
      ],
      "execution_count": 5,
      "outputs": [
        {
          "output_type": "execute_result",
          "data": {
            "application/vnd.google.colaboratory.intrinsic+json": {
              "type": "string"
            },
            "text/plain": [
              "' Severe acute respiratory syndrome coronavirus SARS CoV is the virus that causes coronavirus disease COVID the respiratory illness responsible for the COVID pandemic Colloquially known as simply the coronavirus it was previously referred to by its provisional name novel coronavirus nCoV and has also been called human coronavirus HCoV or hCoV The World Health Organization declared the outbreak a Public Health Emergency of International Concern on January and a pandemic on March SARS CoV is a positive sense single stranded RNA virus and hence Baltimore class IV that is contagious in humans As described by the US National Institutes of Health it is the successor to SARS CoV the virus that caused the SARS outbreak Taxonomically SARS CoV is a virus of the species severe acute respiratory syndrome related coronavirus SARSr CoV It is believed to have zoonotic origins and has close genetic similarity to bat coronaviruses suggesting it emerged from a bat borne virus Research is ongoing as to whether SARS CoV came directly from bats or indirectly through any intermediate hosts The virus shows little genetic diversity indicating that the spillover event introducing SARS CoV to humans is likely to have occurred in late Epidemiological studies estimate that each infection results in new ones when no members of the community are immune and no preventive measures are taken The virus primarily spreads between people through close contact and via respiratory droplets produced from coughs or sneezes It mainly enters human cells by binding to the angiotensin converting enzyme ACE During the initial outbreak in Wuhan China various names were used for the virus some names used by different sources included the coronavirus or Wuhan coronavirus In January the World Health Organisation recommended novel coronavirus nCov as the provisional name for the virus This was in accordance with WHO s guidance against using geographical locations animal species or groups of people in disease and virus names On February the International Committee on Taxonomy of Viruses adopted the official name severe acute respiratory syndrome coronavirus SARS CoV To avoid confusion with the disease SARS the WHO sometimes refers to SARS CoV as the COVID virus in public health communications and the name HCoV was included in some research articles The general public often calls both the virus and the disease it causes coronavirus U S President Donald Trump repeatedly referred to the virus as the Chinese virus in tweets interviews and White House press briefings which drew some criticism that he was stigmatizing the disease with racial or nationalistic overtones Human to human transmission of SARS CoV was confirmed on January during the COVID pandemic Transmission was initially assumed to occur primarily via respiratory droplets from coughs and sneezes within a range of about metres ft Laser light scattering experiments suggest that speaking is an additional mode of transmission and a far reaching and under researched one indoors with little air flow Other studies have suggested that the virus may be airborne as well with aerosols potentially being able to transmit the virus During human to human transmission an average infectious SARS CoV virions are thought to initiate a new infection Indirect contact via contaminated surfaces is another possible cause of infection Preliminary research indicates that the virus may remain viable on plastic polypropylene and stainless steel AISI for up to three days but does not survive on cardboard for more than one day or on copper for more than four hours the virus is inactivated by soap which destabilises its lipid bilayer Viral RNA has also been found in stool samples and semen from infected individuals The degree to which the virus is infectious during the incubation period is uncertain but research has indicated that the pharynx reaches peak viral load approximately four days after infection or the first week of symptoms and declines after A study by a team of researchers from the University of North Carolina found that the nasal cavity is seemingly the dominant initial site for infection with subsequent aspiration mediated virus seeding into the lungs in SARS CoV pathogenesis They found that there was an infection gradient from high in proximal towards low in distal pulmonary epithelial cultures with a focal infection in ciliated cells and type pneumocytes in the airway and alveolar regions respectively There is some evidence of human to animal transmission of SARS CoV including examples in felids Some institutions have advised those infected with SARS CoV to restrict contact with animals On February the World Health Organization WHO indicated that transmission from asymptomatic cases is likely not a major driver of transmission One meta analysis found that of infections are asymptomatic and asymptomatic individuals were less likely to transmit the virus However an epidemiological model of the beginning of the outbreak in China suggested that pre symptomatic shedding may be typical among documented infections and that subclinical infections may have been the source of a majority of infections That may explain how out of onboard a cruise liner that docked at Montevideo only of who tested positive for viral RNA showed symptoms Similarly a study of ninety four patients hospitalized in January and February estimated patients shed the greatest amount of virus two to three days before symptoms appear and that a substantial proportion of transmission probably occurred before first symptoms in the index case There is uncertainty about reinfection and long term immunity It is not known how common reinfection is but reports have indicated that it is occurring with variable severity The first reported case of reinfection was a year old man from Hong Kong who first tested positive on March was discharged on April after two negative tests and tested positive again on August days later which was confirmed by whole genome sequencing showing that the viral genomes between the episodes belong to different clades The findings had the implications that herd immunity may not eliminate the virus if reinfection is not an uncommon occurrence and that vaccines may not be able to provide lifelong protection against the virus Another case study described a year old man from Nevada who tested positive for SARS CoV on April and on June separated by two negative tests Since genomic analyses showed significant genetic differences between the SARS CoV variant sampled on those two dates the case study authors determined this was a reinfection The man s second infection was symptomatically more severe than the first infection but the mechanisms that could account for this are not known The first known infections from SARS CoV were discovered in Wuhan China The original source of viral transmission to humans remains unclear as does whether the virus became pathogenic before or after the spillover event Because many of the early infectees were workers at the Huanan Seafood Market it has been suggested that the virus might have originated from the market However other research indicates that visitors may have introduced the virus to the market which then facilitated rapid expansion of the infections A March WHO report on a joint WHO China study stated stated that human spillover via an intermediate animal host was the most likely explanation with direct spillover from bats next most likely Introduction through the food supply chain and the Huanan Seafood Market was considered another possible but less likely explanation A phylogenetic network analysis of early coronavirus genomes sampled from December to February showed that the virus type most closely related to the bat coronavirus was most abundant in Guangdong China and designated type A The predominant type among samples from Wuhan B is more distantly related to the bat coronavirus than the ancestral type A Research into the natural reservoir of the virus that caused the SARS outbreak has resulted in the discovery of many SARS like bat coronaviruses most originating in the Rhinolophus genus of horseshoe bats Phylogenetic analysis indicates that samples taken from Rhinolophus sinicus show a resemblance of to SARS CoV Phylogenetic analysis also indicates that a virus from Rhinolophus affinis collected in Yunnan province and designated RaTG has a resemblance to SARS CoV Bats are considered the most likely natural reservoir of SARS CoV but differences between the bat coronavirus and SARS CoV suggest that humans were infected via an intermediate host Although the role of pangolins as an intermediate host was initially posited subsequent studies have not substantiated their contribution to the spillover The possible intermediate host remains elusive Nearly half of the virus s genome has a phylogenetic lineage distinct from known relatives A study published in July suggested that pangolins are an intermediate host of SARS CoV like coronaviruses However additional studies indicate that pangolins are unlikely to be reservoirs or intermediate hosts for SARS CoV Isolates obtained from pangolins seized in Guangdong were only identical in sequence to the SARS CoV genome a number that is too low for the pangolin virus to be an intermediate host In addition pangolins are unlikely to be reservoirs for SARS CoV like viruses because they get sick from the infection unlike true reservoirs like bats The receptor binding domain of the pangolin virus spike protein is highly similar to that of SARS CoV with the five critical amino acid residues in the receptor binding motif being identical in both viruses However the pangolin virus turns out to bind poorly to the human ACE receptor All available evidence suggests that SARS CoV has a natural animal origin and is not genetically engineered Nevertheless early in the pandemic conspiracy theories spread on social media claiming that the virus was bio engineered by China at the Wuhan Institute of Virology While some scientists including former CDC director Robert R Redfield believe it is likely that the virus may have been studied by and escaped from the Institute the March WHO report on the joint WHO China study stated that such an explanation is extremely unlikely SARS CoV belongs to the broad family of viruses known as coronaviruses It is a positive sense single stranded RNA ssRNA virus with a single linear RNA segment Other coronaviruses are capable of causing illnesses ranging from the common cold to more severe diseases such as Middle East respiratory syndrome MERS fatality rate It is the seventh known coronavirus to infect people after E NL OC HKU MERS CoV and the original SARS CoV Like the SARS related coronavirus implicated in the SARS outbreak SARS CoV is a member of the subgenus Sarbecovirus beta CoV lineage B Its RNA sequence is approximately bases in length relatively long for a coronavirus SARS CoV is unique among known betacoronaviruses in its incorporation of a polybasic site cleaved by furin a characteristic known to increase pathogenicity and transmissibility in other viruses With a sufficient number of sequenced genomes it is possible to reconstruct a phylogenetic tree of the mutation history of a family of viruses By January five genomes of SARS CoV had been isolated from Wuhan and reported by the Chinese Center for Disease Control and Prevention CCDC and other institutions the number of genomes increased to by January A phylogenetic analysis of those samples showed they were highly related with at most seven mutations relative to a common ancestor implying that the first human infection occurred in November or December As of May update SARS CoV genomes sampled on six continents were publicly available clarification needed On February the International Committee on Taxonomy of Viruses announced that according to existing rules that compute hierarchical relationships among coronaviruses based on five conserved sequences of nucleic acids the differences between what was then called nCoV and the virus from the SARS outbreak were insufficient to make them separate viral species Therefore they identified nCoV as a virus of Severe acute respiratory syndrome related coronavirus In July scientists reported that a more infectious SARS CoV variant with spike protein variant G has replaced D as the dominant form in the pandemic In October scientists reported in a preprint that a variant A EU was first observed in Spain in early summer and has become the most frequent variant in multiple European countries They also illustrate the emergence and spread of other frequent clusters of sequences using Nextstrain In October researchers discovered a possible overlapping gene named ORF d in the Covid virus genome It is unknown if the protein produced by ORF d has any function but it provokes a strong immune response ORF d has been identified before in a variant of coronavirus that infects pangolins There are many thousands of variants of SARS CoV which can be grouped into the much larger clades Several different clade nomenclatures have been proposed Nextstrain divides the variants into five clades A B A B and C while GISAID divides them into seven L O V S G GH and GR Several notable variants of SARS CoV emerged in late Each SARS CoV virion is nanometres in diameter Like other coronaviruses SARS CoV has four structural proteins known as the S spike E envelope M membrane and N nucleocapsid proteins the N protein holds the RNA genome and the S E and M proteins together create the viral envelope The spike protein which has been imaged at the atomic level using cryogenic electron microscopy is the protein responsible for allowing the virus to attach to and fuse with the membrane of a host cell specifically its S subunit catalyzes attachment the S subunit fusion Protein modeling experiments on the spike protein of the virus soon suggested that SARS CoV has sufficient affinity to the receptor angiotensin converting enzyme ACE on human cells to use them as a mechanism of cell entry By January a group in China working with the full virus genome and a group in the United States using reverse genetics methods independently and experimentally demonstrated that ACE could act as the receptor for SARS CoV Studies have shown that SARS CoV has a higher affinity to human ACE than the original SARS virus SARS CoV may also use basigin to assist in cell entry Initial spike protein priming by transmembrane protease serine TMPRSS is essential for entry of SARS CoV The host protein neuropilin NRP may aid the virus in host cell entry using ACE After a SARS CoV virion attaches to a target cell the cell s protease TMPRSS cuts open the spike protein of the virus exposing a fusion peptide in the S subunit and the host receptor ACE After fusion an endosome forms around the virion separating it from the rest of the host cell The virion escapes when the pH of the endosome drops or when cathepsin a host cysteine protease cleaves it The virion then releases RNA into the cell and forces the cell to produce and disseminate copies of the virus which infect more cells SARS CoV produces at least three virulence factors that promote shedding of new virions from host cells and inhibit immune response Whether they include downregulation of ACE as seen in similar coronaviruses remains under investigation as of May Based on the low variability exhibited among known SARS CoV genomic sequences health authorities likely detected the virus within weeks of its emergence among the human population in late The earliest case of infection currently known is dated to December although an earlier case could have occurred on November The virus subsequently spread to all provinces of China and to more than other countries across the world Human to human transmission of the virus has been confirmed in all these regions On January SARS CoV was designated a Public Health Emergency of International Concern by the WHO and on March the WHO declared it a pandemic Retrospective tests collected within the Chinese surveillance system revealed no clear indication of substantial unrecognized circulation of SARS CoV in Wuhan during the latter part of The basic reproduction number R displaystyle R of the virus has been estimated to be around This means each infection from the virus is expected to result in new infections when no members of the community are immune and no preventive measures are taken The reproduction number may be higher in densely populated conditions such as those found on cruise ships Many forms of preventive efforts may be employed in specific circumstances to reduce the propagation of the virus There have been about confirmed cases of infection in mainland China While the proportion of infections that result in confirmed cases or progress to diagnosable disease remains unclear one mathematical model estimated that people were infected on January in Wuhan alone at a time when the number of confirmed cases worldwide was only Before February over of all deaths from COVID worldwide had occurred in Hubei province where Wuhan is located As of April the percentage had decreased to As of April there have been total confirmed cases of SARS CoV infection in the ongoing pandemic The total number of deaths attributed to the virus is Many recoveries from both confirmed and untested infections go unreported since some countries do not collect this data but at least people have recovered from confirmed infections Cite error A list defined reference named IJID interm host is not used in the content see the help page '"
            ]
          },
          "metadata": {
            "tags": []
          },
          "execution_count": 5
        }
      ]
    },
    {
      "cell_type": "code",
      "metadata": {
        "id": "BD2_vxawcEwN"
      },
      "source": [
        "sentence_list = nltk.sent_tokenize(article_text)\n",
        "stopwords = nltk.corpus.stopwords.words('english')\n",
        "\n",
        "word_frequencies = {}\n",
        "for word in nltk.word_tokenize(formatted_article_text):\n",
        "    if word not in stopwords:\n",
        "        if word not in word_frequencies.keys():\n",
        "            word_frequencies[word] = 1\n",
        "        else:\n",
        "            word_frequencies[word] += 1\n",
        "    maximum_frequency = max(word_frequencies.values())\n",
        "\n",
        "for word in word_frequencies.keys():\n",
        "    word_frequencies[word] = (word_frequencies[word]/maximum_frequency)\n",
        "    sentence_scores = {}\n",
        "\n",
        "# we calculate the score for only sentences with less than 30 words\n",
        "for sent in sentence_list:\n",
        "    for word in nltk.word_tokenize(sent.lower()):\n",
        "        if word in word_frequencies.keys():\n",
        "            if len(sent.split(' ')) < 30:\n",
        "                if sent not in sentence_scores.keys():\n",
        "                    sentence_scores[sent] = word_frequencies[word]\n",
        "                else:\n",
        "                    sentence_scores[sent] += word_frequencies[word]"
      ],
      "execution_count": 6,
      "outputs": []
    },
    {
      "cell_type": "code",
      "metadata": {
        "colab": {
          "base_uri": "https://localhost:8080/"
        },
        "id": "5cvr2BTbch7O",
        "outputId": "b8fdb5ce-32b9-4a64-bf7b-6ff648f3de7b"
      },
      "source": [
        "import heapq\n",
        "\n",
        "summary_sentences = heapq.nlargest(5, sentence_scores, key=sentence_scores.get)\n",
        "summary_sentences"
      ],
      "execution_count": 11,
      "outputs": [
        {
          "output_type": "execute_result",
          "data": {
            "text/plain": [
              "[' Severe acute respiratory syndrome coronavirus 2 (SARS-CoV-2) is the virus that causes coronavirus disease 2019 (COVID-19), the respiratory illness responsible for the COVID-19 pandemic.',\n",
              " 'Other studies have suggested that the virus may be airborne as well, with aerosols potentially being able to transmit the virus.',\n",
              " 'The host protein neuropilin 1 (NRP1) may aid the virus in host cell entry using ACE2.',\n",
              " 'Based on the low variability exhibited among known SARS-CoV-2 genomic sequences, health authorities likely detected the virus within weeks of its emergence among the human population in late 2019.',\n",
              " 'During the initial outbreak in Wuhan, China, various names were used for the virus; some names used by different sources included the \"coronavirus\" or \"Wuhan coronavirus\".']"
            ]
          },
          "metadata": {
            "tags": []
          },
          "execution_count": 11
        }
      ]
    },
    {
      "cell_type": "code",
      "metadata": {
        "id": "quNwDL0GcqGb",
        "colab": {
          "base_uri": "https://localhost:8080/"
        },
        "outputId": "b58591e7-71d9-4a36-d87d-786c85adaf88"
      },
      "source": [
        "summary = ' '.join(summary_sentences)\n",
        "print(summary)"
      ],
      "execution_count": 12,
      "outputs": [
        {
          "output_type": "stream",
          "text": [
            " Severe acute respiratory syndrome coronavirus 2 (SARS-CoV-2) is the virus that causes coronavirus disease 2019 (COVID-19), the respiratory illness responsible for the COVID-19 pandemic. Other studies have suggested that the virus may be airborne as well, with aerosols potentially being able to transmit the virus. The host protein neuropilin 1 (NRP1) may aid the virus in host cell entry using ACE2. Based on the low variability exhibited among known SARS-CoV-2 genomic sequences, health authorities likely detected the virus within weeks of its emergence among the human population in late 2019. During the initial outbreak in Wuhan, China, various names were used for the virus; some names used by different sources included the \"coronavirus\" or \"Wuhan coronavirus\".\n"
          ],
          "name": "stdout"
        }
      ]
    },
    {
      "cell_type": "markdown",
      "metadata": {
        "id": "WL2OTha-aBzA"
      },
      "source": [
        "**Mais informações:**\n",
        "\n",
        "> https://www.kaggle.com/imkrkannan/text-summarization-with-nltk-in-python"
      ]
    }
  ]
}