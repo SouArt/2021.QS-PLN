{
  "nbformat": 4,
  "nbformat_minor": 0,
  "metadata": {
    "colab": {
      "name": "2021-Q1 PLN Notebook 29.ipynb",
      "provenance": [],
      "collapsed_sections": [],
      "authorship_tag": "ABX9TyMy8GTj3j0ByPNpJTT+Z2ZQ",
      "include_colab_link": true
    },
    "kernelspec": {
      "name": "python3",
      "display_name": "Python 3"
    }
  },
  "cells": [
    {
      "cell_type": "markdown",
      "metadata": {
        "id": "view-in-github",
        "colab_type": "text"
      },
      "source": [
        "<a href=\"https://colab.research.google.com/github/adalves-ufabc/2021.QS-PLN/blob/main/2021_Q1_PLN_Notebook_29.ipynb\" target=\"_parent\"><img src=\"https://colab.research.google.com/assets/colab-badge.svg\" alt=\"Open In Colab\"/></a>"
      ]
    },
    {
      "cell_type": "markdown",
      "metadata": {
        "id": "cPxfYOOVKa4k"
      },
      "source": [
        "# **Processamento de Linguagem Natural [2021.Q1]**\n",
        "Prof. Alexandre Donizeti Alves"
      ]
    },
    {
      "cell_type": "markdown",
      "metadata": {
        "id": "xhZ76gV5Kfc7"
      },
      "source": [
        "### **Sumarização Automática de Textos**\n",
        "\n",
        "Hoje em dia, várias organizações, sejam elas de compras on-line, organizações governamentais ou do setor privado, indústria de turismo ou outras instituições que oferecem serviços ao cliente, estão preocupadas com seus clientes e pedem *feedback* cada vez que usamos seus serviços. \n",
        "\n",
        ">\n",
        "Considere o fato de que essas empresas podem receber enormes quantidades de feedback dos usuários todos os dias. E seria muito tedioso para a gerência sentar e analisar cada um deles. Mas, as tecnologias hoje chegaram a um ponto em que podem fazer praticamente todas as tarefas dos seres humanos. \n",
        "\n",
        ">\n",
        "As máquinas tornaram-se capazes de compreender línguas humanas usando o Processamento de Linguagem Natural. Isso pode ser feito por meio de um algoritmo para reduzir o corpus do texto, mas mantendo seu significado original, ou dando uma grande visão do texto original."
      ]
    },
    {
      "cell_type": "code",
      "metadata": {
        "colab": {
          "base_uri": "https://localhost:8080/"
        },
        "id": "5e6oWrw-7skg",
        "outputId": "31fc5855-96a0-4658-e6e0-3562867251de"
      },
      "source": [
        "import nltk\n",
        "\n",
        "nltk.download('stopwords')\n",
        "nltk.download('punkt')"
      ],
      "execution_count": 1,
      "outputs": [
        {
          "output_type": "stream",
          "text": [
            "[nltk_data] Downloading package stopwords to /root/nltk_data...\n",
            "[nltk_data]   Unzipping corpora/stopwords.zip.\n",
            "[nltk_data] Downloading package punkt to /root/nltk_data...\n",
            "[nltk_data]   Unzipping tokenizers/punkt.zip.\n"
          ],
          "name": "stdout"
        },
        {
          "output_type": "execute_result",
          "data": {
            "text/plain": [
              "True"
            ]
          },
          "metadata": {
            "tags": []
          },
          "execution_count": 1
        }
      ]
    },
    {
      "cell_type": "code",
      "metadata": {
        "id": "i7qV0dS9aS7z"
      },
      "source": [
        "# importing required libraries \n",
        "from nltk.corpus import stopwords \n",
        "from nltk.tokenize import word_tokenize, sent_tokenize"
      ],
      "execution_count": 2,
      "outputs": []
    },
    {
      "cell_type": "code",
      "metadata": {
        "id": "drnzpVX5cXD9"
      },
      "source": [
        "# input text - to summarize  \n",
        "text = \"\"\"There are many techniques available to generate extractive summarization to keep it simple,\n",
        " I will be using an unsupervised learning approach to find the sentences similarity and rank them. \n",
        " Summarization can be defined as a task of producing a concise and fluent summary while preserving \n",
        " key information and overall meaning. One benefit of this will be, you don’t need to train and build a \n",
        " model prior start using it for your project. It’s good to understand Cosine similarity to make the best \n",
        " use of the code you are going to see. Cosine similarity is a measure of similarity between two non-zero \n",
        " vectors of an inner product space that measures the cosine of the angle between them. \n",
        " Its measures cosine of the angle between vectors. The angle will be 0 if sentences are similar \"\"\""
      ],
      "execution_count": 3,
      "outputs": []
    },
    {
      "cell_type": "code",
      "metadata": {
        "id": "K-n7aeRUaZ17"
      },
      "source": [
        "# tokenizing the text \n",
        "stopWords = set(stopwords.words(\"english\")) \n",
        "words = word_tokenize(text)"
      ],
      "execution_count": 4,
      "outputs": []
    },
    {
      "cell_type": "markdown",
      "metadata": {
        "id": "wZwei1_WbI8_"
      },
      "source": [
        "Um **dicionário** manterá um registro de quantas vezes cada palavra aparece no *feedback* depois de remover as *stop words*. Podemos usar o dicionário em cada frase para saber quais frases têm o conteúdo mais relevante no texto original."
      ]
    },
    {
      "cell_type": "code",
      "metadata": {
        "id": "m_t6cu69a0jT"
      },
      "source": [
        "# creating a frequency table to keep the score of each word \n",
        "freqTable = dict() \n",
        "for word in words: \n",
        "    word = word.lower() \n",
        "    if word in stopWords: \n",
        "        continue\n",
        "    if word in freqTable: \n",
        "        freqTable[word] += 1\n",
        "    else: \n",
        "        freqTable[word] = 1"
      ],
      "execution_count": 5,
      "outputs": []
    },
    {
      "cell_type": "markdown",
      "metadata": {
        "id": "AQU3MHB4bn4u"
      },
      "source": [
        "Podemos usar o método `sent_tokenize()` para criar o array de sentenças. Em seguida, precisaremos de um dicionário para guardar a pontuação de cada frase, e depois iremos percorrer o dicionário para gerar o resumo."
      ]
    },
    {
      "cell_type": "code",
      "metadata": {
        "id": "RpYS8fH0b3zP"
      },
      "source": [
        "# creating a dictionary to keep the score of each sentence \n",
        "sentences = sent_tokenize(text) \n",
        "sentenceValue = dict()"
      ],
      "execution_count": 6,
      "outputs": []
    },
    {
      "cell_type": "code",
      "metadata": {
        "id": "oFk4_hm-fRbt"
      },
      "source": [
        "for sentence in sentences: \n",
        "    for word, freq in freqTable.items(): \n",
        "        if word in sentence.lower(): \n",
        "            if sentence in sentenceValue: \n",
        "                sentenceValue[sentence] += freq \n",
        "            else: \n",
        "                sentenceValue[sentence] = freq "
      ],
      "execution_count": 7,
      "outputs": []
    },
    {
      "cell_type": "markdown",
      "metadata": {
        "id": "p_v5z80HeM87"
      },
      "source": [
        "Uma abordagem simples para comparar as pontuações seria encontrar a pontuação média de uma frase."
      ]
    },
    {
      "cell_type": "code",
      "metadata": {
        "id": "JrOeINW_cDij"
      },
      "source": [
        "sumValues = 0\n",
        "for sentence in sentenceValue: \n",
        "\tsumValues += sentenceValue[sentence] \n",
        "\n",
        "# average value of a sentence from the original text  \n",
        "average = int(sumValues / len(sentenceValue))"
      ],
      "execution_count": 8,
      "outputs": []
    },
    {
      "cell_type": "code",
      "metadata": {
        "colab": {
          "base_uri": "https://localhost:8080/"
        },
        "id": "Gp0fJ_nffn5j",
        "outputId": "44c042a6-f2f5-4a01-f8d3-83642b933711"
      },
      "source": [
        "# storing sentences into our summary\n",
        "summary = '' \n",
        "for sentence in sentences: \n",
        "    if (sentence in sentenceValue) and (sentenceValue[sentence] > (1.2 * average)): \n",
        "        summary += \" \" + sentence \n",
        "\n",
        "print(summary) "
      ],
      "execution_count": 9,
      "outputs": [
        {
          "output_type": "stream",
          "text": [
            " There are many techniques available to generate extractive summarization to keep it simple,\n",
            " I will be using an unsupervised learning approach to find the sentences similarity and rank them. Cosine similarity is a measure of similarity between two non-zero \n",
            " vectors of an inner product space that measures the cosine of the angle between them.\n"
          ],
          "name": "stdout"
        }
      ]
    },
    {
      "cell_type": "markdown",
      "metadata": {
        "id": "kutsZZu3hKk4"
      },
      "source": [
        "**Mais informações:**\n",
        "> https://www.geeksforgeeks.org/python-text-summarizer/\n",
        "\n",
        "> https://becominghuman.ai/text-summarization-in-5-steps-using-nltk-65b21e352b65"
      ]
    }
  ]
}