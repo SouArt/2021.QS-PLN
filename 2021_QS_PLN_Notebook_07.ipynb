{
  "nbformat": 4,
  "nbformat_minor": 0,
  "metadata": {
    "colab": {
      "name": "2021-QS PLN Notebook 07.ipynb",
      "provenance": [],
      "collapsed_sections": [],
      "authorship_tag": "ABX9TyOPk25DYenBmjT+/JNnJha9",
      "include_colab_link": true
    },
    "kernelspec": {
      "name": "python3",
      "display_name": "Python 3"
    }
  },
  "cells": [
    {
      "cell_type": "markdown",
      "metadata": {
        "id": "view-in-github",
        "colab_type": "text"
      },
      "source": [
        "<a href=\"https://colab.research.google.com/github/adalves-ufabc/2021.QS-PLN/blob/main/2021_QS_PLN_Notebook_07.ipynb\" target=\"_parent\"><img src=\"https://colab.research.google.com/assets/colab-badge.svg\" alt=\"Open In Colab\"/></a>"
      ]
    },
    {
      "cell_type": "markdown",
      "metadata": {
        "id": "pmbgYaIbCuOR"
      },
      "source": [
        "# **Processamento de Linguagem Natural [2021.QS]**\n",
        "Prof. Alexandre Donizeti Alves"
      ]
    },
    {
      "cell_type": "markdown",
      "metadata": {
        "id": "OXqcxjKECvAT"
      },
      "source": [
        "# **Representação de Textos**\n",
        "\n",
        "---"
      ]
    },
    {
      "cell_type": "markdown",
      "metadata": {
        "id": "74XvOgtkC1zH"
      },
      "source": [
        "### **Codificação *One-Hot***"
      ]
    },
    {
      "cell_type": "code",
      "metadata": {
        "id": "fqnOJ5SqC7Iz",
        "colab": {
          "base_uri": "https://localhost:8080/"
        },
        "outputId": "7907f72e-3c05-4efb-8727-2e25ec291657"
      },
      "source": [
        "#--------------------------\n",
        "# One Hot Encoding of text \n",
        "#--------------------------\n",
        "\n",
        "documents = [\"Cachorro morde homem.\",\n",
        "             \"Homem morde cachorro.\", \n",
        "             \"Cachorro come carne.\", \n",
        "             \"Homem come comida.\"]\n",
        "\n",
        "processed_docs = [doc.lower().replace(\".\",\"\") for doc in documents]\n",
        "processed_docs"
      ],
      "execution_count": 1,
      "outputs": [
        {
          "output_type": "execute_result",
          "data": {
            "text/plain": [
              "['cachorro morde homem',\n",
              " 'homem morde cachorro',\n",
              " 'cachorro come carne',\n",
              " 'homem come comida']"
            ]
          },
          "metadata": {
            "tags": []
          },
          "execution_count": 1
        }
      ]
    },
    {
      "cell_type": "code",
      "metadata": {
        "id": "Qa1LXeouDnLf",
        "colab": {
          "base_uri": "https://localhost:8080/"
        },
        "outputId": "618212d6-7016-40bc-be8f-7e8e1f0692fd"
      },
      "source": [
        "# build the vocabulary\n",
        "vocab = {}\n",
        "count = 0\n",
        "for doc in processed_docs:\n",
        "    for word in doc.split():\n",
        "        if word not in vocab:\n",
        "            count = count +1\n",
        "            vocab[word] = count\n",
        "print(vocab)"
      ],
      "execution_count": 2,
      "outputs": [
        {
          "output_type": "stream",
          "text": [
            "{'cachorro': 1, 'morde': 2, 'homem': 3, 'come': 4, 'carne': 5, 'comida': 6}\n"
          ],
          "name": "stdout"
        }
      ]
    },
    {
      "cell_type": "code",
      "metadata": {
        "id": "v-pbBWv4E2VT"
      },
      "source": [
        "# get one hot representation for any string based on this vocabulary\n",
        "# if the word exists in the vocabulary, its representation is returned\n",
        "# if not, a list of zeroes is returned for that word\n",
        "def get_onehot_vector(somestring):\n",
        "    onehot_encoded = []\n",
        "    for word in somestring.split():\n",
        "        temp = [0]*len(vocab)\n",
        "        if word in vocab:\n",
        "            # -1 is to take care of the fact indexing in array starts from 0 and not 1\n",
        "            temp[vocab[word]-1] = 1 \n",
        "        onehot_encoded.append(temp)\n",
        "\n",
        "    return onehot_encoded"
      ],
      "execution_count": 3,
      "outputs": []
    },
    {
      "cell_type": "code",
      "metadata": {
        "id": "zC75D0neFR6G",
        "colab": {
          "base_uri": "https://localhost:8080/"
        },
        "outputId": "5e4ef7bd-3868-4a20-bec8-cfd35131b1ef"
      },
      "source": [
        "print(processed_docs[0])\n",
        "get_onehot_vector(processed_docs[0])"
      ],
      "execution_count": 6,
      "outputs": [
        {
          "output_type": "stream",
          "text": [
            "cachorro morde homem\n"
          ],
          "name": "stdout"
        },
        {
          "output_type": "execute_result",
          "data": {
            "text/plain": [
              "[[1, 0, 0, 0, 0, 0], [0, 1, 0, 0, 0, 0], [0, 0, 1, 0, 0, 0]]"
            ]
          },
          "metadata": {
            "tags": []
          },
          "execution_count": 6
        }
      ]
    },
    {
      "cell_type": "code",
      "metadata": {
        "id": "z51GXA5bFgWM",
        "colab": {
          "base_uri": "https://localhost:8080/"
        },
        "outputId": "274a9ae1-65f8-45ab-ec18-7f5bad517ff1"
      },
      "source": [
        "#one hot representation for a random text, using the above vocabulary\n",
        "get_onehot_vector(\"homem e cachorro são bons\") "
      ],
      "execution_count": 7,
      "outputs": [
        {
          "output_type": "execute_result",
          "data": {
            "text/plain": [
              "[[0, 0, 1, 0, 0, 0],\n",
              " [0, 0, 0, 0, 0, 0],\n",
              " [1, 0, 0, 0, 0, 0],\n",
              " [0, 0, 0, 0, 0, 0],\n",
              " [0, 0, 0, 0, 0, 0]]"
            ]
          },
          "metadata": {
            "tags": []
          },
          "execution_count": 7
        }
      ]
    },
    {
      "cell_type": "code",
      "metadata": {
        "id": "k7jq7T4GF3F8",
        "colab": {
          "base_uri": "https://localhost:8080/"
        },
        "outputId": "06a687f0-fd86-413c-a07b-78787573683b"
      },
      "source": [
        "get_onehot_vector(\"homem e homem são bons\")"
      ],
      "execution_count": 8,
      "outputs": [
        {
          "output_type": "execute_result",
          "data": {
            "text/plain": [
              "[[0, 0, 1, 0, 0, 0],\n",
              " [0, 0, 0, 0, 0, 0],\n",
              " [0, 0, 1, 0, 0, 0],\n",
              " [0, 0, 0, 0, 0, 0],\n",
              " [0, 0, 0, 0, 0, 0]]"
            ]
          },
          "metadata": {
            "tags": []
          },
          "execution_count": 8
        }
      ]
    },
    {
      "cell_type": "code",
      "metadata": {
        "id": "BGtUSx8pGDR5",
        "colab": {
          "base_uri": "https://localhost:8080/"
        },
        "outputId": "cfdaf0a2-5138-48fb-d487-fe6d5be2fcfc"
      },
      "source": [
        "#--------------------------------------\n",
        "# One-hot encoding using scikit-learn\n",
        "#--------------------------------------\n",
        "\n",
        "S1 = 'cachorro morde homem'\n",
        "S2 = 'homem morde cachorro'\n",
        "S3 = 'cachorro come carne'\n",
        "S4 = 'homem come comida'\n",
        "\n",
        "from sklearn.preprocessing import LabelEncoder, OneHotEncoder\n",
        "\n",
        "data = [S1.split(), S2.split(), S3.split(), S4.split()]\n",
        "values = data[0] + data[1] + data[2] + data[3]\n",
        "print(\"Dados: \",values)\n",
        "\n",
        "# Label Encoding\n",
        "label_encoder = LabelEncoder()\n",
        "integer_encoded = label_encoder.fit_transform(values)\n",
        "print(\"Codificacao:\",integer_encoded)\n",
        "\n",
        "# One-Hot Encoding [cria uma representacao binaria]\n",
        "onehot_encoder = OneHotEncoder()\n",
        "onehot_encoded = onehot_encoder.fit_transform(data).toarray()\n",
        "print(\"Matriz da codificacao One-Hot:\\n\",onehot_encoded)"
      ],
      "execution_count": 11,
      "outputs": [
        {
          "output_type": "stream",
          "text": [
            "Dados:  ['cachorro', 'morde', 'homem', 'homem', 'morde', 'cachorro', 'cachorro', 'come', 'carne', 'homem', 'come', 'comida']\n",
            "Codificacao: [0 5 4 4 5 0 0 2 1 4 2 3]\n",
            "Matriz da codificacao One-Hot:\n",
            " [[1. 0. 0. 1. 0. 0. 0. 1.]\n",
            " [0. 1. 0. 1. 1. 0. 0. 0.]\n",
            " [1. 0. 1. 0. 0. 1. 0. 0.]\n",
            " [0. 1. 1. 0. 0. 0. 1. 0.]]\n"
          ],
          "name": "stdout"
        }
      ]
    },
    {
      "cell_type": "markdown",
      "metadata": {
        "id": "H_UyZDziL1-9"
      },
      "source": [
        "### ***Bag of Words***"
      ]
    },
    {
      "cell_type": "code",
      "metadata": {
        "id": "4IX2g0f5L5zt",
        "colab": {
          "base_uri": "https://localhost:8080/"
        },
        "outputId": "50de2f0d-2554-449e-adb9-d463b2268711"
      },
      "source": [
        "#---------------------\n",
        "# Bag of Words - BoW\n",
        "#---------------------\n",
        "\n",
        "documents = [\"Cachorro morde homem.\",\n",
        "             \"Homem morde cachorro.\", \n",
        "             \"Cachorro come carne.\", \n",
        "             \"Homem come comida.\"]\n",
        "\n",
        "processed_docs = [doc.lower().replace(\".\",\"\") for doc in documents]\n",
        "processed_docs"
      ],
      "execution_count": 12,
      "outputs": [
        {
          "output_type": "execute_result",
          "data": {
            "text/plain": [
              "['cachorro morde homem',\n",
              " 'homem morde cachorro',\n",
              " 'cachorro come carne',\n",
              " 'homem come comida']"
            ]
          },
          "metadata": {
            "tags": []
          },
          "execution_count": 12
        }
      ]
    },
    {
      "cell_type": "code",
      "metadata": {
        "id": "MJEa5xmpMG4t",
        "colab": {
          "base_uri": "https://localhost:8080/"
        },
        "outputId": "0434bed6-74a2-4125-a545-5c34882eda55"
      },
      "source": [
        "from sklearn.feature_extraction.text import CountVectorizer\n",
        "\n",
        "# look at the documents list\n",
        "print(\"Corpus: \", processed_docs)\n",
        "\n",
        "count_vect = CountVectorizer()\n",
        "\n",
        "# build a BOW representation for the corpus\n",
        "bow_rep = count_vect.fit_transform(processed_docs)\n",
        "\n",
        "# look at the vocabulary mapping\n",
        "print(\"Vocabulario: \", count_vect.vocabulary_)\n",
        "\n",
        "# see the BOW rep for first 2 documents\n",
        "print(\"Representacao BoW para 'cachorro morde homem': \", bow_rep[0].toarray())\n",
        "print(\"Representacao BoW para 'homem morde cachorro': \",bow_rep[3].toarray())\n",
        "\n",
        "# get the representation using this vocabulary, for a new text\n",
        "temp = count_vect.transform([\"cachorro e cachorro são amigos\"])\n",
        "print(\"Representacao Bow para 'cachorro e cachorro são amigos':\", temp.toarray())"
      ],
      "execution_count": 13,
      "outputs": [
        {
          "output_type": "stream",
          "text": [
            "Corpus:  ['cachorro morde homem', 'homem morde cachorro', 'cachorro come carne', 'homem come comida']\n",
            "Vocabulario:  {'cachorro': 0, 'morde': 5, 'homem': 4, 'come': 2, 'carne': 1, 'comida': 3}\n",
            "Representacao BoW para 'cachorro morde homem':  [[1 0 0 0 1 1]]\n",
            "Representacao BoW para 'homem morde cachorro':  [[0 0 1 1 1 0]]\n",
            "Representacao Bow para 'cachorro e cachorro são amigos': [[2 0 0 0 0 0]]\n"
          ],
          "name": "stdout"
        }
      ]
    },
    {
      "cell_type": "markdown",
      "metadata": {
        "id": "A3_tCTfSNqRu"
      },
      "source": [
        "No código acima, representamos o texto considerando a frequência das palavras. Porém, às vezes, não nos importamos muito com a frequência, mas apenas queremos saber se uma palavra apareceu em um texto ou não. Ou seja, cada documento é representado como um vetor de 0s e 1s. Usaremos a opção `binary = True` no *CountVectorizer* para este propósito"
      ]
    },
    {
      "cell_type": "code",
      "metadata": {
        "id": "0RY4AGUkNxPU",
        "colab": {
          "base_uri": "https://localhost:8080/"
        },
        "outputId": "7f7c6e5c-82cf-4239-a033-84edde710798"
      },
      "source": [
        "# BoW with binary vectors\n",
        "count_vect = CountVectorizer(binary=True)\n",
        "bow_rep_bin = count_vect.fit_transform(processed_docs)\n",
        "temp = count_vect.transform([\"cachorro e cachorro são amigos\"])\n",
        "print(\"Bow representation for 'cachorro e cachorro são amigos':\", temp.toarray())"
      ],
      "execution_count": 14,
      "outputs": [
        {
          "output_type": "stream",
          "text": [
            "Bow representation for 'cachorro e cachorro são amigos': [[1 0 0 0 0 0]]\n"
          ],
          "name": "stdout"
        }
      ]
    },
    {
      "cell_type": "markdown",
      "metadata": {
        "id": "tDWyt-en-lKX"
      },
      "source": [
        "### ***Bag of N-grams***"
      ]
    },
    {
      "cell_type": "code",
      "metadata": {
        "id": "bWeFsXXN-pta",
        "colab": {
          "base_uri": "https://localhost:8080/"
        },
        "outputId": "3357dde8-eb96-4b42-83ad-e38ec690d652"
      },
      "source": [
        "# corpus\n",
        "documents = [\"Cachorro morde homem.\", \n",
        "             \"Homem morde cachorro.\", \n",
        "             \"Cachorro come carne.\", \n",
        "             \"Homem come comida.\"]\n",
        "\n",
        "processed_docs = [doc.lower().replace(\".\",\"\") for doc in documents]\n",
        "processed_docs"
      ],
      "execution_count": 15,
      "outputs": [
        {
          "output_type": "execute_result",
          "data": {
            "text/plain": [
              "['cachorro morde homem',\n",
              " 'homem morde cachorro',\n",
              " 'cachorro come carne',\n",
              " 'homem come comida']"
            ]
          },
          "metadata": {
            "tags": []
          },
          "execution_count": 15
        }
      ]
    },
    {
      "cell_type": "code",
      "metadata": {
        "id": "fT6UpjWx_H6O",
        "colab": {
          "base_uri": "https://localhost:8080/"
        },
        "outputId": "28b0c0ad-2738-4238-8f33-d775391d0dfb"
      },
      "source": [
        "from sklearn.feature_extraction.text import CountVectorizer\n",
        "\n",
        "# Ngram vectorization example with count vectorizer and uni, bi, trigrams\n",
        "count_vect = CountVectorizer(ngram_range=(1,3))\n",
        "\n",
        "# Build a BOW representation for the corpus\n",
        "bow_rep = count_vect.fit_transform(processed_docs)\n",
        "\n",
        "# Look at the vocabulary mapping\n",
        "print(\"Vocabulario: \", count_vect.vocabulary_)\n",
        "\n",
        "# see the BOW rep for first 2 documents\n",
        "print(\"Representacao BoW para 'cachorro morde homem': \", bow_rep[0].toarray())\n",
        "print(\"Representacao BoW para 'homem morde cachorro: \",bow_rep[1].toarray())\n",
        "\n",
        "# get the representation using this vocabulary, for a new text\n",
        "temp = count_vect.transform([\"cachorro e cachorro são amigos\"])\n",
        "\n",
        "print(\"Representacao BoW para 'cachorro e cachorro são amigos':\", temp.toarray())"
      ],
      "execution_count": 16,
      "outputs": [
        {
          "output_type": "stream",
          "text": [
            "Vocabulario:  {'cachorro': 0, 'morde': 15, 'homem': 10, 'cachorro morde': 3, 'morde homem': 17, 'cachorro morde homem': 4, 'homem morde': 13, 'morde cachorro': 16, 'homem morde cachorro': 14, 'come': 6, 'carne': 5, 'cachorro come': 1, 'come carne': 7, 'cachorro come carne': 2, 'comida': 9, 'homem come': 11, 'come comida': 8, 'homem come comida': 12}\n",
            "Representacao BoW para 'cachorro morde homem':  [[1 0 0 1 1 0 0 0 0 0 1 0 0 0 0 1 0 1]]\n",
            "Representacao BoW para 'homem morde cachorro:  [[1 0 0 0 0 0 0 0 0 0 1 0 0 1 1 1 1 0]]\n",
            "Representacao BoW para 'cachorro e cachorro são amigos': [[2 0 0 0 0 0 0 0 0 0 0 0 0 0 0 0 0 0]]\n"
          ],
          "name": "stdout"
        }
      ]
    },
    {
      "cell_type": "markdown",
      "metadata": {
        "id": "KEZw7HmlAPO_"
      },
      "source": [
        "### ***TF-IDF***"
      ]
    },
    {
      "cell_type": "code",
      "metadata": {
        "id": "NbLNPGWMASq_",
        "colab": {
          "base_uri": "https://localhost:8080/"
        },
        "outputId": "65911621-93ff-4715-f560-7292b3a3653f"
      },
      "source": [
        "# corpus\n",
        "documents = [\"Cachorro morde homem.\", \n",
        "             \"Homem morde cachorro.\", \n",
        "             \"Cachorro come carne.\", \n",
        "             \"Homem come comida.\"]\n",
        "\n",
        "processed_docs = [doc.lower().replace(\".\",\"\") for doc in documents]\n",
        "processed_docs"
      ],
      "execution_count": 17,
      "outputs": [
        {
          "output_type": "execute_result",
          "data": {
            "text/plain": [
              "['cachorro morde homem',\n",
              " 'homem morde cachorro',\n",
              " 'cachorro come carne',\n",
              " 'homem come comida']"
            ]
          },
          "metadata": {
            "tags": []
          },
          "execution_count": 17
        }
      ]
    },
    {
      "cell_type": "code",
      "metadata": {
        "id": "EeIwHPDJAZRx",
        "colab": {
          "base_uri": "https://localhost:8080/"
        },
        "outputId": "76edbbec-b6ba-43a5-90a3-820d3b5c30ae"
      },
      "source": [
        "# Scikit-Learn\n",
        "from sklearn.feature_extraction.text import TfidfVectorizer\n",
        "\n",
        "tfidf = TfidfVectorizer()\n",
        "bow_rep_tfidf = tfidf.fit_transform(processed_docs)\n",
        "\n",
        "# IDF for all words in the vocabulary\n",
        "print(\"IDF for all words in the vocabulary\",tfidf.idf_)\n",
        "print(\"-\"*10)\n",
        "\n",
        "# all words in the vocabulary.\n",
        "print(\"All words in the vocabulary\",tfidf.get_feature_names())\n",
        "print(\"-\"*10)\n",
        "\n",
        "#TFIDF representation for all documents in our corpus \n",
        "print(\"TFIDF representation for all documents in our corpus\\n\",bow_rep_tfidf.toarray()) \n",
        "print(\"-\"*10)\n",
        "\n",
        "temp = tfidf.transform([\"cachorro e homem sao amigos\"])\n",
        "print(\"Tfidf representation for 'cachorro e homem sao amigos':\\n\", temp.toarray())"
      ],
      "execution_count": 18,
      "outputs": [
        {
          "output_type": "stream",
          "text": [
            "IDF for all words in the vocabulary [1.22314355 1.91629073 1.51082562 1.91629073 1.22314355 1.51082562]\n",
            "----------\n",
            "All words in the vocabulary ['cachorro', 'carne', 'come', 'comida', 'homem', 'morde']\n",
            "----------\n",
            "TFIDF representation for all documents in our corpus\n",
            " [[0.53256952 0.         0.         0.         0.53256952 0.65782931]\n",
            " [0.53256952 0.         0.         0.         0.53256952 0.65782931]\n",
            " [0.44809973 0.70203482 0.55349232 0.         0.         0.        ]\n",
            " [0.         0.         0.55349232 0.70203482 0.44809973 0.        ]]\n",
            "----------\n",
            "Tfidf representation for 'cachorro e homem sao amigos':\n",
            " [[0.70710678 0.         0.         0.         0.70710678 0.        ]]\n"
          ],
          "name": "stdout"
        }
      ]
    }
  ]
}