{
  "nbformat": 4,
  "nbformat_minor": 0,
  "metadata": {
    "colab": {
      "name": "2021-Q1 PLN Notebook 05.ipynb",
      "provenance": [],
      "collapsed_sections": [],
      "authorship_tag": "ABX9TyP2OGU0dCYsRJCCLPGI+HK5",
      "include_colab_link": true
    },
    "kernelspec": {
      "name": "python3",
      "display_name": "Python 3"
    }
  },
  "cells": [
    {
      "cell_type": "markdown",
      "metadata": {
        "id": "view-in-github",
        "colab_type": "text"
      },
      "source": [
        "<a href=\"https://colab.research.google.com/github/adalves-ufabc/2021.QS-PLN/blob/main/2021_Q1_PLN_Notebook_05.ipynb\" target=\"_parent\"><img src=\"https://colab.research.google.com/assets/colab-badge.svg\" alt=\"Open In Colab\"/></a>"
      ]
    },
    {
      "cell_type": "markdown",
      "metadata": {
        "id": "K6bbwqE-58UQ"
      },
      "source": [
        "# **Processamento de Linguagem Natural [2021.Q1]**\n",
        "Prof. Alexandre Donizeti Alves"
      ]
    },
    {
      "cell_type": "markdown",
      "metadata": {
        "id": "1uZuWu6U76i4"
      },
      "source": [
        "### **Extração de n-gramas**"
      ]
    },
    {
      "cell_type": "markdown",
      "metadata": {
        "id": "2qW1FOsm8CXd"
      },
      "source": [
        "Neste exemplo, extrairemos n-gramas usando três métodos diferentes. Primeiro, usaremos funções personalizadas e, em seguida, as bibliotecas **nltk** e **textblob**."
      ]
    },
    {
      "cell_type": "code",
      "metadata": {
        "id": "6r2IBJqv8EMn"
      },
      "source": [
        "import re\n",
        "\n",
        "def n_gram_extractor(sentence, n):\n",
        "    tokens = re.sub(r'([^\\s\\w]|_)+', ' ', sentence).split()\n",
        "    for i in range(len(tokens)-n+1):\n",
        "        print(tokens[i:i+n])"
      ],
      "execution_count": 1,
      "outputs": []
    },
    {
      "cell_type": "code",
      "metadata": {
        "id": "k31hqgH0GfPX",
        "colab": {
          "base_uri": "https://localhost:8080/"
        },
        "outputId": "b6061165-7e4a-4c41-ee4d-fc9a89e91919"
      },
      "source": [
        "n_gram_extractor('The cute little boy is playing with the kitten.', 2)"
      ],
      "execution_count": 3,
      "outputs": [
        {
          "output_type": "stream",
          "text": [
            "['The', 'cute']\n",
            "['cute', 'little']\n",
            "['little', 'boy']\n",
            "['boy', 'is']\n",
            "['is', 'playing']\n",
            "['playing', 'with']\n",
            "['with', 'the']\n",
            "['the', 'kitten']\n"
          ],
          "name": "stdout"
        }
      ]
    },
    {
      "cell_type": "code",
      "metadata": {
        "id": "ImMwbdt5GnG_",
        "colab": {
          "base_uri": "https://localhost:8080/"
        },
        "outputId": "4c49936f-cecf-4bb7-c298-6c44176cf1af"
      },
      "source": [
        "n_gram_extractor('The cute little boy is playing with the kitten.', 3)"
      ],
      "execution_count": 4,
      "outputs": [
        {
          "output_type": "stream",
          "text": [
            "['The', 'cute', 'little']\n",
            "['cute', 'little', 'boy']\n",
            "['little', 'boy', 'is']\n",
            "['boy', 'is', 'playing']\n",
            "['is', 'playing', 'with']\n",
            "['playing', 'with', 'the']\n",
            "['with', 'the', 'kitten']\n"
          ],
          "name": "stdout"
        }
      ]
    },
    {
      "cell_type": "code",
      "metadata": {
        "id": "GH92ghl1G4Cw",
        "colab": {
          "base_uri": "https://localhost:8080/"
        },
        "outputId": "216d361c-dd0c-45d0-b2a2-e24239d03383"
      },
      "source": [
        "from nltk import ngrams\n",
        "list(ngrams('The cute little boy is playing with the kitten.'.split(), 2))"
      ],
      "execution_count": 5,
      "outputs": [
        {
          "output_type": "execute_result",
          "data": {
            "text/plain": [
              "[('The', 'cute'),\n",
              " ('cute', 'little'),\n",
              " ('little', 'boy'),\n",
              " ('boy', 'is'),\n",
              " ('is', 'playing'),\n",
              " ('playing', 'with'),\n",
              " ('with', 'the'),\n",
              " ('the', 'kitten.')]"
            ]
          },
          "metadata": {
            "tags": []
          },
          "execution_count": 5
        }
      ]
    },
    {
      "cell_type": "code",
      "metadata": {
        "id": "bUz98SIXHAO3",
        "colab": {
          "base_uri": "https://localhost:8080/"
        },
        "outputId": "e2ff332d-c23a-4e13-a8d9-58556f1eee3d"
      },
      "source": [
        "list(ngrams('The cute little boy is playing with the kitten.'.split(), 3))"
      ],
      "execution_count": 9,
      "outputs": [
        {
          "output_type": "execute_result",
          "data": {
            "text/plain": [
              "[('The', 'cute', 'little'),\n",
              " ('cute', 'little', 'boy'),\n",
              " ('little', 'boy', 'is'),\n",
              " ('boy', 'is', 'playing'),\n",
              " ('is', 'playing', 'with'),\n",
              " ('playing', 'with', 'the'),\n",
              " ('with', 'the', 'kitten.')]"
            ]
          },
          "metadata": {
            "tags": []
          },
          "execution_count": 9
        }
      ]
    },
    {
      "cell_type": "code",
      "metadata": {
        "id": "fdqJA_MyHVb1",
        "colab": {
          "base_uri": "https://localhost:8080/"
        },
        "outputId": "3223c581-8bd9-4249-ac9a-ab1751a41f03"
      },
      "source": [
        "!pip install -U textblob\n",
        "\n",
        "import nltk\n",
        "nltk.download('punkt')"
      ],
      "execution_count": 10,
      "outputs": [
        {
          "output_type": "stream",
          "text": [
            "Requirement already up-to-date: textblob in /usr/local/lib/python3.6/dist-packages (0.15.3)\n",
            "Requirement already satisfied, skipping upgrade: nltk>=3.1 in /usr/local/lib/python3.6/dist-packages (from textblob) (3.2.5)\n",
            "Requirement already satisfied, skipping upgrade: six in /usr/local/lib/python3.6/dist-packages (from nltk>=3.1->textblob) (1.15.0)\n",
            "[nltk_data] Downloading package punkt to /root/nltk_data...\n",
            "[nltk_data]   Unzipping tokenizers/punkt.zip.\n"
          ],
          "name": "stdout"
        },
        {
          "output_type": "execute_result",
          "data": {
            "text/plain": [
              "True"
            ]
          },
          "metadata": {
            "tags": []
          },
          "execution_count": 10
        }
      ]
    },
    {
      "cell_type": "code",
      "metadata": {
        "id": "gGsKpNpDHDww",
        "colab": {
          "base_uri": "https://localhost:8080/"
        },
        "outputId": "c3b1adee-3fcb-441c-8c18-1854ec224f9e"
      },
      "source": [
        "from textblob import TextBlob\n",
        "blob = TextBlob(\"The cute little boy is playing with the kitten.\")\n",
        "blob.ngrams(n=2)"
      ],
      "execution_count": 12,
      "outputs": [
        {
          "output_type": "execute_result",
          "data": {
            "text/plain": [
              "[WordList(['The', 'cute']),\n",
              " WordList(['cute', 'little']),\n",
              " WordList(['little', 'boy']),\n",
              " WordList(['boy', 'is']),\n",
              " WordList(['is', 'playing']),\n",
              " WordList(['playing', 'with']),\n",
              " WordList(['with', 'the']),\n",
              " WordList(['the', 'kitten'])]"
            ]
          },
          "metadata": {
            "tags": []
          },
          "execution_count": 12
        }
      ]
    },
    {
      "cell_type": "code",
      "metadata": {
        "id": "cHGW4TDiH3tn",
        "colab": {
          "base_uri": "https://localhost:8080/"
        },
        "outputId": "83d37c8c-2956-4d3c-f2b9-e14755ca9de8"
      },
      "source": [
        "blob.ngrams(n=3)"
      ],
      "execution_count": 15,
      "outputs": [
        {
          "output_type": "execute_result",
          "data": {
            "text/plain": [
              "[WordList(['The', 'cute', 'little']),\n",
              " WordList(['cute', 'little', 'boy']),\n",
              " WordList(['little', 'boy', 'is']),\n",
              " WordList(['boy', 'is', 'playing']),\n",
              " WordList(['is', 'playing', 'with']),\n",
              " WordList(['playing', 'with', 'the']),\n",
              " WordList(['with', 'the', 'kitten'])]"
            ]
          },
          "metadata": {
            "tags": []
          },
          "execution_count": 15
        }
      ]
    }
  ]
}