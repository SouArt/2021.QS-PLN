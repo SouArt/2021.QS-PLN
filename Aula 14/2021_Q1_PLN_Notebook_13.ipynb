{
  "nbformat": 4,
  "nbformat_minor": 0,
  "metadata": {
    "kernelspec": {
      "display_name": "Python 3",
      "language": "python",
      "name": "python3"
    },
    "language_info": {
      "codemirror_mode": {
        "name": "ipython",
        "version": 3
      },
      "file_extension": ".py",
      "mimetype": "text/x-python",
      "name": "python",
      "nbconvert_exporter": "python",
      "pygments_lexer": "ipython3",
      "version": "3.7.6"
    },
    "colab": {
      "name": "2021-Q1 PLN Notebook 13.ipynb",
      "provenance": [],
      "collapsed_sections": [],
      "include_colab_link": true
    },
    "accelerator": "GPU",
    "widgets": {
      "application/vnd.jupyter.widget-state+json": {
        "07a18f57367e4794bc9a35b184a32555": {
          "model_module": "@jupyter-widgets/controls",
          "model_name": "HBoxModel",
          "state": {
            "_view_name": "HBoxView",
            "_dom_classes": [],
            "_model_name": "HBoxModel",
            "_view_module": "@jupyter-widgets/controls",
            "_model_module_version": "1.5.0",
            "_view_count": null,
            "_view_module_version": "1.5.0",
            "box_style": "",
            "layout": "IPY_MODEL_4543e419266644689a91cf843ef2ea8f",
            "_model_module": "@jupyter-widgets/controls",
            "children": [
              "IPY_MODEL_f450dbc4e5124845bb8cfead6cb9f28f",
              "IPY_MODEL_eb174ee67fbf47e6827d47768971b89a"
            ]
          }
        },
        "4543e419266644689a91cf843ef2ea8f": {
          "model_module": "@jupyter-widgets/base",
          "model_name": "LayoutModel",
          "state": {
            "_view_name": "LayoutView",
            "grid_template_rows": null,
            "right": null,
            "justify_content": null,
            "_view_module": "@jupyter-widgets/base",
            "overflow": null,
            "_model_module_version": "1.2.0",
            "_view_count": null,
            "flex_flow": null,
            "width": null,
            "min_width": null,
            "border": null,
            "align_items": null,
            "bottom": null,
            "_model_module": "@jupyter-widgets/base",
            "top": null,
            "grid_column": null,
            "overflow_y": null,
            "overflow_x": null,
            "grid_auto_flow": null,
            "grid_area": null,
            "grid_template_columns": null,
            "flex": null,
            "_model_name": "LayoutModel",
            "justify_items": null,
            "grid_row": null,
            "max_height": null,
            "align_content": null,
            "visibility": null,
            "align_self": null,
            "height": null,
            "min_height": null,
            "padding": null,
            "grid_auto_rows": null,
            "grid_gap": null,
            "max_width": null,
            "order": null,
            "_view_module_version": "1.2.0",
            "grid_template_areas": null,
            "object_position": null,
            "object_fit": null,
            "grid_auto_columns": null,
            "margin": null,
            "display": null,
            "left": null
          }
        },
        "f450dbc4e5124845bb8cfead6cb9f28f": {
          "model_module": "@jupyter-widgets/controls",
          "model_name": "FloatProgressModel",
          "state": {
            "_view_name": "ProgressView",
            "style": "IPY_MODEL_b8288ebcba3c4447beedbe3c6ecc6474",
            "_dom_classes": [],
            "description": "Downloading: 100%",
            "_model_name": "FloatProgressModel",
            "bar_style": "success",
            "max": 4107,
            "_view_module": "@jupyter-widgets/controls",
            "_model_module_version": "1.5.0",
            "value": 4107,
            "_view_count": null,
            "_view_module_version": "1.5.0",
            "orientation": "horizontal",
            "min": 0,
            "description_tooltip": null,
            "_model_module": "@jupyter-widgets/controls",
            "layout": "IPY_MODEL_7d73e6fcc68c488bbc2e7a53996ccd03"
          }
        },
        "eb174ee67fbf47e6827d47768971b89a": {
          "model_module": "@jupyter-widgets/controls",
          "model_name": "HTMLModel",
          "state": {
            "_view_name": "HTMLView",
            "style": "IPY_MODEL_83ec219cbc274ba8863ede6c4b0c1de9",
            "_dom_classes": [],
            "description": "",
            "_model_name": "HTMLModel",
            "placeholder": "​",
            "_view_module": "@jupyter-widgets/controls",
            "_model_module_version": "1.5.0",
            "value": " 4.11k/4.11k [00:05&lt;00:00, 797B/s]",
            "_view_count": null,
            "_view_module_version": "1.5.0",
            "description_tooltip": null,
            "_model_module": "@jupyter-widgets/controls",
            "layout": "IPY_MODEL_ec2081cef86843119db9c44da2773f97"
          }
        },
        "b8288ebcba3c4447beedbe3c6ecc6474": {
          "model_module": "@jupyter-widgets/controls",
          "model_name": "ProgressStyleModel",
          "state": {
            "_view_name": "StyleView",
            "_model_name": "ProgressStyleModel",
            "description_width": "initial",
            "_view_module": "@jupyter-widgets/base",
            "_model_module_version": "1.5.0",
            "_view_count": null,
            "_view_module_version": "1.2.0",
            "bar_color": null,
            "_model_module": "@jupyter-widgets/controls"
          }
        },
        "7d73e6fcc68c488bbc2e7a53996ccd03": {
          "model_module": "@jupyter-widgets/base",
          "model_name": "LayoutModel",
          "state": {
            "_view_name": "LayoutView",
            "grid_template_rows": null,
            "right": null,
            "justify_content": null,
            "_view_module": "@jupyter-widgets/base",
            "overflow": null,
            "_model_module_version": "1.2.0",
            "_view_count": null,
            "flex_flow": null,
            "width": null,
            "min_width": null,
            "border": null,
            "align_items": null,
            "bottom": null,
            "_model_module": "@jupyter-widgets/base",
            "top": null,
            "grid_column": null,
            "overflow_y": null,
            "overflow_x": null,
            "grid_auto_flow": null,
            "grid_area": null,
            "grid_template_columns": null,
            "flex": null,
            "_model_name": "LayoutModel",
            "justify_items": null,
            "grid_row": null,
            "max_height": null,
            "align_content": null,
            "visibility": null,
            "align_self": null,
            "height": null,
            "min_height": null,
            "padding": null,
            "grid_auto_rows": null,
            "grid_gap": null,
            "max_width": null,
            "order": null,
            "_view_module_version": "1.2.0",
            "grid_template_areas": null,
            "object_position": null,
            "object_fit": null,
            "grid_auto_columns": null,
            "margin": null,
            "display": null,
            "left": null
          }
        },
        "83ec219cbc274ba8863ede6c4b0c1de9": {
          "model_module": "@jupyter-widgets/controls",
          "model_name": "DescriptionStyleModel",
          "state": {
            "_view_name": "StyleView",
            "_model_name": "DescriptionStyleModel",
            "description_width": "",
            "_view_module": "@jupyter-widgets/base",
            "_model_module_version": "1.5.0",
            "_view_count": null,
            "_view_module_version": "1.2.0",
            "_model_module": "@jupyter-widgets/controls"
          }
        },
        "ec2081cef86843119db9c44da2773f97": {
          "model_module": "@jupyter-widgets/base",
          "model_name": "LayoutModel",
          "state": {
            "_view_name": "LayoutView",
            "grid_template_rows": null,
            "right": null,
            "justify_content": null,
            "_view_module": "@jupyter-widgets/base",
            "overflow": null,
            "_model_module_version": "1.2.0",
            "_view_count": null,
            "flex_flow": null,
            "width": null,
            "min_width": null,
            "border": null,
            "align_items": null,
            "bottom": null,
            "_model_module": "@jupyter-widgets/base",
            "top": null,
            "grid_column": null,
            "overflow_y": null,
            "overflow_x": null,
            "grid_auto_flow": null,
            "grid_area": null,
            "grid_template_columns": null,
            "flex": null,
            "_model_name": "LayoutModel",
            "justify_items": null,
            "grid_row": null,
            "max_height": null,
            "align_content": null,
            "visibility": null,
            "align_self": null,
            "height": null,
            "min_height": null,
            "padding": null,
            "grid_auto_rows": null,
            "grid_gap": null,
            "max_width": null,
            "order": null,
            "_view_module_version": "1.2.0",
            "grid_template_areas": null,
            "object_position": null,
            "object_fit": null,
            "grid_auto_columns": null,
            "margin": null,
            "display": null,
            "left": null
          }
        },
        "36150478371248a6b68d8bf56635ba31": {
          "model_module": "@jupyter-widgets/controls",
          "model_name": "HBoxModel",
          "state": {
            "_view_name": "HBoxView",
            "_dom_classes": [],
            "_model_name": "HBoxModel",
            "_view_module": "@jupyter-widgets/controls",
            "_model_module_version": "1.5.0",
            "_view_count": null,
            "_view_module_version": "1.5.0",
            "box_style": "",
            "layout": "IPY_MODEL_a9867d1d6a4947c68b5180afaa014602",
            "_model_module": "@jupyter-widgets/controls",
            "children": [
              "IPY_MODEL_d3345e1099a24e8685cbb736a5c5c8f2",
              "IPY_MODEL_61fad189d00146f6ab894fbedc306535"
            ]
          }
        },
        "a9867d1d6a4947c68b5180afaa014602": {
          "model_module": "@jupyter-widgets/base",
          "model_name": "LayoutModel",
          "state": {
            "_view_name": "LayoutView",
            "grid_template_rows": null,
            "right": null,
            "justify_content": null,
            "_view_module": "@jupyter-widgets/base",
            "overflow": null,
            "_model_module_version": "1.2.0",
            "_view_count": null,
            "flex_flow": null,
            "width": null,
            "min_width": null,
            "border": null,
            "align_items": null,
            "bottom": null,
            "_model_module": "@jupyter-widgets/base",
            "top": null,
            "grid_column": null,
            "overflow_y": null,
            "overflow_x": null,
            "grid_auto_flow": null,
            "grid_area": null,
            "grid_template_columns": null,
            "flex": null,
            "_model_name": "LayoutModel",
            "justify_items": null,
            "grid_row": null,
            "max_height": null,
            "align_content": null,
            "visibility": null,
            "align_self": null,
            "height": null,
            "min_height": null,
            "padding": null,
            "grid_auto_rows": null,
            "grid_gap": null,
            "max_width": null,
            "order": null,
            "_view_module_version": "1.2.0",
            "grid_template_areas": null,
            "object_position": null,
            "object_fit": null,
            "grid_auto_columns": null,
            "margin": null,
            "display": null,
            "left": null
          }
        },
        "d3345e1099a24e8685cbb736a5c5c8f2": {
          "model_module": "@jupyter-widgets/controls",
          "model_name": "FloatProgressModel",
          "state": {
            "_view_name": "ProgressView",
            "style": "IPY_MODEL_0e7079c199084d6196ab2d82e7613d4e",
            "_dom_classes": [],
            "description": "Downloading: 100%",
            "_model_name": "FloatProgressModel",
            "bar_style": "success",
            "max": 1635,
            "_view_module": "@jupyter-widgets/controls",
            "_model_module_version": "1.5.0",
            "value": 1635,
            "_view_count": null,
            "_view_module_version": "1.5.0",
            "orientation": "horizontal",
            "min": 0,
            "description_tooltip": null,
            "_model_module": "@jupyter-widgets/controls",
            "layout": "IPY_MODEL_c752277167b747a383530a45de1798d5"
          }
        },
        "61fad189d00146f6ab894fbedc306535": {
          "model_module": "@jupyter-widgets/controls",
          "model_name": "HTMLModel",
          "state": {
            "_view_name": "HTMLView",
            "style": "IPY_MODEL_b6d27b31daab478098e654dceb1cd5d6",
            "_dom_classes": [],
            "description": "",
            "_model_name": "HTMLModel",
            "placeholder": "​",
            "_view_module": "@jupyter-widgets/controls",
            "_model_module_version": "1.5.0",
            "value": " 1.64k/1.64k [00:04&lt;00:00, 362B/s]",
            "_view_count": null,
            "_view_module_version": "1.5.0",
            "description_tooltip": null,
            "_model_module": "@jupyter-widgets/controls",
            "layout": "IPY_MODEL_c686ccd3ab374611b4db3d5bc37611b6"
          }
        },
        "0e7079c199084d6196ab2d82e7613d4e": {
          "model_module": "@jupyter-widgets/controls",
          "model_name": "ProgressStyleModel",
          "state": {
            "_view_name": "StyleView",
            "_model_name": "ProgressStyleModel",
            "description_width": "initial",
            "_view_module": "@jupyter-widgets/base",
            "_model_module_version": "1.5.0",
            "_view_count": null,
            "_view_module_version": "1.2.0",
            "bar_color": null,
            "_model_module": "@jupyter-widgets/controls"
          }
        },
        "c752277167b747a383530a45de1798d5": {
          "model_module": "@jupyter-widgets/base",
          "model_name": "LayoutModel",
          "state": {
            "_view_name": "LayoutView",
            "grid_template_rows": null,
            "right": null,
            "justify_content": null,
            "_view_module": "@jupyter-widgets/base",
            "overflow": null,
            "_model_module_version": "1.2.0",
            "_view_count": null,
            "flex_flow": null,
            "width": null,
            "min_width": null,
            "border": null,
            "align_items": null,
            "bottom": null,
            "_model_module": "@jupyter-widgets/base",
            "top": null,
            "grid_column": null,
            "overflow_y": null,
            "overflow_x": null,
            "grid_auto_flow": null,
            "grid_area": null,
            "grid_template_columns": null,
            "flex": null,
            "_model_name": "LayoutModel",
            "justify_items": null,
            "grid_row": null,
            "max_height": null,
            "align_content": null,
            "visibility": null,
            "align_self": null,
            "height": null,
            "min_height": null,
            "padding": null,
            "grid_auto_rows": null,
            "grid_gap": null,
            "max_width": null,
            "order": null,
            "_view_module_version": "1.2.0",
            "grid_template_areas": null,
            "object_position": null,
            "object_fit": null,
            "grid_auto_columns": null,
            "margin": null,
            "display": null,
            "left": null
          }
        },
        "b6d27b31daab478098e654dceb1cd5d6": {
          "model_module": "@jupyter-widgets/controls",
          "model_name": "DescriptionStyleModel",
          "state": {
            "_view_name": "StyleView",
            "_model_name": "DescriptionStyleModel",
            "description_width": "",
            "_view_module": "@jupyter-widgets/base",
            "_model_module_version": "1.5.0",
            "_view_count": null,
            "_view_module_version": "1.2.0",
            "_model_module": "@jupyter-widgets/controls"
          }
        },
        "c686ccd3ab374611b4db3d5bc37611b6": {
          "model_module": "@jupyter-widgets/base",
          "model_name": "LayoutModel",
          "state": {
            "_view_name": "LayoutView",
            "grid_template_rows": null,
            "right": null,
            "justify_content": null,
            "_view_module": "@jupyter-widgets/base",
            "overflow": null,
            "_model_module_version": "1.2.0",
            "_view_count": null,
            "flex_flow": null,
            "width": null,
            "min_width": null,
            "border": null,
            "align_items": null,
            "bottom": null,
            "_model_module": "@jupyter-widgets/base",
            "top": null,
            "grid_column": null,
            "overflow_y": null,
            "overflow_x": null,
            "grid_auto_flow": null,
            "grid_area": null,
            "grid_template_columns": null,
            "flex": null,
            "_model_name": "LayoutModel",
            "justify_items": null,
            "grid_row": null,
            "max_height": null,
            "align_content": null,
            "visibility": null,
            "align_self": null,
            "height": null,
            "min_height": null,
            "padding": null,
            "grid_auto_rows": null,
            "grid_gap": null,
            "max_width": null,
            "order": null,
            "_view_module_version": "1.2.0",
            "grid_template_areas": null,
            "object_position": null,
            "object_fit": null,
            "grid_auto_columns": null,
            "margin": null,
            "display": null,
            "left": null
          }
        },
        "d71b6b29cf7a498c99aa0f0ba2223ab6": {
          "model_module": "@jupyter-widgets/controls",
          "model_name": "HBoxModel",
          "state": {
            "_view_name": "HBoxView",
            "_dom_classes": [],
            "_model_name": "HBoxModel",
            "_view_module": "@jupyter-widgets/controls",
            "_model_module_version": "1.5.0",
            "_view_count": null,
            "_view_module_version": "1.5.0",
            "box_style": "",
            "layout": "IPY_MODEL_a59d69873fd64a5f81a64f9df766c0da",
            "_model_module": "@jupyter-widgets/controls",
            "children": [
              "IPY_MODEL_a97bf6c4ad64492cab10455b1e11a439",
              "IPY_MODEL_f3158d732037487585b8efc1459e451a"
            ]
          }
        },
        "a59d69873fd64a5f81a64f9df766c0da": {
          "model_module": "@jupyter-widgets/base",
          "model_name": "LayoutModel",
          "state": {
            "_view_name": "LayoutView",
            "grid_template_rows": null,
            "right": null,
            "justify_content": null,
            "_view_module": "@jupyter-widgets/base",
            "overflow": null,
            "_model_module_version": "1.2.0",
            "_view_count": null,
            "flex_flow": null,
            "width": null,
            "min_width": null,
            "border": null,
            "align_items": null,
            "bottom": null,
            "_model_module": "@jupyter-widgets/base",
            "top": null,
            "grid_column": null,
            "overflow_y": null,
            "overflow_x": null,
            "grid_auto_flow": null,
            "grid_area": null,
            "grid_template_columns": null,
            "flex": null,
            "_model_name": "LayoutModel",
            "justify_items": null,
            "grid_row": null,
            "max_height": null,
            "align_content": null,
            "visibility": null,
            "align_self": null,
            "height": null,
            "min_height": null,
            "padding": null,
            "grid_auto_rows": null,
            "grid_gap": null,
            "max_width": null,
            "order": null,
            "_view_module_version": "1.2.0",
            "grid_template_areas": null,
            "object_position": null,
            "object_fit": null,
            "grid_auto_columns": null,
            "margin": null,
            "display": null,
            "left": null
          }
        },
        "a97bf6c4ad64492cab10455b1e11a439": {
          "model_module": "@jupyter-widgets/controls",
          "model_name": "FloatProgressModel",
          "state": {
            "_view_name": "ProgressView",
            "style": "IPY_MODEL_457b4e2be250457c9c051e1696f258cd",
            "_dom_classes": [],
            "description": "Downloading: 100%",
            "_model_name": "FloatProgressModel",
            "bar_style": "success",
            "max": 81363704,
            "_view_module": "@jupyter-widgets/controls",
            "_model_module_version": "1.5.0",
            "value": 81363704,
            "_view_count": null,
            "_view_module_version": "1.5.0",
            "orientation": "horizontal",
            "min": 0,
            "description_tooltip": null,
            "_model_module": "@jupyter-widgets/controls",
            "layout": "IPY_MODEL_dc410b8503414e0ba5801f0c06e5bc0f"
          }
        },
        "f3158d732037487585b8efc1459e451a": {
          "model_module": "@jupyter-widgets/controls",
          "model_name": "HTMLModel",
          "state": {
            "_view_name": "HTMLView",
            "style": "IPY_MODEL_bf774c85523a4da7a7df285eea96e1c7",
            "_dom_classes": [],
            "description": "",
            "_model_name": "HTMLModel",
            "placeholder": "​",
            "_view_module": "@jupyter-widgets/controls",
            "_model_module_version": "1.5.0",
            "value": " 81.4M/81.4M [00:03&lt;00:00, 20.5MB/s]",
            "_view_count": null,
            "_view_module_version": "1.5.0",
            "description_tooltip": null,
            "_model_module": "@jupyter-widgets/controls",
            "layout": "IPY_MODEL_ff77acf0fc594254b581e11e173dceb8"
          }
        },
        "457b4e2be250457c9c051e1696f258cd": {
          "model_module": "@jupyter-widgets/controls",
          "model_name": "ProgressStyleModel",
          "state": {
            "_view_name": "StyleView",
            "_model_name": "ProgressStyleModel",
            "description_width": "initial",
            "_view_module": "@jupyter-widgets/base",
            "_model_module_version": "1.5.0",
            "_view_count": null,
            "_view_module_version": "1.2.0",
            "bar_color": null,
            "_model_module": "@jupyter-widgets/controls"
          }
        },
        "dc410b8503414e0ba5801f0c06e5bc0f": {
          "model_module": "@jupyter-widgets/base",
          "model_name": "LayoutModel",
          "state": {
            "_view_name": "LayoutView",
            "grid_template_rows": null,
            "right": null,
            "justify_content": null,
            "_view_module": "@jupyter-widgets/base",
            "overflow": null,
            "_model_module_version": "1.2.0",
            "_view_count": null,
            "flex_flow": null,
            "width": null,
            "min_width": null,
            "border": null,
            "align_items": null,
            "bottom": null,
            "_model_module": "@jupyter-widgets/base",
            "top": null,
            "grid_column": null,
            "overflow_y": null,
            "overflow_x": null,
            "grid_auto_flow": null,
            "grid_area": null,
            "grid_template_columns": null,
            "flex": null,
            "_model_name": "LayoutModel",
            "justify_items": null,
            "grid_row": null,
            "max_height": null,
            "align_content": null,
            "visibility": null,
            "align_self": null,
            "height": null,
            "min_height": null,
            "padding": null,
            "grid_auto_rows": null,
            "grid_gap": null,
            "max_width": null,
            "order": null,
            "_view_module_version": "1.2.0",
            "grid_template_areas": null,
            "object_position": null,
            "object_fit": null,
            "grid_auto_columns": null,
            "margin": null,
            "display": null,
            "left": null
          }
        },
        "bf774c85523a4da7a7df285eea96e1c7": {
          "model_module": "@jupyter-widgets/controls",
          "model_name": "DescriptionStyleModel",
          "state": {
            "_view_name": "StyleView",
            "_model_name": "DescriptionStyleModel",
            "description_width": "",
            "_view_module": "@jupyter-widgets/base",
            "_model_module_version": "1.5.0",
            "_view_count": null,
            "_view_module_version": "1.2.0",
            "_model_module": "@jupyter-widgets/controls"
          }
        },
        "ff77acf0fc594254b581e11e173dceb8": {
          "model_module": "@jupyter-widgets/base",
          "model_name": "LayoutModel",
          "state": {
            "_view_name": "LayoutView",
            "grid_template_rows": null,
            "right": null,
            "justify_content": null,
            "_view_module": "@jupyter-widgets/base",
            "overflow": null,
            "_model_module_version": "1.2.0",
            "_view_count": null,
            "flex_flow": null,
            "width": null,
            "min_width": null,
            "border": null,
            "align_items": null,
            "bottom": null,
            "_model_module": "@jupyter-widgets/base",
            "top": null,
            "grid_column": null,
            "overflow_y": null,
            "overflow_x": null,
            "grid_auto_flow": null,
            "grid_area": null,
            "grid_template_columns": null,
            "flex": null,
            "_model_name": "LayoutModel",
            "justify_items": null,
            "grid_row": null,
            "max_height": null,
            "align_content": null,
            "visibility": null,
            "align_self": null,
            "height": null,
            "min_height": null,
            "padding": null,
            "grid_auto_rows": null,
            "grid_gap": null,
            "max_width": null,
            "order": null,
            "_view_module_version": "1.2.0",
            "grid_template_areas": null,
            "object_position": null,
            "object_fit": null,
            "grid_auto_columns": null,
            "margin": null,
            "display": null,
            "left": null
          }
        },
        "e7404227d0134b1aaba20353ccbcc83f": {
          "model_module": "@jupyter-widgets/controls",
          "model_name": "HBoxModel",
          "state": {
            "_view_name": "HBoxView",
            "_dom_classes": [],
            "_model_name": "HBoxModel",
            "_view_module": "@jupyter-widgets/controls",
            "_model_module_version": "1.5.0",
            "_view_count": null,
            "_view_module_version": "1.5.0",
            "box_style": "",
            "layout": "IPY_MODEL_6157293e63f24522ae21b9e192541bd3",
            "_model_module": "@jupyter-widgets/controls",
            "children": [
              "IPY_MODEL_09f11f2191d248159c3adb902ff53b25",
              "IPY_MODEL_fb135b0f9e5148c3ad1411b73edf54c8"
            ]
          }
        },
        "6157293e63f24522ae21b9e192541bd3": {
          "model_module": "@jupyter-widgets/base",
          "model_name": "LayoutModel",
          "state": {
            "_view_name": "LayoutView",
            "grid_template_rows": null,
            "right": null,
            "justify_content": null,
            "_view_module": "@jupyter-widgets/base",
            "overflow": null,
            "_model_module_version": "1.2.0",
            "_view_count": null,
            "flex_flow": null,
            "width": null,
            "min_width": null,
            "border": null,
            "align_items": null,
            "bottom": null,
            "_model_module": "@jupyter-widgets/base",
            "top": null,
            "grid_column": null,
            "overflow_y": null,
            "overflow_x": null,
            "grid_auto_flow": null,
            "grid_area": null,
            "grid_template_columns": null,
            "flex": null,
            "_model_name": "LayoutModel",
            "justify_items": null,
            "grid_row": null,
            "max_height": null,
            "align_content": null,
            "visibility": null,
            "align_self": null,
            "height": null,
            "min_height": null,
            "padding": null,
            "grid_auto_rows": null,
            "grid_gap": null,
            "max_width": null,
            "order": null,
            "_view_module_version": "1.2.0",
            "grid_template_areas": null,
            "object_position": null,
            "object_fit": null,
            "grid_auto_columns": null,
            "margin": null,
            "display": null,
            "left": null
          }
        },
        "09f11f2191d248159c3adb902ff53b25": {
          "model_module": "@jupyter-widgets/controls",
          "model_name": "FloatProgressModel",
          "state": {
            "_view_name": "ProgressView",
            "style": "IPY_MODEL_c3daa59c413a4838a80f93d98c5c57b4",
            "_dom_classes": [],
            "description": "",
            "_model_name": "FloatProgressModel",
            "bar_style": "info",
            "max": 1,
            "_view_module": "@jupyter-widgets/controls",
            "_model_module_version": "1.5.0",
            "value": 1,
            "_view_count": null,
            "_view_module_version": "1.5.0",
            "orientation": "horizontal",
            "min": 0,
            "description_tooltip": null,
            "_model_module": "@jupyter-widgets/controls",
            "layout": "IPY_MODEL_ec60ba0e4c3a46abbab7aa11a30fe466"
          }
        },
        "fb135b0f9e5148c3ad1411b73edf54c8": {
          "model_module": "@jupyter-widgets/controls",
          "model_name": "HTMLModel",
          "state": {
            "_view_name": "HTMLView",
            "style": "IPY_MODEL_978991d04f364e69a9cd91f0fc6bc314",
            "_dom_classes": [],
            "description": "",
            "_model_name": "HTMLModel",
            "placeholder": "​",
            "_view_module": "@jupyter-widgets/controls",
            "_model_module_version": "1.5.0",
            "value": " 1600000/0 [00:40&lt;00:00, 38626.14 examples/s]",
            "_view_count": null,
            "_view_module_version": "1.5.0",
            "description_tooltip": null,
            "_model_module": "@jupyter-widgets/controls",
            "layout": "IPY_MODEL_eb4c0bd6a34c4f6facb83c6aa28cd5ea"
          }
        },
        "c3daa59c413a4838a80f93d98c5c57b4": {
          "model_module": "@jupyter-widgets/controls",
          "model_name": "ProgressStyleModel",
          "state": {
            "_view_name": "StyleView",
            "_model_name": "ProgressStyleModel",
            "description_width": "initial",
            "_view_module": "@jupyter-widgets/base",
            "_model_module_version": "1.5.0",
            "_view_count": null,
            "_view_module_version": "1.2.0",
            "bar_color": null,
            "_model_module": "@jupyter-widgets/controls"
          }
        },
        "ec60ba0e4c3a46abbab7aa11a30fe466": {
          "model_module": "@jupyter-widgets/base",
          "model_name": "LayoutModel",
          "state": {
            "_view_name": "LayoutView",
            "grid_template_rows": null,
            "right": null,
            "justify_content": null,
            "_view_module": "@jupyter-widgets/base",
            "overflow": null,
            "_model_module_version": "1.2.0",
            "_view_count": null,
            "flex_flow": null,
            "width": null,
            "min_width": null,
            "border": null,
            "align_items": null,
            "bottom": null,
            "_model_module": "@jupyter-widgets/base",
            "top": null,
            "grid_column": null,
            "overflow_y": null,
            "overflow_x": null,
            "grid_auto_flow": null,
            "grid_area": null,
            "grid_template_columns": null,
            "flex": null,
            "_model_name": "LayoutModel",
            "justify_items": null,
            "grid_row": null,
            "max_height": null,
            "align_content": null,
            "visibility": null,
            "align_self": null,
            "height": null,
            "min_height": null,
            "padding": null,
            "grid_auto_rows": null,
            "grid_gap": null,
            "max_width": null,
            "order": null,
            "_view_module_version": "1.2.0",
            "grid_template_areas": null,
            "object_position": null,
            "object_fit": null,
            "grid_auto_columns": null,
            "margin": null,
            "display": null,
            "left": null
          }
        },
        "978991d04f364e69a9cd91f0fc6bc314": {
          "model_module": "@jupyter-widgets/controls",
          "model_name": "DescriptionStyleModel",
          "state": {
            "_view_name": "StyleView",
            "_model_name": "DescriptionStyleModel",
            "description_width": "",
            "_view_module": "@jupyter-widgets/base",
            "_model_module_version": "1.5.0",
            "_view_count": null,
            "_view_module_version": "1.2.0",
            "_model_module": "@jupyter-widgets/controls"
          }
        },
        "eb4c0bd6a34c4f6facb83c6aa28cd5ea": {
          "model_module": "@jupyter-widgets/base",
          "model_name": "LayoutModel",
          "state": {
            "_view_name": "LayoutView",
            "grid_template_rows": null,
            "right": null,
            "justify_content": null,
            "_view_module": "@jupyter-widgets/base",
            "overflow": null,
            "_model_module_version": "1.2.0",
            "_view_count": null,
            "flex_flow": null,
            "width": null,
            "min_width": null,
            "border": null,
            "align_items": null,
            "bottom": null,
            "_model_module": "@jupyter-widgets/base",
            "top": null,
            "grid_column": null,
            "overflow_y": null,
            "overflow_x": null,
            "grid_auto_flow": null,
            "grid_area": null,
            "grid_template_columns": null,
            "flex": null,
            "_model_name": "LayoutModel",
            "justify_items": null,
            "grid_row": null,
            "max_height": null,
            "align_content": null,
            "visibility": null,
            "align_self": null,
            "height": null,
            "min_height": null,
            "padding": null,
            "grid_auto_rows": null,
            "grid_gap": null,
            "max_width": null,
            "order": null,
            "_view_module_version": "1.2.0",
            "grid_template_areas": null,
            "object_position": null,
            "object_fit": null,
            "grid_auto_columns": null,
            "margin": null,
            "display": null,
            "left": null
          }
        },
        "7fe91ebc5afb451f93f8d7e33882eab0": {
          "model_module": "@jupyter-widgets/controls",
          "model_name": "HBoxModel",
          "state": {
            "_view_name": "HBoxView",
            "_dom_classes": [],
            "_model_name": "HBoxModel",
            "_view_module": "@jupyter-widgets/controls",
            "_model_module_version": "1.5.0",
            "_view_count": null,
            "_view_module_version": "1.5.0",
            "box_style": "",
            "layout": "IPY_MODEL_bce4f6b28c6640dea56ade499679205c",
            "_model_module": "@jupyter-widgets/controls",
            "children": [
              "IPY_MODEL_b50f7a205904482681d3859cffe509d1",
              "IPY_MODEL_6f8e57fa5f484b2aa3a35c5e0f97d903"
            ]
          }
        },
        "bce4f6b28c6640dea56ade499679205c": {
          "model_module": "@jupyter-widgets/base",
          "model_name": "LayoutModel",
          "state": {
            "_view_name": "LayoutView",
            "grid_template_rows": null,
            "right": null,
            "justify_content": null,
            "_view_module": "@jupyter-widgets/base",
            "overflow": null,
            "_model_module_version": "1.2.0",
            "_view_count": null,
            "flex_flow": null,
            "width": null,
            "min_width": null,
            "border": null,
            "align_items": null,
            "bottom": null,
            "_model_module": "@jupyter-widgets/base",
            "top": null,
            "grid_column": null,
            "overflow_y": null,
            "overflow_x": null,
            "grid_auto_flow": null,
            "grid_area": null,
            "grid_template_columns": null,
            "flex": null,
            "_model_name": "LayoutModel",
            "justify_items": null,
            "grid_row": null,
            "max_height": null,
            "align_content": null,
            "visibility": null,
            "align_self": null,
            "height": null,
            "min_height": null,
            "padding": null,
            "grid_auto_rows": null,
            "grid_gap": null,
            "max_width": null,
            "order": null,
            "_view_module_version": "1.2.0",
            "grid_template_areas": null,
            "object_position": null,
            "object_fit": null,
            "grid_auto_columns": null,
            "margin": null,
            "display": null,
            "left": null
          }
        },
        "b50f7a205904482681d3859cffe509d1": {
          "model_module": "@jupyter-widgets/controls",
          "model_name": "FloatProgressModel",
          "state": {
            "_view_name": "ProgressView",
            "style": "IPY_MODEL_a8b8a9665f044de6823101db98b60bd3",
            "_dom_classes": [],
            "description": "",
            "_model_name": "FloatProgressModel",
            "bar_style": "info",
            "max": 1,
            "_view_module": "@jupyter-widgets/controls",
            "_model_module_version": "1.5.0",
            "value": 1,
            "_view_count": null,
            "_view_module_version": "1.5.0",
            "orientation": "horizontal",
            "min": 0,
            "description_tooltip": null,
            "_model_module": "@jupyter-widgets/controls",
            "layout": "IPY_MODEL_64cc81cf1a4443498d8a5fcaa033bd3f"
          }
        },
        "6f8e57fa5f484b2aa3a35c5e0f97d903": {
          "model_module": "@jupyter-widgets/controls",
          "model_name": "HTMLModel",
          "state": {
            "_view_name": "HTMLView",
            "style": "IPY_MODEL_53c17c006fdc49c78e00d2cf316db685",
            "_dom_classes": [],
            "description": "",
            "_model_name": "HTMLModel",
            "placeholder": "​",
            "_view_module": "@jupyter-widgets/controls",
            "_model_module_version": "1.5.0",
            "value": " 498/0 [00:00&lt;00:00, 9633.45 examples/s]",
            "_view_count": null,
            "_view_module_version": "1.5.0",
            "description_tooltip": null,
            "_model_module": "@jupyter-widgets/controls",
            "layout": "IPY_MODEL_baba5e1ea1fb4fa1b23af1113c29bca0"
          }
        },
        "a8b8a9665f044de6823101db98b60bd3": {
          "model_module": "@jupyter-widgets/controls",
          "model_name": "ProgressStyleModel",
          "state": {
            "_view_name": "StyleView",
            "_model_name": "ProgressStyleModel",
            "description_width": "initial",
            "_view_module": "@jupyter-widgets/base",
            "_model_module_version": "1.5.0",
            "_view_count": null,
            "_view_module_version": "1.2.0",
            "bar_color": null,
            "_model_module": "@jupyter-widgets/controls"
          }
        },
        "64cc81cf1a4443498d8a5fcaa033bd3f": {
          "model_module": "@jupyter-widgets/base",
          "model_name": "LayoutModel",
          "state": {
            "_view_name": "LayoutView",
            "grid_template_rows": null,
            "right": null,
            "justify_content": null,
            "_view_module": "@jupyter-widgets/base",
            "overflow": null,
            "_model_module_version": "1.2.0",
            "_view_count": null,
            "flex_flow": null,
            "width": null,
            "min_width": null,
            "border": null,
            "align_items": null,
            "bottom": null,
            "_model_module": "@jupyter-widgets/base",
            "top": null,
            "grid_column": null,
            "overflow_y": null,
            "overflow_x": null,
            "grid_auto_flow": null,
            "grid_area": null,
            "grid_template_columns": null,
            "flex": null,
            "_model_name": "LayoutModel",
            "justify_items": null,
            "grid_row": null,
            "max_height": null,
            "align_content": null,
            "visibility": null,
            "align_self": null,
            "height": null,
            "min_height": null,
            "padding": null,
            "grid_auto_rows": null,
            "grid_gap": null,
            "max_width": null,
            "order": null,
            "_view_module_version": "1.2.0",
            "grid_template_areas": null,
            "object_position": null,
            "object_fit": null,
            "grid_auto_columns": null,
            "margin": null,
            "display": null,
            "left": null
          }
        },
        "53c17c006fdc49c78e00d2cf316db685": {
          "model_module": "@jupyter-widgets/controls",
          "model_name": "DescriptionStyleModel",
          "state": {
            "_view_name": "StyleView",
            "_model_name": "DescriptionStyleModel",
            "description_width": "",
            "_view_module": "@jupyter-widgets/base",
            "_model_module_version": "1.5.0",
            "_view_count": null,
            "_view_module_version": "1.2.0",
            "_model_module": "@jupyter-widgets/controls"
          }
        },
        "baba5e1ea1fb4fa1b23af1113c29bca0": {
          "model_module": "@jupyter-widgets/base",
          "model_name": "LayoutModel",
          "state": {
            "_view_name": "LayoutView",
            "grid_template_rows": null,
            "right": null,
            "justify_content": null,
            "_view_module": "@jupyter-widgets/base",
            "overflow": null,
            "_model_module_version": "1.2.0",
            "_view_count": null,
            "flex_flow": null,
            "width": null,
            "min_width": null,
            "border": null,
            "align_items": null,
            "bottom": null,
            "_model_module": "@jupyter-widgets/base",
            "top": null,
            "grid_column": null,
            "overflow_y": null,
            "overflow_x": null,
            "grid_auto_flow": null,
            "grid_area": null,
            "grid_template_columns": null,
            "flex": null,
            "_model_name": "LayoutModel",
            "justify_items": null,
            "grid_row": null,
            "max_height": null,
            "align_content": null,
            "visibility": null,
            "align_self": null,
            "height": null,
            "min_height": null,
            "padding": null,
            "grid_auto_rows": null,
            "grid_gap": null,
            "max_width": null,
            "order": null,
            "_view_module_version": "1.2.0",
            "grid_template_areas": null,
            "object_position": null,
            "object_fit": null,
            "grid_auto_columns": null,
            "margin": null,
            "display": null,
            "left": null
          }
        }
      }
    }
  },
  "cells": [
    {
      "cell_type": "markdown",
      "metadata": {
        "id": "view-in-github",
        "colab_type": "text"
      },
      "source": [
        "<a href=\"https://colab.research.google.com/github/adalves-ufabc/2021.QS-PLN/blob/main/2021_Q1_PLN_Notebook_13.ipynb\" target=\"_parent\"><img src=\"https://colab.research.google.com/assets/colab-badge.svg\" alt=\"Open In Colab\"/></a>"
      ]
    },
    {
      "cell_type": "markdown",
      "metadata": {
        "id": "kQrfphFhOxEP"
      },
      "source": [
        "# **Processamento de Linguagem Natural [2021.Q1]**\n",
        "Prof. Alexandre Donizeti Alves"
      ]
    },
    {
      "cell_type": "markdown",
      "metadata": {
        "id": "HF_W2J7COstj"
      },
      "source": [
        "# **Análise de Sentimentos**\n",
        "\n",
        "A **Análise de Sentimentos** é uma área do processamento de linguagem natural que visa sistematicamente extrair, quantificar, e estudar estados afetivos expressos em documentos. Existe diversas abordagens para se realizar análise de sentimento. Uma das mais usadas é a **Classificação de Sentimentos**."
      ]
    },
    {
      "cell_type": "markdown",
      "metadata": {
        "id": "Ja5Pbtj2QZ38"
      },
      "source": [
        "### **Classificação de Sentimentos**\n",
        "\n",
        ">\n",
        "Na **Classificação de Sentimentos** usamos a classificação de documentos para classificar automaticamente se o sentimento expresso em um texto está associado a uma determinada emoção. Uma abordagem comum é tentar classificar documentos nas categorias `positivo` e `negativo`, cujo intuito é classificar se um determinado documento contém um sentimento positivo ou negativo. \n",
        "\n",
        "\n",
        "A **Classificação de Sentimentos** é muito usada em análise de redes sociais, para verificar a repercusão social a respeito de alguma entidade (por exemplo, um produto, serviço ou personalidade).\n",
        "\n",
        ">\n",
        "Vamos usar a matriz termo-documento e a classificação de documentos para gerar um Classificador de Sentimentos. Para fazer isso, vamos usar *tweets* de um corpus de análise de sentimentos diponibilizado pela biblioteca python `nlp`."
      ]
    },
    {
      "cell_type": "code",
      "metadata": {
        "id": "5NNNWe4XOstl",
        "colab": {
          "base_uri": "https://localhost:8080/",
          "height": 636,
          "referenced_widgets": [
            "07a18f57367e4794bc9a35b184a32555",
            "4543e419266644689a91cf843ef2ea8f",
            "f450dbc4e5124845bb8cfead6cb9f28f",
            "eb174ee67fbf47e6827d47768971b89a",
            "b8288ebcba3c4447beedbe3c6ecc6474",
            "7d73e6fcc68c488bbc2e7a53996ccd03",
            "83ec219cbc274ba8863ede6c4b0c1de9",
            "ec2081cef86843119db9c44da2773f97",
            "36150478371248a6b68d8bf56635ba31",
            "a9867d1d6a4947c68b5180afaa014602",
            "d3345e1099a24e8685cbb736a5c5c8f2",
            "61fad189d00146f6ab894fbedc306535",
            "0e7079c199084d6196ab2d82e7613d4e",
            "c752277167b747a383530a45de1798d5",
            "b6d27b31daab478098e654dceb1cd5d6",
            "c686ccd3ab374611b4db3d5bc37611b6",
            "d71b6b29cf7a498c99aa0f0ba2223ab6",
            "a59d69873fd64a5f81a64f9df766c0da",
            "a97bf6c4ad64492cab10455b1e11a439",
            "f3158d732037487585b8efc1459e451a",
            "457b4e2be250457c9c051e1696f258cd",
            "dc410b8503414e0ba5801f0c06e5bc0f",
            "bf774c85523a4da7a7df285eea96e1c7",
            "ff77acf0fc594254b581e11e173dceb8",
            "e7404227d0134b1aaba20353ccbcc83f",
            "6157293e63f24522ae21b9e192541bd3",
            "09f11f2191d248159c3adb902ff53b25",
            "fb135b0f9e5148c3ad1411b73edf54c8",
            "c3daa59c413a4838a80f93d98c5c57b4",
            "ec60ba0e4c3a46abbab7aa11a30fe466",
            "978991d04f364e69a9cd91f0fc6bc314",
            "eb4c0bd6a34c4f6facb83c6aa28cd5ea",
            "7fe91ebc5afb451f93f8d7e33882eab0",
            "bce4f6b28c6640dea56ade499679205c",
            "b50f7a205904482681d3859cffe509d1",
            "6f8e57fa5f484b2aa3a35c5e0f97d903",
            "a8b8a9665f044de6823101db98b60bd3",
            "64cc81cf1a4443498d8a5fcaa033bd3f",
            "53c17c006fdc49c78e00d2cf316db685",
            "baba5e1ea1fb4fa1b23af1113c29bca0"
          ]
        },
        "outputId": "977cd77a-5530-4f08-a1ab-91cdbccd37af"
      },
      "source": [
        "!pip install nlp\n",
        "\n",
        "import nlp\n",
        "\n",
        "# na primeira vez que executar, vai baixar o corpus\n",
        "sentiment140 = nlp.load_dataset('sentiment140')"
      ],
      "execution_count": 1,
      "outputs": [
        {
          "output_type": "stream",
          "text": [
            "Collecting nlp\n",
            "\u001b[?25l  Downloading https://files.pythonhosted.org/packages/09/e3/bcdc59f3434b224040c1047769c47b82705feca2b89ebbc28311e3764782/nlp-0.4.0-py3-none-any.whl (1.7MB)\n",
            "\u001b[K     |████████████████████████████████| 1.7MB 7.5MB/s \n",
            "\u001b[?25hCollecting xxhash\n",
            "\u001b[?25l  Downloading https://files.pythonhosted.org/packages/e7/27/1c0b37c53a7852f1c190ba5039404d27b3ae96a55f48203a74259f8213c9/xxhash-2.0.0-cp37-cp37m-manylinux2010_x86_64.whl (243kB)\n",
            "\u001b[K     |████████████████████████████████| 245kB 35.2MB/s \n",
            "\u001b[?25hRequirement already satisfied: tqdm>=4.27 in /usr/local/lib/python3.7/dist-packages (from nlp) (4.41.1)\n",
            "Requirement already satisfied: pyarrow>=0.16.0 in /usr/local/lib/python3.7/dist-packages (from nlp) (3.0.0)\n",
            "Requirement already satisfied: dill in /usr/local/lib/python3.7/dist-packages (from nlp) (0.3.3)\n",
            "Requirement already satisfied: numpy in /usr/local/lib/python3.7/dist-packages (from nlp) (1.19.5)\n",
            "Requirement already satisfied: filelock in /usr/local/lib/python3.7/dist-packages (from nlp) (3.0.12)\n",
            "Requirement already satisfied: requests>=2.19.0 in /usr/local/lib/python3.7/dist-packages (from nlp) (2.23.0)\n",
            "Requirement already satisfied: pandas in /usr/local/lib/python3.7/dist-packages (from nlp) (1.1.5)\n",
            "Requirement already satisfied: urllib3!=1.25.0,!=1.25.1,<1.26,>=1.21.1 in /usr/local/lib/python3.7/dist-packages (from requests>=2.19.0->nlp) (1.24.3)\n",
            "Requirement already satisfied: certifi>=2017.4.17 in /usr/local/lib/python3.7/dist-packages (from requests>=2.19.0->nlp) (2020.12.5)\n",
            "Requirement already satisfied: chardet<4,>=3.0.2 in /usr/local/lib/python3.7/dist-packages (from requests>=2.19.0->nlp) (3.0.4)\n",
            "Requirement already satisfied: idna<3,>=2.5 in /usr/local/lib/python3.7/dist-packages (from requests>=2.19.0->nlp) (2.10)\n",
            "Requirement already satisfied: pytz>=2017.2 in /usr/local/lib/python3.7/dist-packages (from pandas->nlp) (2018.9)\n",
            "Requirement already satisfied: python-dateutil>=2.7.3 in /usr/local/lib/python3.7/dist-packages (from pandas->nlp) (2.8.1)\n",
            "Requirement already satisfied: six>=1.5 in /usr/local/lib/python3.7/dist-packages (from python-dateutil>=2.7.3->pandas->nlp) (1.15.0)\n",
            "Installing collected packages: xxhash, nlp\n",
            "Successfully installed nlp-0.4.0 xxhash-2.0.0\n"
          ],
          "name": "stdout"
        },
        {
          "output_type": "display_data",
          "data": {
            "application/vnd.jupyter.widget-view+json": {
              "model_id": "07a18f57367e4794bc9a35b184a32555",
              "version_minor": 0,
              "version_major": 2
            },
            "text/plain": [
              "HBox(children=(FloatProgress(value=0.0, description='Downloading', max=4107.0, style=ProgressStyle(description…"
            ]
          },
          "metadata": {
            "tags": []
          }
        },
        {
          "output_type": "stream",
          "text": [
            "\n"
          ],
          "name": "stdout"
        },
        {
          "output_type": "display_data",
          "data": {
            "application/vnd.jupyter.widget-view+json": {
              "model_id": "36150478371248a6b68d8bf56635ba31",
              "version_minor": 0,
              "version_major": 2
            },
            "text/plain": [
              "HBox(children=(FloatProgress(value=0.0, description='Downloading', max=1635.0, style=ProgressStyle(description…"
            ]
          },
          "metadata": {
            "tags": []
          }
        },
        {
          "output_type": "stream",
          "text": [
            "\n",
            "Downloading and preparing dataset sentiment140/sentiment140 (download: 77.59 MiB, generated: 215.36 MiB, post-processed: Unknown sizetotal: 292.95 MiB) to /root/.cache/huggingface/datasets/sentiment140/sentiment140/1.0.0/2ad0bb6460a543b63240b86e18ec4b50cd40dd36f3d72ded82a9d695d34548d1...\n"
          ],
          "name": "stdout"
        },
        {
          "output_type": "display_data",
          "data": {
            "application/vnd.jupyter.widget-view+json": {
              "model_id": "d71b6b29cf7a498c99aa0f0ba2223ab6",
              "version_minor": 0,
              "version_major": 2
            },
            "text/plain": [
              "HBox(children=(FloatProgress(value=0.0, description='Downloading', max=81363704.0, style=ProgressStyle(descrip…"
            ]
          },
          "metadata": {
            "tags": []
          }
        },
        {
          "output_type": "stream",
          "text": [
            "\n"
          ],
          "name": "stdout"
        },
        {
          "output_type": "display_data",
          "data": {
            "application/vnd.jupyter.widget-view+json": {
              "model_id": "e7404227d0134b1aaba20353ccbcc83f",
              "version_minor": 0,
              "version_major": 2
            },
            "text/plain": [
              "HBox(children=(FloatProgress(value=1.0, bar_style='info', max=1.0), HTML(value='')))"
            ]
          },
          "metadata": {
            "tags": []
          }
        },
        {
          "output_type": "stream",
          "text": [
            "\r"
          ],
          "name": "stdout"
        },
        {
          "output_type": "display_data",
          "data": {
            "application/vnd.jupyter.widget-view+json": {
              "model_id": "7fe91ebc5afb451f93f8d7e33882eab0",
              "version_minor": 0,
              "version_major": 2
            },
            "text/plain": [
              "HBox(children=(FloatProgress(value=1.0, bar_style='info', max=1.0), HTML(value='')))"
            ]
          },
          "metadata": {
            "tags": []
          }
        },
        {
          "output_type": "stream",
          "text": [
            "\rDataset sentiment140 downloaded and prepared to /root/.cache/huggingface/datasets/sentiment140/sentiment140/1.0.0/2ad0bb6460a543b63240b86e18ec4b50cd40dd36f3d72ded82a9d695d34548d1. Subsequent calls will reuse this data.\n"
          ],
          "name": "stdout"
        }
      ]
    },
    {
      "cell_type": "markdown",
      "metadata": {
        "id": "EziUzD8oOstx"
      },
      "source": [
        "Esse **corpus** já está dividido em um conjunto de `treino` e `teste`. Uma descrição do conteúdo do corpus pode ser vista [aqui](https://www.kaggle.com/kazanova/sentiment140), que também contém links para o artigo original.  O conjunto de teste tem **1.600.000** ***tweets*** no conjunto de `treino`, e 498 *tweets* no conjunto de `teste`:"
      ]
    },
    {
      "cell_type": "code",
      "metadata": {
        "id": "lI8VfLpvOsty",
        "colab": {
          "base_uri": "https://localhost:8080/"
        },
        "outputId": "f8073f37-e51a-411d-ad6b-7ee99e3eb1ab"
      },
      "source": [
        "print(sentiment140['train'].num_rows)"
      ],
      "execution_count": null,
      "outputs": [
        {
          "output_type": "stream",
          "text": [
            "1600000\n"
          ],
          "name": "stdout"
        }
      ]
    },
    {
      "cell_type": "code",
      "metadata": {
        "id": "ON-Ybt0yOst5",
        "colab": {
          "base_uri": "https://localhost:8080/"
        },
        "outputId": "ee497aa8-5a95-4c9b-cfb1-6a21a4362630"
      },
      "source": [
        "print(sentiment140['test'].num_rows)"
      ],
      "execution_count": null,
      "outputs": [
        {
          "output_type": "stream",
          "text": [
            "498\n"
          ],
          "name": "stdout"
        }
      ]
    },
    {
      "cell_type": "markdown",
      "metadata": {
        "id": "a9UIgXyfOsuA"
      },
      "source": [
        "Os autores do corpus usaram uma escala de 0 (negativo) a 4 (positivo) para designar o sentimento associado a cada *tweet*. No conjunto de `treino`, apenas essas duas classes estão presentes:"
      ]
    },
    {
      "cell_type": "code",
      "metadata": {
        "id": "DIlvPDDiOsuB",
        "colab": {
          "base_uri": "https://localhost:8080/",
          "height": 265
        },
        "outputId": "d45d334f-b027-4808-d9d1-bbbba135c7db"
      },
      "source": [
        "import seaborn as sns\n",
        "\n",
        "sns.countplot(x = sentiment140['train']['sentiment']);"
      ],
      "execution_count": null,
      "outputs": [
        {
          "output_type": "display_data",
          "data": {
            "image/png": "[encoded data removed]",
            "text/plain": [
              "<Figure size 432x288 with 1 Axes>"
            ]
          },
          "metadata": {
            "tags": [],
            "needs_background": "light"
          }
        }
      ]
    },
    {
      "cell_type": "markdown",
      "metadata": {
        "id": "jMQd68gwOsuH"
      },
      "source": [
        "O conjunto de `teste` também contém alguns *tweets* rotulados na classe 2 (neutro):"
      ]
    },
    {
      "cell_type": "code",
      "metadata": {
        "id": "PMHPAqjKOsuJ",
        "colab": {
          "base_uri": "https://localhost:8080/",
          "height": 265
        },
        "outputId": "731b4433-7041-499c-dadb-b4a5f6fc35a9"
      },
      "source": [
        "sns.countplot(x = sentiment140['test']['sentiment']);"
      ],
      "execution_count": null,
      "outputs": [
        {
          "output_type": "display_data",
          "data": {
            "image/png": "[encoded data removed]",
            "text/plain": [
              "<Figure size 432x288 with 1 Axes>"
            ]
          },
          "metadata": {
            "tags": [],
            "needs_background": "light"
          }
        }
      ]
    },
    {
      "cell_type": "markdown",
      "metadata": {
        "id": "75crkKXmOsuQ"
      },
      "source": [
        "Como nas redes sociais as postagens geralmente usam uma linguagem informal, além de *emoticons* e *hashtags*, vamos usar um tokenizador que tenta fazer o parsing desses tipos de postagens. O pacote `nltk` tem um tokenizador especialmente desenvolvido, chamado de `TweetTokenizer`. "
      ]
    },
    {
      "cell_type": "code",
      "metadata": {
        "id": "TJOgZV_OOsuR"
      },
      "source": [
        "from nltk.tokenize import TweetTokenizer\n",
        "\n",
        "# preserve_case - mantem maiusculas\n",
        "# reduce_len - remove algumas duplicações\n",
        "tknzr = TweetTokenizer(preserve_case=False, reduce_len=True)"
      ],
      "execution_count": 2,
      "outputs": []
    },
    {
      "cell_type": "markdown",
      "metadata": {
        "id": "CjR21UR5OsuV"
      },
      "source": [
        "Uma amostra desse método pode ser vista aplicando-se a um dos *tweets* da base:"
      ]
    },
    {
      "cell_type": "code",
      "metadata": {
        "id": "Yk_3PmT5OsuW",
        "colab": {
          "base_uri": "https://localhost:8080/"
        },
        "outputId": "c309d412-b762-4ec2-ab3c-228e9e58c0cf"
      },
      "source": [
        "print(sentiment140['train']['text'][0])"
      ],
      "execution_count": 3,
      "outputs": [
        {
          "output_type": "stream",
          "text": [
            "@switchfoot http://twitpic.com/2y1zl - Awww, that's a bummer.  You shoulda got David Carr of Third Day to do it. ;D\n"
          ],
          "name": "stdout"
        }
      ]
    },
    {
      "cell_type": "code",
      "metadata": {
        "id": "USdtYbnqUPYn",
        "colab": {
          "base_uri": "https://localhost:8080/"
        },
        "outputId": "354bbd0b-26bc-453e-987a-7a6f44334be3"
      },
      "source": [
        "tknzr.tokenize(sentiment140['train']['text'][0])"
      ],
      "execution_count": 4,
      "outputs": [
        {
          "output_type": "execute_result",
          "data": {
            "text/plain": [
              "['@switchfoot',\n",
              " 'http://twitpic.com/2y1zl',\n",
              " '-',\n",
              " 'awww',\n",
              " ',',\n",
              " \"that's\",\n",
              " 'a',\n",
              " 'bummer',\n",
              " '.',\n",
              " 'you',\n",
              " 'shoulda',\n",
              " 'got',\n",
              " 'david',\n",
              " 'carr',\n",
              " 'of',\n",
              " 'third',\n",
              " 'day',\n",
              " 'to',\n",
              " 'do',\n",
              " 'it',\n",
              " '.',\n",
              " ';D']"
            ]
          },
          "metadata": {
            "tags": []
          },
          "execution_count": 4
        }
      ]
    },
    {
      "cell_type": "markdown",
      "metadata": {
        "id": "oQ5RCsuB0xX5"
      },
      "source": [
        "**Matriz termo-documento**\n",
        "\n",
        "Na **matriz termo-documento** uma representação vetorial é usada  para representar um documento. Cada elemento está relacionao à frequência dos termos naqueles documentos. A similaridade entre documentos é calculada a partir da distância entre os vetores que representam os documentos. "
      ]
    },
    {
      "cell_type": "markdown",
      "metadata": {
        "id": "VNhjJ2HdOsua"
      },
      "source": [
        "Vamos agora construir a **matriz termo-documento**. Inicialmente, vamos criar uma matriz com a frequência absoluta desses termos. Como temos o corpus com um grande número de *tweets*, para evitar crair uma matriz muito grande, mantemos somente os tokens que aparecem no mínimo em 30 *tweets*. Por questões de custo computacional vamos trabalhar com 10% da base."
      ]
    },
    {
      "cell_type": "code",
      "metadata": {
        "id": "VN_JBNQ-Osuc"
      },
      "source": [
        "import random\n",
        "random.seed(42)\n",
        "\n",
        "# 10% da base\n",
        "subset = random.sample(list(range(sentiment140['train'].num_rows)),k=int(0.1*sentiment140['train'].num_rows))"
      ],
      "execution_count": null,
      "outputs": []
    },
    {
      "cell_type": "code",
      "metadata": {
        "id": "B9h0h4OGOsuh"
      },
      "source": [
        "train_tweets = [sentiment140['train'][i]['text'] for i in subset]\n",
        "sentiment = [sentiment140['train'][i]['sentiment'] for i in subset]"
      ],
      "execution_count": null,
      "outputs": []
    },
    {
      "cell_type": "code",
      "metadata": {
        "id": "MmFo4TJpOsul"
      },
      "source": [
        "from sklearn.feature_extraction.text import CountVectorizer\n",
        "\n",
        "# tokens que aparecem no minimo em 30 tweets\n",
        "counter_vectorizer = CountVectorizer(tokenizer=tknzr.tokenize, stop_words='english', min_df=30)\n",
        "\n",
        "counts = counter_vectorizer.fit_transform(train_tweets)"
      ],
      "execution_count": null,
      "outputs": []
    },
    {
      "cell_type": "code",
      "metadata": {
        "id": "ascIYE1wVUYd",
        "colab": {
          "base_uri": "https://localhost:8080/"
        },
        "outputId": "5c166b57-e32f-466f-cde8-9b8baaea6e16"
      },
      "source": [
        "counts"
      ],
      "execution_count": null,
      "outputs": [
        {
          "output_type": "execute_result",
          "data": {
            "text/plain": [
              "<160000x3874 sparse matrix of type '<class 'numpy.int64'>'\n",
              "\twith 1091918 stored elements in Compressed Sparse Row format>"
            ]
          },
          "metadata": {
            "tags": []
          },
          "execution_count": 12
        }
      ]
    },
    {
      "cell_type": "markdown",
      "metadata": {
        "id": "J7dsba-NOsur"
      },
      "source": [
        "Como resultado desse processamento, construímos uma matriz com 3874 termos e 160000 documentos (*tweets*)."
      ]
    },
    {
      "cell_type": "markdown",
      "metadata": {
        "id": "j77f4RtvOsus"
      },
      "source": [
        "Vamos agora repetir o processo, mas usando a representação TF-IDF:"
      ]
    },
    {
      "cell_type": "code",
      "metadata": {
        "id": "rm0D5FG8Osut"
      },
      "source": [
        "from sklearn.feature_extraction.text import TfidfVectorizer\n",
        "\n",
        "tfidf_vectorizer = TfidfVectorizer(tokenizer=tknzr.tokenize, stop_words='english', min_df=30)\n",
        "\n",
        "tfidf = tfidf_vectorizer.fit_transform(train_tweets)"
      ],
      "execution_count": null,
      "outputs": []
    },
    {
      "cell_type": "code",
      "metadata": {
        "id": "QO5p4XA7WLMT",
        "colab": {
          "base_uri": "https://localhost:8080/"
        },
        "outputId": "956f92db-7689-4c22-8001-49d40346a623"
      },
      "source": [
        "tfidf"
      ],
      "execution_count": null,
      "outputs": [
        {
          "output_type": "execute_result",
          "data": {
            "text/plain": [
              "<160000x3874 sparse matrix of type '<class 'numpy.float64'>'\n",
              "\twith 1091918 stored elements in Compressed Sparse Row format>"
            ]
          },
          "metadata": {
            "tags": []
          },
          "execution_count": 14
        }
      ]
    },
    {
      "cell_type": "markdown",
      "metadata": {
        "id": "B-voYtVaOsu3"
      },
      "source": [
        "As dimensões da matriz são as mesmas, mas uma armazena a frequência absoluta dos termos, e a outra armazena o logaritmo da frequência ponderada pelo inverso da frequência no corpus inteiro. Podemos ter uma ideia da diferença entre as duas contagems criando um plot dos valores:"
      ]
    },
    {
      "cell_type": "code",
      "metadata": {
        "id": "57KphWNwOsu4",
        "colab": {
          "base_uri": "https://localhost:8080/",
          "height": 278
        },
        "outputId": "6f457300-1331-45da-89d7-2e67f69300da"
      },
      "source": [
        "import matplotlib.pyplot as plt\n",
        "\n",
        "plt.plot(sorted(counts.data),label=\"Counts\");\n",
        "plt.plot(sorted(tfidf.data),label=\"TF-IDF\");\n",
        "plt.legend();"
      ],
      "execution_count": null,
      "outputs": [
        {
          "output_type": "display_data",
          "data": {
            "image/png": "[encoded data removed]",
            "text/plain": [
              "<Figure size 432x288 with 1 Axes>"
            ]
          },
          "metadata": {
            "tags": [],
            "needs_background": "light"
          }
        }
      ]
    },
    {
      "cell_type": "markdown",
      "metadata": {
        "id": "FltRGh2vOsu9"
      },
      "source": [
        "Como pode ser observado no gráfico, para a contagem simples alguns termos muito frequentes têm valores maiores que 80 (o que pode ser considerado bem alto, considerando que um *tweet* tem 140 caracteres). Já a contagem TF-IDF tem valores menores, devido à ponderação logaritmica dos termos e o fator multiplicativo da frequência inversa em todos os documentos."
      ]
    },
    {
      "cell_type": "markdown",
      "metadata": {
        "id": "FXuKwNQwOsu-"
      },
      "source": [
        "Vamos treinar um classificador para fazer a classificação automática dos *tweets*. Para isso, vamos usar o algoritmo de [Florestas Aleatórias](https://en.wikipedia.org/wiki/Random_forest), do pacote [scikit-learn](https://scikit-learn.org/stable/). \n",
        "\n",
        "> \n",
        "Floresta Aleatória (*Random Forest*) é um algoritmo de aprendizagem supervisionada. Como você pode perceber pelo seu nome, ele cria uma floresta de um modo aleatório. A \"floresta\" que ele cria é uma combinação de árvores de decisão, na maioria dos casos treinados com o método de *bagging*. A ideia principal do método de *bagging* é que a combinação dos modelos de aprendizado aumenta o resultado geral.\n",
        ">\n",
        "Dizendo de modo simples: o algoritmo de florestas aleatórias cria várias árvores de decisão e as combina para obter uma predição com maior acurácia e mais estável.\n",
        "\n",
        ">**Mais informações em**: https://medium.com/machina-sapiens/o-algoritmo-da-floresta-aleat%C3%B3ria-3545f6babdf8"
      ]
    },
    {
      "cell_type": "markdown",
      "metadata": {
        "id": "vh2mYL0pOsvA"
      },
      "source": [
        "Inicialmente, vamos construir um classificador para a contagem de palavras:"
      ]
    },
    {
      "cell_type": "code",
      "metadata": {
        "id": "EOe6g_DnOsvB",
        "colab": {
          "base_uri": "https://localhost:8080/"
        },
        "outputId": "17dad2a0-fa51-4769-b14c-6bb3598ab4d4"
      },
      "source": [
        "from sklearn.ensemble import RandomForestClassifier\n",
        "\n",
        "clf_counts = RandomForestClassifier(n_estimators=100, random_state=42)\n",
        "clf_counts.fit(counts, sentiment)"
      ],
      "execution_count": null,
      "outputs": [
        {
          "output_type": "execute_result",
          "data": {
            "text/plain": [
              "RandomForestClassifier(bootstrap=True, ccp_alpha=0.0, class_weight=None,\n",
              "                       criterion='gini', max_depth=None, max_features='auto',\n",
              "                       max_leaf_nodes=None, max_samples=None,\n",
              "                       min_impurity_decrease=0.0, min_impurity_split=None,\n",
              "                       min_samples_leaf=1, min_samples_split=2,\n",
              "                       min_weight_fraction_leaf=0.0, n_estimators=100,\n",
              "                       n_jobs=None, oob_score=False, random_state=42, verbose=0,\n",
              "                       warm_start=False)"
            ]
          },
          "metadata": {
            "tags": []
          },
          "execution_count": 16
        }
      ]
    },
    {
      "cell_type": "markdown",
      "metadata": {
        "id": "PkGOXn2MOsvH"
      },
      "source": [
        "E repetir o processo para a representação TF-IDF:"
      ]
    },
    {
      "cell_type": "code",
      "metadata": {
        "id": "kVn3O00xOsvH",
        "colab": {
          "base_uri": "https://localhost:8080/"
        },
        "outputId": "de55c6f0-c603-45cb-dc54-859e1584ad69"
      },
      "source": [
        "clf_tfidf = RandomForestClassifier(n_estimators=100, random_state=42)\n",
        "clf_tfidf.fit(tfidf, sentiment)"
      ],
      "execution_count": null,
      "outputs": [
        {
          "output_type": "execute_result",
          "data": {
            "text/plain": [
              "RandomForestClassifier(bootstrap=True, ccp_alpha=0.0, class_weight=None,\n",
              "                       criterion='gini', max_depth=None, max_features='auto',\n",
              "                       max_leaf_nodes=None, max_samples=None,\n",
              "                       min_impurity_decrease=0.0, min_impurity_split=None,\n",
              "                       min_samples_leaf=1, min_samples_split=2,\n",
              "                       min_weight_fraction_leaf=0.0, n_estimators=100,\n",
              "                       n_jobs=None, oob_score=False, random_state=42, verbose=0,\n",
              "                       warm_start=False)"
            ]
          },
          "metadata": {
            "tags": []
          },
          "execution_count": 17
        }
      ]
    },
    {
      "cell_type": "markdown",
      "metadata": {
        "id": "HzgIXP8GOsvL"
      },
      "source": [
        "Uma das razões para usarmos o *Random Forest* nesse exemplo é que ele estima a importância de cada palavra (no jargão de aprendizado de máquina, as palavras na matriz termo-documento são conhecidas como *features*). Vamos analisar os 20 termos mais importantes para classificação de sentimento, de acordo com os modelos gerados."
      ]
    },
    {
      "cell_type": "code",
      "metadata": {
        "id": "bhjgRa2uOsvM"
      },
      "source": [
        "nwords = 20\n",
        "counts_importance_idx = clf_counts.feature_importances_.argsort()[-nwords:]\n",
        "tfidf_importance_idx = clf_tfidf.feature_importances_.argsort()[-nwords:]"
      ],
      "execution_count": null,
      "outputs": []
    },
    {
      "cell_type": "markdown",
      "metadata": {
        "id": "cmCeAC1BOsvR"
      },
      "source": [
        "O trecho a seguir faz um plot desses 20 termos, de acordo com a sua importância (estimada pelo modelos de classificação de sentimentos)."
      ]
    },
    {
      "cell_type": "code",
      "metadata": {
        "id": "6RaB-34IOsvS",
        "colab": {
          "base_uri": "https://localhost:8080/",
          "height": 873
        },
        "outputId": "6ace434d-3ebc-431f-a417-3a6f1a273b18"
      },
      "source": [
        "import numpy as np\n",
        "\n",
        "# variavel para ajustar os plots\n",
        "tree_indices = np.arange(0, nwords) + 0.5\n",
        "\n",
        "fig, (ax1, ax2) = plt.subplots(1, 2, figsize=(12, 12))\n",
        "ax1.barh(tree_indices,\n",
        "         clf_counts.feature_importances_[counts_importance_idx], height=0.7)\n",
        "ax1.set_yticklabels(np.array(counter_vectorizer.get_feature_names())[counts_importance_idx])\n",
        "ax1.set_yticks(tree_indices)\n",
        "ax1.set_ylim((0, nwords))\n",
        "ax1.set_title(\"Counts\")\n",
        "\n",
        "ax2.barh(tree_indices,\n",
        "         clf_tfidf.feature_importances_[tfidf_importance_idx], height=0.7)\n",
        "ax2.set_yticklabels(np.array(tfidf_vectorizer.get_feature_names())[tfidf_importance_idx])\n",
        "ax2.set_yticks(tree_indices)\n",
        "ax2.set_ylim((0, nwords))\n",
        "ax2.set_title(\"TF-IDF\")\n",
        "\n",
        "fig.tight_layout()\n",
        "plt.show()"
      ],
      "execution_count": null,
      "outputs": [
        {
          "output_type": "display_data",
          "data": {
            "image/png": "[encoded data removed]",
            "text/plain": [
              "<Figure size 864x864 with 2 Axes>"
            ]
          },
          "metadata": {
            "tags": [],
            "needs_background": "light"
          }
        }
      ]
    },
    {
      "cell_type": "markdown",
      "metadata": {
        "id": "19Q4l5isOsvV"
      },
      "source": [
        "Observe que ambos modelos compartilham diversos termos entre os mais importantes, apesar de que em vários deles a ordem é diferente. Entretando, há alguns termos que só aparecem para alguns modelos, como podemos ver a seguir:"
      ]
    },
    {
      "cell_type": "code",
      "metadata": {
        "id": "QMsre4mpOsvW"
      },
      "source": [
        "counts_importance_terms = set(np.array(counter_vectorizer.get_feature_names())[counts_importance_idx])\n",
        "tfidf_importance_terms = set(np.array(tfidf_vectorizer.get_feature_names())[tfidf_importance_idx])"
      ],
      "execution_count": null,
      "outputs": []
    },
    {
      "cell_type": "markdown",
      "metadata": {
        "id": "6MCzWdBAOsva"
      },
      "source": [
        "Palavras que só aparecem no modelo gerado a partir da contagem:"
      ]
    },
    {
      "cell_type": "code",
      "metadata": {
        "id": "j0N1IvlCOsvb",
        "colab": {
          "base_uri": "https://localhost:8080/"
        },
        "outputId": "68e0f5bb-b2b2-4692-a265-75dc7df0d9bd"
      },
      "source": [
        "counts_importance_terms - tfidf_importance_terms"
      ],
      "execution_count": null,
      "outputs": [
        {
          "output_type": "execute_result",
          "data": {
            "text/plain": [
              "{'thank'}"
            ]
          },
          "metadata": {
            "tags": []
          },
          "execution_count": 22
        }
      ]
    },
    {
      "cell_type": "markdown",
      "metadata": {
        "id": "-LGPkarxOsvg"
      },
      "source": [
        "Palavras que só aparecem no modelo gerado a partir da representação TF-IDF:"
      ]
    },
    {
      "cell_type": "code",
      "metadata": {
        "id": "6dpQMfJuOsvi",
        "colab": {
          "base_uri": "https://localhost:8080/"
        },
        "outputId": "fc898dc0-6c29-4fdd-b3db-7ff05cd822ef"
      },
      "source": [
        "tfidf_importance_terms - counts_importance_terms"
      ],
      "execution_count": null,
      "outputs": [
        {
          "output_type": "execute_result",
          "data": {
            "text/plain": [
              "{\"i'm\"}"
            ]
          },
          "metadata": {
            "tags": []
          },
          "execution_count": 23
        }
      ]
    },
    {
      "cell_type": "markdown",
      "metadata": {
        "id": "GtUk9jwROsvm"
      },
      "source": [
        "Vamos avaliar o desempenho desses modelos. Inicialmente, vamos usar o conjunto de `teste`. Como o conjunto de `teste` tem uma classe que não estava presente no conjunto de treino (a classe neutra), os modelos não irão classificar corretamente os *tweets* dessa classe.  Vamos analisar a [matriz de confusão](https://en.wikipedia.org/wiki/Confusion_matrix) e o relatório de classificação gerado pelo `scikit-learn`:"
      ]
    },
    {
      "cell_type": "markdown",
      "metadata": {
        "id": "f22Hlr0POsvr"
      },
      "source": [
        "Vamos inicialmente analisar a contagem simples. Para facilitar o processo, o `scikit-learn` permite a criação de um pipeline, que aplica o processamento de texto e o modelo em sequência:"
      ]
    },
    {
      "cell_type": "code",
      "metadata": {
        "id": "SlNAkRSoOsvs"
      },
      "source": [
        "from sklearn.pipeline import Pipeline\n",
        "from sklearn.metrics import plot_confusion_matrix, classification_report\n",
        "\n",
        "pipeline_counts = Pipeline([\n",
        "    ('vect', counter_vectorizer),\n",
        "    ('clf', clf_counts)\n",
        "])"
      ],
      "execution_count": null,
      "outputs": []
    },
    {
      "cell_type": "code",
      "metadata": {
        "id": "HzemCS16jMWp",
        "colab": {
          "base_uri": "https://localhost:8080/",
          "height": 279
        },
        "outputId": "8e1aaf59-fdab-4691-dbfe-6ff610e6d79b"
      },
      "source": [
        "plot_confusion_matrix(pipeline_counts, sentiment140['test']['text'], sentiment140['test']['sentiment'],\n",
        "                                 display_labels=['negative','neutral','positive'],\n",
        "                                 cmap=plt.cm.Blues,\n",
        "                                 normalize='true');"
      ],
      "execution_count": null,
      "outputs": [
        {
          "output_type": "display_data",
          "data": {
            "image/png": "[encoded data removed]",
            "text/plain": [
              "<Figure size 432x288 with 2 Axes>"
            ]
          },
          "metadata": {
            "tags": [],
            "needs_background": "light"
          }
        }
      ]
    },
    {
      "cell_type": "code",
      "metadata": {
        "id": "0yUaO76VjRUh",
        "colab": {
          "base_uri": "https://localhost:8080/"
        },
        "outputId": "58ad93b7-bd33-4a97-dcc3-f0512d9835c2"
      },
      "source": [
        "print(classification_report(sentiment140['test']['sentiment'], pipeline_counts.predict(sentiment140['test']['text']),zero_division=0))"
      ],
      "execution_count": null,
      "outputs": [
        {
          "output_type": "stream",
          "text": [
            "              precision    recall  f1-score   support\n",
            "\n",
            "           0       0.63      0.69      0.66       177\n",
            "           2       0.00      0.00      0.00       139\n",
            "           4       0.50      0.83      0.62       182\n",
            "\n",
            "    accuracy                           0.55       498\n",
            "   macro avg       0.38      0.51      0.43       498\n",
            "weighted avg       0.41      0.55      0.46       498\n",
            "\n"
          ],
          "name": "stdout"
        }
      ]
    },
    {
      "cell_type": "markdown",
      "metadata": {
        "id": "hZ7bDhO8Osvw"
      },
      "source": [
        "Podemos repetir o processo para o TF-IDF:"
      ]
    },
    {
      "cell_type": "code",
      "metadata": {
        "id": "5XWwcfiHOsvy",
        "colab": {
          "base_uri": "https://localhost:8080/",
          "height": 465
        },
        "outputId": "b469a143-3e24-4a63-c5b7-8427d7530c01"
      },
      "source": [
        "pipeline_tfidf = Pipeline([\n",
        "    ('vect', tfidf_vectorizer),\n",
        "    ('clf', clf_tfidf)\n",
        "])\n",
        "\n",
        "plot_confusion_matrix(pipeline_tfidf, sentiment140['test']['text'], sentiment140['test']['sentiment'],\n",
        "                                 display_labels=['negative','neutral','positive'],\n",
        "                                 cmap=plt.cm.Blues,\n",
        "                                 normalize='true')\n",
        "\n",
        "print(classification_report(sentiment140['test']['sentiment'], pipeline_tfidf.predict(sentiment140['test']['text']),zero_division=0))"
      ],
      "execution_count": null,
      "outputs": [
        {
          "output_type": "stream",
          "text": [
            "              precision    recall  f1-score   support\n",
            "\n",
            "           0       0.64      0.63      0.64       177\n",
            "           2       0.00      0.00      0.00       139\n",
            "           4       0.47      0.83      0.60       182\n",
            "\n",
            "    accuracy                           0.53       498\n",
            "   macro avg       0.37      0.49      0.41       498\n",
            "weighted avg       0.40      0.53      0.44       498\n",
            "\n"
          ],
          "name": "stdout"
        },
        {
          "output_type": "display_data",
          "data": {
            "image/png": "[encoded data removed]",
            "text/plain": [
              "<Figure size 432x288 with 2 Axes>"
            ]
          },
          "metadata": {
            "tags": [],
            "needs_background": "light"
          }
        }
      ]
    },
    {
      "cell_type": "markdown",
      "metadata": {
        "id": "Fa8twMQiOsv1"
      },
      "source": [
        "Analisando os resultados, podemos ver que no conjunto de `teste`, há uma tendência um pouco maior do classificador gerado a partir do processamento TF-IDF a predizer a classe positiva. "
      ]
    },
    {
      "cell_type": "markdown",
      "metadata": {
        "id": "W4ZQCrRqOsv2"
      },
      "source": [
        "Para essa base em particular, o conjunte de `teste` é relativamente pequeno. Como usamos apenas 10% dos *tweets* do conjunto de treino para gerar o modelo, há vários *tweets* que não foram usados nesta etapa. Podemos usar exemplos desse conjunto para fazer uma avaliação com mais dados. No trecho de código a seguir, são gerados 10 conjuntos aleatórios com 10% dos *tweets*. A acurácia do modelo é avaliada para cada um desses conjuntos, e finalmente calculamos a **média** e **desvio padrão** para essas 10 execuções:"
      ]
    },
    {
      "cell_type": "code",
      "metadata": {
        "id": "SPH7tnlMOsv4"
      },
      "source": [
        "from sklearn.metrics import accuracy_score\n",
        "\n",
        "accuracies_count = []\n",
        "accuracies_tfidf = []\n",
        "\n",
        "for i in range(10):\n",
        "    random.seed(i)\n",
        "    subset = random.sample(list(range(sentiment140['train'].num_rows)),k=int(0.1*sentiment140['train'].num_rows))\n",
        "    \n",
        "    val_tweets = [sentiment140['train'][i]['text'] for i in subset]\n",
        "    sentiment = [sentiment140['train'][i]['sentiment'] for i in subset]\n",
        "    \n",
        "    accuracies_count.append(accuracy_score(sentiment,pipeline_counts.predict(val_tweets)))\n",
        "    accuracies_tfidf.append(accuracy_score(sentiment,pipeline_tfidf.predict(val_tweets)))"
      ],
      "execution_count": null,
      "outputs": []
    },
    {
      "cell_type": "code",
      "metadata": {
        "id": "sHBKXrkjOsv7",
        "colab": {
          "base_uri": "https://localhost:8080/"
        },
        "outputId": "de3dddb0-51c1-46ed-a10a-d251b6c2e3d7"
      },
      "source": [
        "print(\"Acurárcia média para a contagem simples: {0:.2f} ({1:.2f})\".format(\n",
        "    np.mean(accuracies_count)*100, np.std(accuracies_count)*100))\n",
        "\n",
        "print(\"Acurárcia média para a contagem tf-idf: {0:.2f} ({1:.2f})\".format(\n",
        "    np.mean(accuracies_tfidf)*100, np.std(accuracies_tfidf)*100))\n"
      ],
      "execution_count": null,
      "outputs": [
        {
          "output_type": "stream",
          "text": [
            "Acurárcia média para a contagem simples: 76.30 (0.08)\n",
            "Acurárcia média para a contagem tf-idf: 76.66 (0.08)\n"
          ],
          "name": "stdout"
        }
      ]
    },
    {
      "cell_type": "markdown",
      "metadata": {
        "id": "t8SVwFkPOswA"
      },
      "source": [
        "Como pode ser observado, há uma pequena melhora com a abordagem TF-IDF quando avaliamos com o conjunto maior. Entretanto, os resultados são bastante parecidos. Isso acontece pois, em textos curtos, a ponderação IDF (que leva em consideração o log) tem pouco efeito. Mas em muitas aplicações, há algum ganho usando-se TF-IDF em comparação com a contagem simples."
      ]
    },
    {
      "cell_type": "markdown",
      "metadata": {
        "id": "7qeO01jZe9nk"
      },
      "source": [
        "**Referência**:\n",
        "\n",
        "Este notebook foi criado pelo prof. **Ronaldo Prati** [UFABC], tendo sido apenas reestruturado por mim."
      ]
    }
  ]
}