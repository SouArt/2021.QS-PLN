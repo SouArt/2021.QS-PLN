{
  "nbformat": 4,
  "nbformat_minor": 0,
  "metadata": {
    "colab": {
      "name": "2021-Q1 PLN Notebook 14.ipynb",
      "provenance": [],
      "collapsed_sections": [],
      "authorship_tag": "ABX9TyN2GHskcfNBcVjVzehFFGGW",
      "include_colab_link": true
    },
    "kernelspec": {
      "name": "python3",
      "display_name": "Python 3"
    }
  },
  "cells": [
    {
      "cell_type": "markdown",
      "metadata": {
        "id": "view-in-github",
        "colab_type": "text"
      },
      "source": [
        "<a href=\"https://colab.research.google.com/github/adalves-ufabc/2021.QS-PLN/blob/main/2021_Q1_PLN_Notebook_14.ipynb\" target=\"_parent\"><img src=\"https://colab.research.google.com/assets/colab-badge.svg\" alt=\"Open In Colab\"/></a>"
      ]
    },
    {
      "cell_type": "markdown",
      "metadata": {
        "id": "rUAjrMQ-vqc0"
      },
      "source": [
        "# **Processamento de Linguagem Natural [2020.QS]**\n",
        "Prof. Alexandre Donizeti Alves"
      ]
    },
    {
      "cell_type": "markdown",
      "metadata": {
        "id": "lIlFC3phvwVy"
      },
      "source": [
        "### **Análise de Sentimentos usando a biblioteca TextBlob**\n",
        "\n",
        "**TextBlob** é uma biblioteca Python simples que oferece acesso  para diferentes tarefas de PLN, como análise de sentimento, correção ortográfica etc.\n"
      ]
    },
    {
      "cell_type": "markdown",
      "metadata": {
        "id": "vSBMCFvSy_co"
      },
      "source": [
        "O analisador de sentimentos da biblioteca `Textblob` retorna duas propriedades para uma determinada frase de entrada:\n",
        "\n",
        "*   ***Polarity***: define a positividade ou negatividade do texto; retorna um valor flutuante no intervalo de \"-1.0 a 1.0\", onde '0.0' indica neutro, '+1' indica um sentimento muito positivo e '-1' representa um sentimento muito negativo.\n",
        "*    ***Subjectivity***: frases subjetivas geralmente se referem a opinião pessoal, emoção ou julgamento, enquanto que objetivas se referem a informações factuais. A subjetividade também é um float que fica na faixa de [0,1], sendo que '0.0' é muito objetivo e '1.0' é muito subjetivo."
      ]
    },
    {
      "cell_type": "code",
      "metadata": {
        "id": "h8w17cLExYir"
      },
      "source": [
        "import nltk\n",
        "from textblob import TextBlob"
      ],
      "execution_count": 1,
      "outputs": []
    },
    {
      "cell_type": "code",
      "metadata": {
        "id": "kQunqicYxZSG",
        "colab": {
          "base_uri": "https://localhost:8080/"
        },
        "outputId": "41854888-1499-40b1-86da-1425c9177a8b"
      },
      "source": [
        "sentiment_1 = TextBlob(\"The food was great!\")\n",
        "print(sentiment_1.sentiment)"
      ],
      "execution_count": 2,
      "outputs": [
        {
          "output_type": "stream",
          "text": [
            "Sentiment(polarity=1.0, subjectivity=0.75)\n"
          ],
          "name": "stdout"
        }
      ]
    },
    {
      "cell_type": "code",
      "metadata": {
        "id": "icyjX2515MuZ",
        "colab": {
          "base_uri": "https://localhost:8080/"
        },
        "outputId": "468342d1-a49f-4603-d806-2508c400427f"
      },
      "source": [
        "sentiment_2 = TextBlob(\"I hate Cars\")\n",
        "print(format(sentiment_2.sentiment))"
      ],
      "execution_count": 3,
      "outputs": [
        {
          "output_type": "stream",
          "text": [
            "Sentiment(polarity=-0.8, subjectivity=0.9)\n"
          ],
          "name": "stdout"
        }
      ]
    },
    {
      "cell_type": "code",
      "metadata": {
        "id": "osoCfoil5mY5",
        "colab": {
          "base_uri": "https://localhost:8080/"
        },
        "outputId": "038d39b5-fd64-4fb2-c37d-456de72b3e44"
      },
      "source": [
        "sentiment_3 = TextBlob(\"I am travelling\")\n",
        "print(format(sentiment_3.sentiment))"
      ],
      "execution_count": null,
      "outputs": [
        {
          "output_type": "stream",
          "text": [
            "Sentiment(polarity=0.0, subjectivity=0.0)\n"
          ],
          "name": "stdout"
        }
      ]
    },
    {
      "cell_type": "code",
      "metadata": {
        "id": "DAY1EmCf7OZd",
        "colab": {
          "base_uri": "https://localhost:8080/"
        },
        "outputId": "f84220d5-c4cc-484f-f3be-ab2739650b29"
      },
      "source": [
        "sentiment_4 = TextBlob(\"I hate monday\")\n",
        "print(format(sentiment_4.sentiment))"
      ],
      "execution_count": null,
      "outputs": [
        {
          "output_type": "stream",
          "text": [
            "Sentiment(polarity=-0.8, subjectivity=0.9)\n"
          ],
          "name": "stdout"
        }
      ]
    },
    {
      "cell_type": "code",
      "metadata": {
        "id": "Z0jE31Kz7eV1",
        "colab": {
          "base_uri": "https://localhost:8080/"
        },
        "outputId": "22f49d58-704b-412f-8414-47581dea8e13"
      },
      "source": [
        "sentiment_5 = TextBlob(\"I love California\")\n",
        "print(format(sentiment_5.sentiment))"
      ],
      "execution_count": null,
      "outputs": [
        {
          "output_type": "stream",
          "text": [
            "Sentiment(polarity=0.5, subjectivity=0.6)\n"
          ],
          "name": "stdout"
        }
      ]
    },
    {
      "cell_type": "code",
      "metadata": {
        "id": "9vFNUYtd7xzP",
        "colab": {
          "base_uri": "https://localhost:8080/"
        },
        "outputId": "20867ac1-9700-44d2-8289-38c0104ea173"
      },
      "source": [
        "sentiment_6 = TextBlob(\"I hate monday but I love California\")\n",
        "print(format(sentiment_6.sentiment))"
      ],
      "execution_count": null,
      "outputs": [
        {
          "output_type": "stream",
          "text": [
            "Sentiment(polarity=-0.15000000000000002, subjectivity=0.75)\n"
          ],
          "name": "stdout"
        }
      ]
    },
    {
      "cell_type": "code",
      "metadata": {
        "id": "xVIcCoqS7-EY",
        "colab": {
          "base_uri": "https://localhost:8080/"
        },
        "outputId": "8965d0ef-ca57-412c-9cad-1835ee24d043"
      },
      "source": [
        "sentiment_7 = TextBlob(\"I love monday but I hate California\")\n",
        "print(format(sentiment_7.sentiment))"
      ],
      "execution_count": null,
      "outputs": [
        {
          "output_type": "stream",
          "text": [
            "Sentiment(polarity=-0.15000000000000002, subjectivity=0.75)\n"
          ],
          "name": "stdout"
        }
      ]
    },
    {
      "cell_type": "code",
      "metadata": {
        "id": "tVqOaZbe8LTe",
        "colab": {
          "base_uri": "https://localhost:8080/"
        },
        "outputId": "d1c94439-2f91-4156-bd8c-8d544072a811"
      },
      "source": [
        "sentiment_8 = TextBlob(\"Miss Universe is beautiful\")\n",
        "print(format(sentiment_8.sentiment))"
      ],
      "execution_count": null,
      "outputs": [
        {
          "output_type": "stream",
          "text": [
            "Sentiment(polarity=0.85, subjectivity=1.0)\n"
          ],
          "name": "stdout"
        }
      ]
    }
  ]
}