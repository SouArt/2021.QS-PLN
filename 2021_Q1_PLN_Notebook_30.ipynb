{
  "nbformat": 4,
  "nbformat_minor": 0,
  "metadata": {
    "colab": {
      "name": "2021-Q1 PLN Notebook 30.ipynb",
      "provenance": [],
      "collapsed_sections": [],
      "toc_visible": true,
      "authorship_tag": "ABX9TyMNmkc/WAVNo8mUnRT8kPQR",
      "include_colab_link": true
    },
    "kernelspec": {
      "name": "python3",
      "display_name": "Python 3"
    }
  },
  "cells": [
    {
      "cell_type": "markdown",
      "metadata": {
        "id": "view-in-github",
        "colab_type": "text"
      },
      "source": [
        "<a href=\"https://colab.research.google.com/github/adalves-ufabc/2021.QS-PLN/blob/main/2021_Q1_PLN_Notebook_30.ipynb\" target=\"_parent\"><img src=\"https://colab.research.google.com/assets/colab-badge.svg\" alt=\"Open In Colab\"/></a>"
      ]
    },
    {
      "cell_type": "markdown",
      "metadata": {
        "id": "Rin8k3Se8jeb"
      },
      "source": [
        "# **Processamento de Linguagem Natural [2021.Q1]**\n",
        "Prof. Alexandre Donizeti Alves"
      ]
    },
    {
      "cell_type": "markdown",
      "metadata": {
        "id": "Cp2O_1fM8kEh"
      },
      "source": [
        "### **Sumarização Automática de Textos**\n",
        "\n",
        "Todos nós interagimos com aplicações que usam resumo de texto. Muitas dessas aplicações são para plataformas que publicam artigos de notícias diárias, entretenimento, esportes etc. Com nossa agenda lotada, preferimos ler o resumo desses artigos antes de decidir pela leitura do artigo inteiro. A leitura de um resumo nos ajuda a identificar a área de interesse e nos dá um breve contexto da história."
      ]
    },
    {
      "cell_type": "markdown",
      "metadata": {
        "id": "rFZz_XG39gYi"
      },
      "source": [
        "![image.png](data:image/png;base64,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)"
      ]
    },
    {
      "cell_type": "markdown",
      "metadata": {
        "id": "UbVJvZfZ9k26"
      },
      "source": [
        "**Sumarização** pode ser definida como a tarefa de produzir um resumo conciso e fluente, preservando as informações-chave e o significado geral."
      ]
    },
    {
      "cell_type": "markdown",
      "metadata": {
        "id": "gQVnmhPb92JR"
      },
      "source": [
        "### **Impacto**\n",
        "\n",
        "Os sistemas de sumarização geralmente possuem evidências adicionais que podem ser usadas para especificar os tópicos mais importantes do(s) documento(s). Por exemplo, ao resumir *blogs*, há discussões ou comentários após a postagem do *blog* que são boas fontes de informação para determinar quais partes do *blog* são críticas e interessantes.\n",
        "\n",
        ">\n",
        "Na sumarização de artigos científicos, há uma quantidade considerável de informações, como artigos citados e informações de conferências, que podem ser aproveitadas para identificar frases importantes no artigo original."
      ]
    },
    {
      "cell_type": "markdown",
      "metadata": {
        "id": "xufzfBup-hAg"
      },
      "source": [
        "### **Como funciona a Sumarização de Textos**\n",
        "\n",
        "Em geral, existem dois tipos de sumarização: **abstrativa** e **extrativa**.\n",
        "\n",
        "* **Abstrativa**: os métodos abstrativos selecionam palavras com base na compreensão semântica, mesmo que essas palavras não apareçam nos documentos original. Tem como objetivo produzir material importante de uma nova maneira. Eles interpretam e examinam o texto usando técnicas avançadas de PLN para gerar um novo texto mais curto que transmita as informações mais importantes do texto original.\n",
        "\n",
        "Pode ser correlacionado à maneira como o ser humano lê um artigo de texto ou uma postagem de *blog* e, em seguida, resume com suas próprias palavras.\n",
        "\n",
        ">\n",
        "> ***Input document → understand context → semantics → create own summary***.\n",
        "\n",
        ">\n",
        ">\n",
        "\n",
        "* **Extrativa**: Os métodos extrativos tentam resumir os artigos selecionando um subconjunto de palavras que retém os pontos mais importantes.\n",
        "\n",
        "Esta abordagem pondera a parte importante das sentenças e usa a mesma para formar o resumo. Diferentes algoritmos e técnicas são usados para definir pesos para as sentenças e posteriormente classificá-las com base na importância e semelhança entre si.\n",
        "\n",
        ">\n",
        "> ***Input document → sentences similarity → weight sentences → select sentences with higher rank***.\n",
        "\n",
        ">\n",
        "A sumarização abstrativa requer uma compreensão mais profunda do texto em comparação com a abordagem extrativa.\n",
        "\n",
        "Sumarizações puramente extrativas muitas vezes fornecem melhores resultados em comparação com sumarizações abstrativas. Isso ocorre devido ao fato de que os métodos de sumarização abstrativa lidam com problemas como a representação semântica, inferência e geração de linguagem natural que é relativamente mais difícil do que abordagens baseadas em dados, como extração de frases.\n",
        "\n",
        "Existem muitas técnicas disponíveis para gerar sumarização extrativa. Para simplificar, usaremos uma abordagem de aprendizado não supervisionado para encontrar a similaridade das sentenças e classificá-las. Um benefício disso será que você não precisa treinar e construir um modelo antes de começar a usá-lo em seu projeto.\n",
        "\n",
        "É bom entender a **similaridade por cosseno** para fazer o melhor uso do código que você verá. A similaridade por cosseno é uma medida da similaridade entre dois vetores num espaço vetorial que avalia o valor do cosseno do ângulo compreendido entre eles. Visto que representaremos nossas sentenças como um conjunto de vetores, podemos usá-lo para encontrar a similaridade entre as sentenças. Ele mede o cosseno do ângulo entre os vetores. O ângulo será 0 se as sentenças forem semelhantes."
      ]
    },
    {
      "cell_type": "markdown",
      "metadata": {
        "id": "QeQQlR2mBvux"
      },
      "source": [
        "A seguir é apresentado o código para gerar a sumarização de textos:"
      ]
    },
    {
      "cell_type": "markdown",
      "metadata": {
        "id": "QkvpHSWBB9D5"
      },
      "source": [
        ">***Input article → split into sentences → remove stop words → build a similarity matrix → generate rank based on matrix → pick top N sentences for summary***."
      ]
    },
    {
      "cell_type": "code",
      "metadata": {
        "colab": {
          "base_uri": "https://localhost:8080/"
        },
        "id": "dKIkG8BMCBEh",
        "outputId": "66101cf6-0a11-4019-9db0-3626dd8d69fe"
      },
      "source": [
        "# 1. Import all necessary libraries\n",
        "\n",
        "import nltk\n",
        "nltk.download('stopwords')\n",
        "\n",
        "from nltk.corpus import stopwords\n",
        "from nltk.cluster.util import cosine_distance\n",
        "\n",
        "import numpy as np\n",
        "import networkx as nx"
      ],
      "execution_count": 1,
      "outputs": [
        {
          "output_type": "stream",
          "text": [
            "[nltk_data] Downloading package stopwords to /root/nltk_data...\n",
            "[nltk_data]   Unzipping corpora/stopwords.zip.\n"
          ],
          "name": "stdout"
        }
      ]
    },
    {
      "cell_type": "code",
      "metadata": {
        "id": "PxGZI7rBCVxv"
      },
      "source": [
        "# 2. Generate clean sentences\n",
        "\n",
        "def read_article(file_name):\n",
        "  file = open(file_name, \"r\")\n",
        "  filedata = file.readlines()\n",
        "  article = filedata[0].split(\". \")\n",
        "  \n",
        "  sentences = []   \n",
        "  for sentence in article:\n",
        "    print(sentence)\n",
        "    sentences.append(sentence.replace(\"[^a-zA-Z]\", \" \").split(\" \"))\n",
        "  \n",
        "  sentences.pop() \n",
        "    \n",
        "  return sentences "
      ],
      "execution_count": 2,
      "outputs": []
    },
    {
      "cell_type": "code",
      "metadata": {
        "id": "nEOi51aUCyo6"
      },
      "source": [
        "# 3. Similarity matrix\n",
        "\n",
        "def sentence_similarity(sent1, sent2, stopwords=None):\n",
        "    if stopwords is None:\n",
        "        stopwords = []\n",
        " \n",
        "    sent1 = [w.lower() for w in sent1]\n",
        "    sent2 = [w.lower() for w in sent2]\n",
        " \n",
        "    all_words = list(set(sent1 + sent2))\n",
        " \n",
        "    vector1 = [0] * len(all_words)\n",
        "    vector2 = [0] * len(all_words)\n",
        " \n",
        "    # build the vector for the first sentence\n",
        "    for w in sent1:\n",
        "        if w in stopwords:\n",
        "            continue\n",
        "        vector1[all_words.index(w)] += 1\n",
        " \n",
        "    # build the vector for the second sentence\n",
        "    for w in sent2:\n",
        "        if w in stopwords:\n",
        "            continue\n",
        "        vector2[all_words.index(w)] += 1\n",
        " \n",
        "    return 1 - cosine_distance(vector1, vector2)    \n",
        "\n",
        "def build_similarity_matrix(sentences, stop_words):\n",
        "\n",
        "    # create an empty similarity matrix\n",
        "    similarity_matrix = np.zeros((len(sentences), len(sentences)))\n",
        " \n",
        "    for idx1 in range(len(sentences)):\n",
        "        for idx2 in range(len(sentences)):\n",
        "            if idx1 == idx2: #ignore if both are same sentences\n",
        "                continue \n",
        "            similarity_matrix[idx1][idx2] = sentence_similarity(sentences[idx1], sentences[idx2], stop_words)\n",
        "    \n",
        "    return similarity_matrix    "
      ],
      "execution_count": 3,
      "outputs": []
    },
    {
      "cell_type": "code",
      "metadata": {
        "id": "0FRRms-0EZkL"
      },
      "source": [
        "# 4. Generate Summary Method\n",
        "\n",
        "def generate_summary(file_name, top_n=5):\n",
        "    stop_words = stopwords.words('english')\n",
        "    summarize_text = []    \n",
        "    \n",
        "    # Step 1 - Read text and tokenize\n",
        "    sentences =  read_article(file_name) \n",
        "\n",
        "    # Step 2 - Generate Similary Martix across sentences\n",
        "    sentence_similarity_martix = build_similarity_matrix(sentences, stop_words)    \n",
        "\n",
        "    # Step 3 - Rank sentences in similarity martix\n",
        "    sentence_similarity_graph = nx.from_numpy_array(sentence_similarity_martix)\n",
        "    scores = nx.pagerank(sentence_similarity_graph)  \n",
        "    \n",
        "    # Step 4 - Sort the rank and pick top sentences\n",
        "    ranked_sentence = sorted(((scores[i],s) for i,s in enumerate(sentences)), reverse=True)    \n",
        "    print(\"\\nIndexes of top ranked_sentence order are \", ranked_sentence)    \n",
        "\n",
        "    for i in range(top_n):\n",
        "      summarize_text.append(\" \".join(ranked_sentence[i][1]))\n",
        "\n",
        "    # Step 5 - Offcourse, output the summarize texr\n",
        "    print(\"\\nSummarize Text: \\n\", \". \".join(summarize_text))"
      ],
      "execution_count": 4,
      "outputs": []
    },
    {
      "cell_type": "code",
      "metadata": {
        "colab": {
          "base_uri": "https://localhost:8080/"
        },
        "id": "X9LeiL2AE57T",
        "outputId": "7973830b-1de5-4b8a-ff06-9876ad84dc22"
      },
      "source": [
        "generate_summary(\"/content/msft.txt\", 3)"
      ],
      "execution_count": 5,
      "outputs": [
        {
          "output_type": "stream",
          "text": [
            "In an attempt to build an AI-ready workforce, Microsoft announced Intelligent Cloud Hub which has been launched to empower the next generation of students with AI-ready skills\n",
            "Envisioned as a three-year collaborative program, Intelligent Cloud Hub will support around 100 institutions with AI infrastructure, course content and curriculum, developer support, development tools and give students access to cloud and AI services\n",
            "As part of the program, the Redmond giant which wants to expand its reach and is planning to build a strong developer ecosystem in India with the program will set up the core AI infrastructure and IoT Hub for the selected campuses\n",
            "The company will provide AI development tools and Azure AI services such as Microsoft Cognitive Services, Bot Services and Azure Machine Learning.According to Manish Prakash, Country General Manager-PS, Health and Education, Microsoft India, said, \"With AI being the defining technology of our time, it is transforming lives and industry and the jobs of tomorrow will require a different skillset\n",
            "This will require more collaborations and training and working with AI\n",
            "That’s why it has become more critical than ever for educational institutions to integrate new cloud and AI technologies\n",
            "The program is an attempt to ramp up the institutional set-up and build capabilities among the educators to educate the workforce of tomorrow.\" The program aims to build up the cognitive skills and in-depth understanding of developing intelligent cloud connected solutions for applications across industry\n",
            "Earlier in April this year, the company announced Microsoft Professional Program In AI as a learning track open to the public\n",
            "The program was developed to provide job ready skills to programmers who wanted to hone their skills in AI and data science with a series of online courses which featured hands-on labs and expert instructors as well\n",
            "This program also included developer-focused AI school that provided a bunch of assets to help build AI skills.\n",
            "\n",
            "Indexes of top ranked_sentence order are  [(0.15083257041122708, ['Envisioned', 'as', 'a', 'three-year', 'collaborative', 'program,', 'Intelligent', 'Cloud', 'Hub', 'will', 'support', 'around', '100', 'institutions', 'with', 'AI', 'infrastructure,', 'course', 'content', 'and', 'curriculum,', 'developer', 'support,', 'development', 'tools', 'and', 'give', 'students', 'access', 'to', 'cloud', 'and', 'AI', 'services']), (0.13161201335715553, ['The', 'company', 'will', 'provide', 'AI', 'development', 'tools', 'and', 'Azure', 'AI', 'services', 'such', 'as', 'Microsoft', 'Cognitive', 'Services,', 'Bot', 'Services', 'and', 'Azure', 'Machine', 'Learning.According', 'to', 'Manish', 'Prakash,', 'Country', 'General', 'Manager-PS,', 'Health', 'and', 'Education,', 'Microsoft', 'India,', 'said,', '\"With', 'AI', 'being', 'the', 'defining', 'technology', 'of', 'our', 'time,', 'it', 'is', 'transforming', 'lives', 'and', 'industry', 'and', 'the', 'jobs', 'of', 'tomorrow', 'will', 'require', 'a', 'different', 'skillset']), (0.11403047674961146, ['Earlier', 'in', 'April', 'this', 'year,', 'the', 'company', 'announced', 'Microsoft', 'Professional', 'Program', 'In', 'AI', 'as', 'a', 'learning', 'track', 'open', 'to', 'the', 'public']), (0.10721749759953528, ['In', 'an', 'attempt', 'to', 'build', 'an', 'AI-ready', 'workforce,', 'Microsoft', 'announced', 'Intelligent', 'Cloud', 'Hub', 'which', 'has', 'been', 'launched', 'to', 'empower', 'the', 'next', 'generation', 'of', 'students', 'with', 'AI-ready', 'skills']), (0.10404298514456578, ['As', 'part', 'of', 'the', 'program,', 'the', 'Redmond', 'giant', 'which', 'wants', 'to', 'expand', 'its', 'reach', 'and', 'is', 'planning', 'to', 'build', 'a', 'strong', 'developer', 'ecosystem', 'in', 'India', 'with', 'the', 'program', 'will', 'set', 'up', 'the', 'core', 'AI', 'infrastructure', 'and', 'IoT', 'Hub', 'for', 'the', 'selected', 'campuses']), (0.10031366655994461, ['That’s', 'why', 'it', 'has', 'become', 'more', 'critical', 'than', 'ever', 'for', 'educational', 'institutions', 'to', 'integrate', 'new', 'cloud', 'and', 'AI', 'technologies']), (0.10001137283486655, ['The', 'program', 'is', 'an', 'attempt', 'to', 'ramp', 'up', 'the', 'institutional', 'set-up', 'and', 'build', 'capabilities', 'among', 'the', 'educators', 'to', 'educate', 'the', 'workforce', 'of', 'tomorrow.\"', 'The', 'program', 'aims', 'to', 'build', 'up', 'the', 'cognitive', 'skills', 'and', 'in-depth', 'understanding', 'of', 'developing', 'intelligent', 'cloud', 'connected', 'solutions', 'for', 'applications', 'across', 'industry']), (0.09916750119894317, ['This', 'will', 'require', 'more', 'collaborations', 'and', 'training', 'and', 'working', 'with', 'AI']), (0.09277191614415067, ['The', 'program', 'was', 'developed', 'to', 'provide', 'job', 'ready', 'skills', 'to', 'programmers', 'who', 'wanted', 'to', 'hone', 'their', 'skills', 'in', 'AI', 'and', 'data', 'science', 'with', 'a', 'series', 'of', 'online', 'courses', 'which', 'featured', 'hands-on', 'labs', 'and', 'expert', 'instructors', 'as', 'well'])]\n",
            "\n",
            "Summarize Text: \n",
            " Envisioned as a three-year collaborative program, Intelligent Cloud Hub will support around 100 institutions with AI infrastructure, course content and curriculum, developer support, development tools and give students access to cloud and AI services. The company will provide AI development tools and Azure AI services such as Microsoft Cognitive Services, Bot Services and Azure Machine Learning.According to Manish Prakash, Country General Manager-PS, Health and Education, Microsoft India, said, \"With AI being the defining technology of our time, it is transforming lives and industry and the jobs of tomorrow will require a different skillset. Earlier in April this year, the company announced Microsoft Professional Program In AI as a learning track open to the public\n"
          ],
          "name": "stdout"
        }
      ]
    },
    {
      "cell_type": "markdown",
      "metadata": {
        "id": "o8vHVXeM8nD3"
      },
      "source": [
        "**Mais informações:**\n",
        "\n",
        "> [Understand Text Summarization and create your own summarizer in python](https://towardsdatascience.com/understand-text-summarization-and-create-your-own-summarizer-in-python-b26a9f09fc70)"
      ]
    }
  ]
}