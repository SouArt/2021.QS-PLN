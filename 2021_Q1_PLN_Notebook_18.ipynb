{
  "nbformat": 4,
  "nbformat_minor": 0,
  "metadata": {
    "colab": {
      "name": "2021-Q1 PLN Notebook 18.ipynb",
      "provenance": [],
      "collapsed_sections": [],
      "include_colab_link": true
    },
    "kernelspec": {
      "name": "python3",
      "display_name": "Python 3"
    }
  },
  "cells": [
    {
      "cell_type": "markdown",
      "metadata": {
        "id": "view-in-github",
        "colab_type": "text"
      },
      "source": [
        "<a href=\"https://colab.research.google.com/github/adalves-ufabc/2021.QS-PLN/blob/main/2021_Q1_PLN_Notebook_18.ipynb\" target=\"_parent\"><img src=\"https://colab.research.google.com/assets/colab-badge.svg\" alt=\"Open In Colab\"/></a>"
      ]
    },
    {
      "cell_type": "markdown",
      "metadata": {
        "id": "w076Gmh8L3nF"
      },
      "source": [
        "# **Processamento de Linguagem Natural [2021.Q1]**\n",
        "Prof. Alexandre Donizeti Alves"
      ]
    },
    {
      "cell_type": "markdown",
      "metadata": {
        "id": "bbdVzJK4Jb6n"
      },
      "source": [
        "### **Chatbots simples com Python e NLTK**"
      ]
    },
    {
      "cell_type": "markdown",
      "metadata": {
        "id": "b6ifx4USLmyn"
      },
      "source": [
        "### **01. Testes com o chatbot Eliza**\n",
        "\n",
        "\n",
        "- Mais chatbots: https://www.nltk.org/api/nltk.chat.html"
      ]
    },
    {
      "cell_type": "code",
      "metadata": {
        "id": "7H9-kcRp4HLL"
      },
      "source": [
        "#pip install nltk\n",
        "#nltk.download()\n",
        "import nltk"
      ],
      "execution_count": 1,
      "outputs": []
    },
    {
      "cell_type": "code",
      "metadata": {
        "id": "fMiKNY3a4VEt",
        "colab": {
          "base_uri": "https://localhost:8080/"
        },
        "outputId": "8d97ded0-6f56-4b72-f7a0-c7fc0d63e00b"
      },
      "source": [
        "nltk.chat.eliza.demo()"
      ],
      "execution_count": 5,
      "outputs": [
        {
          "output_type": "stream",
          "text": [
            "Therapist\n",
            "---------\n",
            "Talk to the program by typing in plain English, using normal upper-\n",
            "and lower-case letters and punctuation.  Enter \"quit\" when done.\n",
            "========================================================================\n",
            "Hello.  How are you feeling today?\n",
            ">i am fine\n",
            "How long have you been fine?\n",
            ">quit\n",
            "Thank you, that will be $150.  Have a good day!\n"
          ],
          "name": "stdout"
        }
      ]
    },
    {
      "cell_type": "markdown",
      "metadata": {
        "id": "DqGDlGUpJslb"
      },
      "source": [
        "### **02. Pacote chat do NLTK**\n",
        "\n",
        "- **`Chat`**: lógica usada pelo chatbot\n",
        "- **`reflections`**: dicionário com entradas e suas respectivas saídas"
      ]
    },
    {
      "cell_type": "code",
      "metadata": {
        "id": "lZwa0wZN5XpM"
      },
      "source": [
        "import nltk\n",
        "from nltk.chat.util import Chat, reflections"
      ],
      "execution_count": 6,
      "outputs": []
    },
    {
      "cell_type": "code",
      "metadata": {
        "id": "7JVJSBqF5nId",
        "colab": {
          "base_uri": "https://localhost:8080/"
        },
        "outputId": "864e8b7f-c899-4105-d862-ab93e380eb44"
      },
      "source": [
        "reflections"
      ],
      "execution_count": 7,
      "outputs": [
        {
          "output_type": "execute_result",
          "data": {
            "text/plain": [
              "{'i': 'you',\n",
              " 'i am': 'you are',\n",
              " 'i was': 'you were',\n",
              " \"i'd\": 'you would',\n",
              " \"i'll\": 'you will',\n",
              " \"i'm\": 'you are',\n",
              " \"i've\": 'you have',\n",
              " 'me': 'you',\n",
              " 'my': 'your',\n",
              " 'you': 'me',\n",
              " 'you are': 'I am',\n",
              " 'you were': 'I was',\n",
              " \"you'll\": 'I will',\n",
              " \"you've\": 'I have',\n",
              " 'your': 'my',\n",
              " 'yours': 'mine'}"
            ]
          },
          "metadata": {
            "tags": []
          },
          "execution_count": 7
        }
      ]
    },
    {
      "cell_type": "code",
      "metadata": {
        "id": "rimuIlYWMkIl"
      },
      "source": [
        "reflections_pt = {'eu': 'você',\n",
        "                  'eu sou': 'você é',\n",
        "                  'eu era': 'você era',\n",
        "                  \"eu iria\": 'você iria',\n",
        "                  \"eu irei\": 'você irá',\n",
        "                  'meu': 'seu',\n",
        "                  'você': 'eu',\n",
        "                  'você é': 'eu sou',\n",
        "                  'você era': 'eu era',\n",
        "                  \"você irá\": 'eu irei',\n",
        "                  'seu': 'meu'}"
      ],
      "execution_count": 8,
      "outputs": []
    },
    {
      "cell_type": "code",
      "metadata": {
        "id": "sU5XwnNE6FKv"
      },
      "source": [
        "pares = [\n",
        "    [\n",
        "     r'oi|olá|opa',\n",
        "     ['olá', 'como vai?', 'tudo bem?']\n",
        "    ],\n",
        "    [\n",
        "     r'qual é o seu nome?',\n",
        "     ['Meu nome é Chat e eu sou um chatbot']\n",
        "    ],  \n",
        "    [\n",
        "     r'(.*) idade?',\n",
        "     ['Não tenho idade pois sou um chatbot']\n",
        "    ], \n",
        "    [\n",
        "     r'meu nome é (.*)',\n",
        "     ['Olá %1, como você está hoje?']\n",
        "    ],  \n",
        "    [\n",
        "     r'eu trabalho na empresa (.*)',\n",
        "     ['Eu conheço a empresa %1']\n",
        "    ], \n",
        "    [\n",
        "     r'(.*) (cidade|país)',\n",
        "     ['Santo André, Brasil']\n",
        "    ], \n",
        "    [\n",
        "     r'quit',\n",
        "     ['Até breve', 'Foi bom conversar com você. Até breve!']\n",
        "    ]     \n",
        "]"
      ],
      "execution_count": 10,
      "outputs": []
    },
    {
      "cell_type": "code",
      "metadata": {
        "id": "ocerTWVf6a47",
        "colab": {
          "base_uri": "https://localhost:8080/"
        },
        "outputId": "de464c0c-be47-472c-c35d-e3ab71425d19"
      },
      "source": [
        "print('Olá, sou o chat!')\n",
        "chat = Chat(pares, reflections_pt)\n",
        "chat.converse()"
      ],
      "execution_count": 11,
      "outputs": [
        {
          "output_type": "stream",
          "text": [
            "Olá, sou o chat!\n",
            ">qual é o seu nome?\n",
            "Meu nome é Chat e eu sou um chatbot\n",
            ">qual a sua idade?\n",
            "Não tenho idade pois sou um chatbot\n",
            ">meu nome é Alexandre\n",
            "Olá alexandre, como você está hoje?\n",
            ">eu trabalho na empresa UFABC\n",
            "Eu conheço a empresa ufabc\n",
            ">QUIT\n",
            "Foi bom conversar com você. Até breve!\n",
            ">quit\n",
            "Foi bom conversar com você. Até breve!\n"
          ],
          "name": "stdout"
        }
      ]
    },
    {
      "cell_type": "markdown",
      "metadata": {
        "id": "X_AEkLSuo-gt"
      },
      "source": [
        "**Referência**:\n",
        "\n",
        "Notebook disponibilizado no Curso [Chatbots com Python e Dialogflow: O Guia para Iniciantes](https://iaexpert.academy/courses/chatbots-python-dialogflow-guia-iniciantes/).\n"
      ]
    },
    {
      "cell_type": "markdown",
      "metadata": {
        "id": "yF_kCi8FtMu5"
      },
      "source": [
        "**Mais informações**: [Build Your First Chatbot Using Python & NLTK](https://www.kdnuggets.com/2019/05/build-chatbot-python-nltk.html)."
      ]
    }
  ]
}