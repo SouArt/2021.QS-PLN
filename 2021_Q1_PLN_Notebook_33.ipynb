{
  "nbformat": 4,
  "nbformat_minor": 0,
  "metadata": {
    "colab": {
      "name": "2021-Q1 PLN Notebook 33.ipynb",
      "provenance": [],
      "collapsed_sections": [],
      "authorship_tag": "ABX9TyOFmFVIRcB3IEnyJreEi3tP",
      "include_colab_link": true
    },
    "kernelspec": {
      "name": "python3",
      "display_name": "Python 3"
    }
  },
  "cells": [
    {
      "cell_type": "markdown",
      "metadata": {
        "id": "view-in-github",
        "colab_type": "text"
      },
      "source": [
        "<a href=\"https://colab.research.google.com/github/adalves-ufabc/2021.QS-PLN/blob/main/2021_Q1_PLN_Notebook_33.ipynb\" target=\"_parent\"><img src=\"https://colab.research.google.com/assets/colab-badge.svg\" alt=\"Open In Colab\"/></a>"
      ]
    },
    {
      "cell_type": "markdown",
      "metadata": {
        "id": "xv5MMb89fCa1"
      },
      "source": [
        "# **Processamento de Linguagem Natural [2021.Q1]**\n",
        "Prof. Alexandre Donizeti Alves"
      ]
    },
    {
      "cell_type": "markdown",
      "metadata": {
        "id": "f5B2Kb_cfDuQ"
      },
      "source": [
        "### **Sumarização Automática de Textos**"
      ]
    },
    {
      "cell_type": "markdown",
      "metadata": {
        "id": "4tDFS0_yQW4W"
      },
      "source": [
        "### **Usando o pacote Gensim**"
      ]
    },
    {
      "cell_type": "code",
      "metadata": {
        "id": "BovvAgSofcql"
      },
      "source": [
        "text=\"\"\"A vaccine for the coronavirus will likely be ready by early \n",
        "2021 but rolling it out safely across India’s 1.3 billion people will \n",
        "be the country’s biggest challenge in fighting its surging epidemic, \n",
        "a leading vaccine scientist told Bloomberg.\n",
        "\n",
        "India, which is host to some of the front-runner vaccine clinical \n",
        "trials, currently has no local infrastructure in place to go beyond \n",
        "immunizing babies and pregnant women, said Gagandeep Kang, professor \n",
        "of microbiology at the Vellore-based Christian Medical College and a \n",
        "member of the WHO’s Global Advisory Committee on Vaccine Safety.\n",
        "\n",
        "The timing of the vaccine is a contentious subject around the world. \n",
        "In the U.S., President Donald Trump has contradicted a top \n",
        "administration health expert by saying a vaccine would be available \n",
        "by October. In India, Prime Minister Narendra Modi’s government had \n",
        "promised an indigenous vaccine as early as mid-August, a claim the \n",
        "government and its apex medical research body has since walked back.\n",
        "\"\"\""
      ],
      "execution_count": 1,
      "outputs": []
    },
    {
      "cell_type": "code",
      "metadata": {
        "colab": {
          "base_uri": "https://localhost:8080/"
        },
        "id": "Ke93UMIxgy03",
        "outputId": "d05a6b36-472b-48c9-86a8-931c9b8a0b43"
      },
      "source": [
        "from gensim.summarization.summarizer import summarize\n",
        "\n",
        "# summarize text using gensim\n",
        "gen_summary=summarize(text)\n",
        "print(gen_summary)"
      ],
      "execution_count": 2,
      "outputs": [
        {
          "output_type": "stream",
          "text": [
            "A vaccine for the coronavirus will likely be ready by early \n",
            "In India, Prime Minister Narendra Modi’s government had \n",
            "government and its apex medical research body has since walked back.\n"
          ],
          "name": "stdout"
        }
      ]
    },
    {
      "cell_type": "markdown",
      "metadata": {
        "id": "Oahyvop8RARg"
      },
      "source": [
        "### **Mais um exemplo usando Gemsim**\n"
      ]
    },
    {
      "cell_type": "code",
      "metadata": {
        "colab": {
          "base_uri": "https://localhost:8080/"
        },
        "id": "D7wZWAb_R5Ud",
        "outputId": "9c143e0d-dce3-4e0a-d9a2-ed08a1625115"
      },
      "source": [
        "!pip install wikipedia"
      ],
      "execution_count": 3,
      "outputs": [
        {
          "output_type": "stream",
          "text": [
            "Collecting wikipedia\n",
            "  Downloading https://files.pythonhosted.org/packages/67/35/25e68fbc99e672127cc6fbb14b8ec1ba3dfef035bf1e4c90f78f24a80b7d/wikipedia-1.4.0.tar.gz\n",
            "Requirement already satisfied: beautifulsoup4 in /usr/local/lib/python3.7/dist-packages (from wikipedia) (4.6.3)\n",
            "Requirement already satisfied: requests<3.0.0,>=2.0.0 in /usr/local/lib/python3.7/dist-packages (from wikipedia) (2.23.0)\n",
            "Requirement already satisfied: chardet<4,>=3.0.2 in /usr/local/lib/python3.7/dist-packages (from requests<3.0.0,>=2.0.0->wikipedia) (3.0.4)\n",
            "Requirement already satisfied: urllib3!=1.25.0,!=1.25.1,<1.26,>=1.21.1 in /usr/local/lib/python3.7/dist-packages (from requests<3.0.0,>=2.0.0->wikipedia) (1.24.3)\n",
            "Requirement already satisfied: certifi>=2017.4.17 in /usr/local/lib/python3.7/dist-packages (from requests<3.0.0,>=2.0.0->wikipedia) (2020.12.5)\n",
            "Requirement already satisfied: idna<3,>=2.5 in /usr/local/lib/python3.7/dist-packages (from requests<3.0.0,>=2.0.0->wikipedia) (2.10)\n",
            "Building wheels for collected packages: wikipedia\n",
            "  Building wheel for wikipedia (setup.py) ... \u001b[?25l\u001b[?25hdone\n",
            "  Created wheel for wikipedia: filename=wikipedia-1.4.0-cp37-none-any.whl size=11686 sha256=3118a623a1021177b582a46aaab097485cc03bfd0b8139a2c2be6360aeb5287e\n",
            "  Stored in directory: /root/.cache/pip/wheels/87/2a/18/4e471fd96d12114d16fe4a446d00c3b38fb9efcb744bd31f4a\n",
            "Successfully built wikipedia\n",
            "Installing collected packages: wikipedia\n",
            "Successfully installed wikipedia-1.4.0\n"
          ],
          "name": "stdout"
        }
      ]
    },
    {
      "cell_type": "code",
      "metadata": {
        "colab": {
          "base_uri": "https://localhost:8080/"
        },
        "id": "ZWQxZ00xRwVF",
        "outputId": "1653ca12-bce2-4238-9d66-ad5e618869a0"
      },
      "source": [
        "from gensim.summarization.summarizer import summarize \n",
        "from gensim.summarization import keywords \n",
        "\n",
        "import wikipedia \n",
        "import spacy\n",
        "\n",
        "# get wiki content \n",
        "wikisearch = wikipedia.page(\"Amitabh Bachchan\") \n",
        "wikicontent = wikisearch.content \n",
        "\n",
        "#nlp = en_core_web_sm.load() \n",
        "nlp = spacy.load('en_core_web_sm')\n",
        "doc = nlp(wikicontent) \n",
        "\n",
        "# save the wiki content to a file \n",
        "f = open(\"wikicontent.txt\", \"w\") \n",
        "f.write(wikicontent) \n",
        "f.close() \n",
        "\n",
        "# summary (5% of the original content)\n",
        "summ_per = summarize(wikicontent, ratio = 0.05) \n",
        "print(\"Percent summary\") \n",
        "print(summ_per) \n",
        "\n",
        "# Summary (200 words) \n",
        "summ_words = summarize(wikicontent, word_count = 200) \n",
        "print(\"\\nWord count summary\") \n",
        "print(summ_words) \n"
      ],
      "execution_count": 4,
      "outputs": [
        {
          "output_type": "stream",
          "text": [
            "Percent summary\n",
            "During the 1970s–1980s, he was the most dominant actor in the Indian movie scene; the French director François Truffaut called him a \"one-man industry\".Bachchan was born in 1942 in Allahabad to the Hindi poet Harivansh Rai Bachchan and his wife, the social activist Teji Bachchan.\n",
            "Referred to as the Shahenshah of Bollywood (in reference to his 1988 film Shahenshah), Sadi ka Mahanayak (Hindi for, \"Greatest actor of the century\"), Star of the Millennium, or Big B, he has since appeared in over 200 Indian films in a career spanning more than five decades, and has won numerous accolades in his career, including four National Film Awards as Best Actor, Dadasaheb Phalke Award as lifetime achievement award and many awards at international film festivals and award ceremonies.\n",
            "His first acting role was as one of the seven protagonists in the film Saat Hindustani, directed by Khwaja Ahmad Abbas and featuring Utpal Dutt, Anwar Ali (brother of comedian Mehmood), Madhu and Jalal Agha.Anand (1971) followed, in which Bachchan starred alongside Rajesh Khanna.\n",
            "Salim Khan introduced Bachchan to Prakash Mehra, and Salim-Javed insisted that Bachchan be cast for the role.Zanjeer was a crime film with violent action, in sharp contrast to the romantically themed films that had generally preceded it, and it established Amitabh in a new persona—the \"angry young man\" of Bollywood cinema.\n",
            "The film was a huge success and one of the highest-grossing films of that year, breaking Bachchan's dry spell at the box office and making him a star.\n",
            "This led to Bachchan being dubbed as the \"angry young man\", a journalistic catchphrase which became a metaphor for the dormant rage, frustration, restlessness, sense of rebellion and anti-establishment disposition of an entire generation, prevalent in 1970s India.The year 1973 was also when he married Jaya, and around this time they appeared in several films together: not only Zanjeer but also subsequent films such as Abhimaan, which was released only a month after their marriage and was also successful at the box office.\n",
            "His supporting role won him his second Filmfare Award for Best Supporting Actor.In 1974, Bachchan made several guest appearances in films such as Kunwara Baap and Dost, before playing a supporting role in Roti Kapda Aur Makaan.\n",
            "The other, released on 15 August 1975, was Sholay, which became the highest-grossing film ever in India at the time, in which Bachchan played the role of Jaidev.\n",
            "Bachchan was again nominated for the Filmfare Best Actor Award for his role in the film.\n",
            "In 1977, he won his first Filmfare Best Actor Award for his performance in Amar Akbar Anthony, in which he played the third lead opposite Vinod Khanna and Rishi Kapoor as Anthony Gonsalves.\n",
            "Other successful films of this period include Shaan (1980), Ram Balram (1980), Naseeb (1981), Lawaaris (1981), Kaalia (1981), Yaarana (1981), Barsaat Ki Ek Raat (1981) and Shakti (1982), also starring Dilip Kumar.In 1982, he played double roles in the musical Satte Pe Satta and action drama Desh Premee which succeeded at the box office along with mega hits like action comedy Namak Halaal, action drama Khud-Daar and the critically acclaimed drama Bemisal.\n",
            "After a three-year stint in politics from 1984 to 1987, Bachchan returned to films in 1988, playing the title role in Shahenshah, which was a box office success.\n",
            "He gained success during this period with the crime drama Aaj Ka Arjun (1990) and action crime drama Hum (1991), for which he won his third Filmfare Best Actor Award, but this momentum was short-lived and his string of box office failures continued.\n",
            "Bachchan was slated to play a supporting role in his first international film, Shantaram, directed by Mira Nair and starring Hollywood actor Johnny Depp in the lead.\n",
            "Apart from industry awards won for his performances throughout the years, Bachchan has received several honours for his achievements in the Indian film industry.\n",
            "\n",
            "Word count summary\n",
            "Salim Khan introduced Bachchan to Prakash Mehra, and Salim-Javed insisted that Bachchan be cast for the role.Zanjeer was a crime film with violent action, in sharp contrast to the romantically themed films that had generally preceded it, and it established Amitabh in a new persona—the \"angry young man\" of Bollywood cinema.\n",
            "This led to Bachchan being dubbed as the \"angry young man\", a journalistic catchphrase which became a metaphor for the dormant rage, frustration, restlessness, sense of rebellion and anti-establishment disposition of an entire generation, prevalent in 1970s India.The year 1973 was also when he married Jaya, and around this time they appeared in several films together: not only Zanjeer but also subsequent films such as Abhimaan, which was released only a month after their marriage and was also successful at the box office.\n",
            "His supporting role won him his second Filmfare Award for Best Supporting Actor.In 1974, Bachchan made several guest appearances in films such as Kunwara Baap and Dost, before playing a supporting role in Roti Kapda Aur Makaan.\n",
            "After a three-year stint in politics from 1984 to 1987, Bachchan returned to films in 1988, playing the title role in Shahenshah, which was a box office success.\n"
          ],
          "name": "stdout"
        }
      ]
    },
    {
      "cell_type": "markdown",
      "metadata": {
        "id": "dQtI4TUFTQt2"
      },
      "source": [
        "### **Usando spaCy**"
      ]
    },
    {
      "cell_type": "code",
      "metadata": {
        "id": "hI71av6Mqysu"
      },
      "source": [
        "import spacy\n",
        "from collections import Counter\n",
        "from string import punctuation"
      ],
      "execution_count": 5,
      "outputs": []
    },
    {
      "cell_type": "code",
      "metadata": {
        "colab": {
          "base_uri": "https://localhost:8080/"
        },
        "id": "bK18XC0SrDPq",
        "outputId": "6397a728-442a-4e5f-b00f-68ff2fda7a26"
      },
      "source": [
        "!python -m spacy download en_core_web_lg"
      ],
      "execution_count": 6,
      "outputs": [
        {
          "output_type": "stream",
          "text": [
            "Collecting en_core_web_lg==2.2.5\n",
            "\u001b[?25l  Downloading https://github.com/explosion/spacy-models/releases/download/en_core_web_lg-2.2.5/en_core_web_lg-2.2.5.tar.gz (827.9MB)\n",
            "\u001b[K     |████████████████████████████████| 827.9MB 1.3MB/s \n",
            "\u001b[?25hRequirement already satisfied: spacy>=2.2.2 in /usr/local/lib/python3.7/dist-packages (from en_core_web_lg==2.2.5) (2.2.4)\n",
            "Requirement already satisfied: murmurhash<1.1.0,>=0.28.0 in /usr/local/lib/python3.7/dist-packages (from spacy>=2.2.2->en_core_web_lg==2.2.5) (1.0.5)\n",
            "Requirement already satisfied: setuptools in /usr/local/lib/python3.7/dist-packages (from spacy>=2.2.2->en_core_web_lg==2.2.5) (54.2.0)\n",
            "Requirement already satisfied: wasabi<1.1.0,>=0.4.0 in /usr/local/lib/python3.7/dist-packages (from spacy>=2.2.2->en_core_web_lg==2.2.5) (0.8.2)\n",
            "Requirement already satisfied: numpy>=1.15.0 in /usr/local/lib/python3.7/dist-packages (from spacy>=2.2.2->en_core_web_lg==2.2.5) (1.19.5)\n",
            "Requirement already satisfied: catalogue<1.1.0,>=0.0.7 in /usr/local/lib/python3.7/dist-packages (from spacy>=2.2.2->en_core_web_lg==2.2.5) (1.0.0)\n",
            "Requirement already satisfied: tqdm<5.0.0,>=4.38.0 in /usr/local/lib/python3.7/dist-packages (from spacy>=2.2.2->en_core_web_lg==2.2.5) (4.41.1)\n",
            "Requirement already satisfied: blis<0.5.0,>=0.4.0 in /usr/local/lib/python3.7/dist-packages (from spacy>=2.2.2->en_core_web_lg==2.2.5) (0.4.1)\n",
            "Requirement already satisfied: thinc==7.4.0 in /usr/local/lib/python3.7/dist-packages (from spacy>=2.2.2->en_core_web_lg==2.2.5) (7.4.0)\n",
            "Requirement already satisfied: plac<1.2.0,>=0.9.6 in /usr/local/lib/python3.7/dist-packages (from spacy>=2.2.2->en_core_web_lg==2.2.5) (1.1.3)\n",
            "Requirement already satisfied: cymem<2.1.0,>=2.0.2 in /usr/local/lib/python3.7/dist-packages (from spacy>=2.2.2->en_core_web_lg==2.2.5) (2.0.5)\n",
            "Requirement already satisfied: srsly<1.1.0,>=1.0.2 in /usr/local/lib/python3.7/dist-packages (from spacy>=2.2.2->en_core_web_lg==2.2.5) (1.0.5)\n",
            "Requirement already satisfied: preshed<3.1.0,>=3.0.2 in /usr/local/lib/python3.7/dist-packages (from spacy>=2.2.2->en_core_web_lg==2.2.5) (3.0.5)\n",
            "Requirement already satisfied: requests<3.0.0,>=2.13.0 in /usr/local/lib/python3.7/dist-packages (from spacy>=2.2.2->en_core_web_lg==2.2.5) (2.23.0)\n",
            "Requirement already satisfied: importlib-metadata>=0.20; python_version < \"3.8\" in /usr/local/lib/python3.7/dist-packages (from catalogue<1.1.0,>=0.0.7->spacy>=2.2.2->en_core_web_lg==2.2.5) (3.8.1)\n",
            "Requirement already satisfied: certifi>=2017.4.17 in /usr/local/lib/python3.7/dist-packages (from requests<3.0.0,>=2.13.0->spacy>=2.2.2->en_core_web_lg==2.2.5) (2020.12.5)\n",
            "Requirement already satisfied: urllib3!=1.25.0,!=1.25.1,<1.26,>=1.21.1 in /usr/local/lib/python3.7/dist-packages (from requests<3.0.0,>=2.13.0->spacy>=2.2.2->en_core_web_lg==2.2.5) (1.24.3)\n",
            "Requirement already satisfied: chardet<4,>=3.0.2 in /usr/local/lib/python3.7/dist-packages (from requests<3.0.0,>=2.13.0->spacy>=2.2.2->en_core_web_lg==2.2.5) (3.0.4)\n",
            "Requirement already satisfied: idna<3,>=2.5 in /usr/local/lib/python3.7/dist-packages (from requests<3.0.0,>=2.13.0->spacy>=2.2.2->en_core_web_lg==2.2.5) (2.10)\n",
            "Requirement already satisfied: typing-extensions>=3.6.4; python_version < \"3.8\" in /usr/local/lib/python3.7/dist-packages (from importlib-metadata>=0.20; python_version < \"3.8\"->catalogue<1.1.0,>=0.0.7->spacy>=2.2.2->en_core_web_lg==2.2.5) (3.7.4.3)\n",
            "Requirement already satisfied: zipp>=0.5 in /usr/local/lib/python3.7/dist-packages (from importlib-metadata>=0.20; python_version < \"3.8\"->catalogue<1.1.0,>=0.0.7->spacy>=2.2.2->en_core_web_lg==2.2.5) (3.4.1)\n",
            "Building wheels for collected packages: en-core-web-lg\n",
            "  Building wheel for en-core-web-lg (setup.py) ... \u001b[?25l\u001b[?25hdone\n",
            "  Created wheel for en-core-web-lg: filename=en_core_web_lg-2.2.5-cp37-none-any.whl size=829180944 sha256=7f0b93c177b2430ef371550049538cc72a7bc241d93bd3a73eb108312d185972\n",
            "  Stored in directory: /tmp/pip-ephem-wheel-cache-2g75p8ju/wheels/2a/c1/a6/fc7a877b1efca9bc6a089d6f506f16d3868408f9ff89f8dbfc\n",
            "Successfully built en-core-web-lg\n",
            "Installing collected packages: en-core-web-lg\n",
            "Successfully installed en-core-web-lg-2.2.5\n",
            "\u001b[38;5;2m✔ Download and installation successful\u001b[0m\n",
            "You can now load the model via spacy.load('en_core_web_lg')\n"
          ],
          "name": "stdout"
        }
      ]
    },
    {
      "cell_type": "code",
      "metadata": {
        "id": "UBh-t5ojq0Zw"
      },
      "source": [
        "import en_core_web_lg\n",
        "\n",
        "nlp = en_core_web_lg.load()"
      ],
      "execution_count": 7,
      "outputs": []
    },
    {
      "cell_type": "code",
      "metadata": {
        "id": "IbIBZTx5qi9C"
      },
      "source": [
        "def top_sentence(text, limit):\n",
        "    keyword = []\n",
        "    pos_tag = ['PROPN', 'ADJ', 'NOUN', 'VERB']\n",
        "    doc = nlp(text.lower())\n",
        "    for token in doc:\n",
        "        if(token.text in nlp.Defaults.stop_words or token.text in punctuation):\n",
        "            continue\n",
        "        if(token.pos_ in pos_tag):\n",
        "            keyword.append(token.text)\n",
        "    \n",
        "    freq_word = Counter(keyword)\n",
        "    max_freq = Counter(keyword).most_common(1)[0][1]\n",
        "    for w in freq_word:\n",
        "        freq_word[w] = (freq_word[w]/max_freq)\n",
        "        \n",
        "    sent_strength={}\n",
        "    for sent in doc.sents:\n",
        "        for word in sent:\n",
        "            if word.text in freq_word.keys():\n",
        "                if sent in sent_strength.keys():\n",
        "                    sent_strength[sent]+=freq_word[word.text]\n",
        "                else:\n",
        "                    sent_strength[sent]=freq_word[word.text]\n",
        "    \n",
        "    summary = []\n",
        "    \n",
        "    sorted_x = sorted(sent_strength.items(), key=lambda kv: kv[1], reverse=True)\n",
        "    \n",
        "    counter = 0\n",
        "    for i in range(len(sorted_x)):\n",
        "        summary.append(str(sorted_x[i][0]).capitalize())\n",
        "        #summary.append('\\n')\n",
        "\n",
        "        counter += 1\n",
        "        if(counter >= limit):\n",
        "            break\n",
        "            \n",
        "    return ' '.join(summary)"
      ],
      "execution_count": 8,
      "outputs": []
    },
    {
      "cell_type": "code",
      "metadata": {
        "id": "_fonn-QgqoAi"
      },
      "source": [
        "example_text = '''Yamaha is reminding people that musical equipment cases are for musical equipment — not people — two weeks after fugitive auto titan Carlos Ghosn reportedly was smuggled out of Japan in one. In a tweet over the weekend, the Japanese musical equipment company said it was not naming any names, but noted there had been many recent stories about people getting into musical equipment cases. Yamaha (YAMCY) warned people not to get into, or let others get into, its cases to avoid \"unfortunate accidents.\" Multiple media outlets have reported that Ghosn managed to sneak through a Japanese airport to a private jet that whisked him out of the country by hiding in a large, black music equipment case with breathing holes drilled in the bottom. CNN Business has not independently confirmed those details of his escape. The former Nissan (NSANF) CEO had been out on bail awaiting trial in Japan on charges of financial wrongdoing before making his stunning escape to Lebanon at the end of December. Ghosn has referred to his departure as an effort to \"escape injustice.\" In an interview with CNN\\'s Richard Quest last week, Ghosn did not comment on the nature of his escape, saying he didn\\'t want to endanger any of the people who aided in the operation. Ghosn did, however, respond to a question about what it felt like to ride through the airport in a packing case by first declining to comment but then adding: \"Freedom, no matter the way it happens, is always sweet.\" In a press conference in Lebanon ahead of the CNN interview last Wednesday, Ghosn\\'s first public appearance since fleeing Japan, Ghosn said he decided to leave the country because he believed he would not receive a fair trial, a claim Japanese authorities have disputed. Brands sometimes capitalize on their tangential relationship to big news in order to attract attention on social media. Yamaha is one of Japan\\'s best known brands and Ghosn was one of Japan\\'s top executives before being ousted from Nissan — a match made in social media heaven. Not surprisingly, Yamaha\\'s post went viral on Twitter over the weekend.'''"
      ],
      "execution_count": 9,
      "outputs": []
    },
    {
      "cell_type": "code",
      "metadata": {
        "colab": {
          "base_uri": "https://localhost:8080/"
        },
        "id": "0ZVUZfz3qpaO",
        "outputId": "2ca9b22f-822a-4032-fc6b-514743c6bc06"
      },
      "source": [
        "print(top_sentence(example_text, 3))"
      ],
      "execution_count": 10,
      "outputs": [
        {
          "output_type": "stream",
          "text": [
            "Yamaha is reminding people that musical equipment cases are for musical equipment — not people — two weeks after fugitive auto titan carlos ghosn reportedly was smuggled out of japan in one. In a press conference in lebanon ahead of the cnn interview last wednesday, ghosn's first public appearance since fleeing japan, ghosn said he decided to leave the country because he believed he would not receive a fair trial, a claim japanese authorities have disputed. In a tweet over the weekend, the japanese musical equipment company said it was not naming any names, but noted there had been many recent stories about people getting into musical equipment cases.\n"
          ],
          "name": "stdout"
        }
      ]
    },
    {
      "cell_type": "markdown",
      "metadata": {
        "id": "IuvwiYyXfHAb"
      },
      "source": [
        "**Mais informações:**\n",
        "\n",
        "> https://avinashnavlani.medium.com/text-summarization-using-python-773e064377eb\n",
        "\n",
        "> https://www.geeksforgeeks.org/python-extractive-text-summarization-using-gensim/\n",
        "\n",
        "> https://medium.com/better-programming/extractive-text-summarization-using-spacy-in-python-88ab96d1fd97"
      ]
    }
  ]
}